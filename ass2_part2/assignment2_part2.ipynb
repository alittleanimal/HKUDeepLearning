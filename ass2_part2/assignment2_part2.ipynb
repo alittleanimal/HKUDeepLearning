{
 "cells": [
  {
   "cell_type": "markdown",
   "id": "acoustic-phoenix",
   "metadata": {},
   "source": [
    "## Assignment 2 (part II)\n",
    "In this assignment, you are going to develop a neural machine translation system from scratch. The system will translate sentences from English to Chinese (simplified) with state-of-the-art deep learning techniques. Validation data, including 900 English and Chinese sentence pairs named **val.{en,zh}**, are provided for you to test your model's performance. By the due time, we will release a test data **test.en**, which is comprised of 900 English sentences, for you to translate. You are required to translate those sentences into target language, i.e., simplified Chinese with your system within **ONE** hour. The final result will be scored by [BLEU](https://en.wikipedia.org/wiki/BLEU).\n",
    "\n",
    "Here are some advice to follow:\n",
    "- The trainining sentences can be found in [WMT conference](http://statmt.org/wmt21/translation-task.html), where you can choose **Common Crawl corpus** or **UN Parallel Corpus V1.0**, or both as your training dataset. You are also encouraged to take advantage of as many data as possible to enhance your sysytem.\n",
    "- You are free to choose any neural architecture to build your translation system, e.g., LSTM, CNN, transformer, etc.\n",
    "- It is recommended to use GPU to accelarate the model training.\n",
    "- Consider to use fewer data and less complex model in case you are running out of time.\n",
    "\n",
    "### What you need to submit:\n",
    "1. A file containing translated sentences of the source sentences from the source file **test.en**, which will be released later. Please save the sentences line-by-line to the file named **translate.zh**.\n",
    "2. Two files containing training loss values and validation loss values. The loss is defined as [cross-entropy](https://en.wikipedia.org/wiki/Cross_entropy). We also provide two files, named **train_loss.csv** and **val_loss.csv**, which contain two sample sets, for your reference. Note, for either training or validation, at least 10 loss values are required to submit.\n",
    "3. This notebook.\n",
    "4. Zip all the files and name it with your student ID, e.g., 1234.zip.\n",
    "\n",
    "### When to sumit:\n",
    "- The test date will be released at **7pm, May 3, 2021 (Monday)**. The submission deadline is **8pm, May 3, 2021 (Monday)**. Make sure your system can translate a file which contains 900 English sentences into Chinese sentences in **ONE** hour. You can test this by tranlating the provided validation file **val.en**.\n",
    "\n",
    "**IMPORTANT**\n",
    "- **DO NOT** cheat by either using existing machine translation system, e.g., Google, Microsoft, Baidu, etc, or copying results from your classmates. Once confirmed, your score will be zero. The purpose of this assignment is to encourage you to apply deep learning to a real-world application. Please be reminded that the process is more important than the result.\n",
    "- Please run the remaining cells of this notebook before submission."
   ]
  },
  {
   "cell_type": "code",
   "execution_count": 10,
   "id": "discrete-slide",
   "metadata": {},
   "outputs": [],
   "source": [
    "%matplotlib inline\n",
    "import matplotlib.pyplot as plt\n",
    "import pandas as pd"
   ]
  },
  {
   "cell_type": "markdown",
   "id": "better-decision",
   "metadata": {},
   "source": [
    "### The plot\n",
    "The curves of the tranining/validation losses may look like"
   ]
  },
  {
   "cell_type": "code",
   "execution_count": 5,
   "id": "bearing-friendly",
   "metadata": {},
   "outputs": [],
   "source": [
    "# You can save the loss values (a list) using pandas, e.g.\n",
    "# df = pd.DataFrame(data=train_losses, columns=[\"train_loss\"])\n",
    "# df.to_csv(\"train_loss.csv\")\n",
    "train_losses = pd.read_csv(\"train_loss.csv\", index_col=0)\n",
    "val_losses = pd.read_csv(\"val_loss.csv\", index_col=0)"
   ]
  },
  {
   "cell_type": "code",
   "execution_count": 6,
   "id": "acquired-beverage",
   "metadata": {},
   "outputs": [
    {
     "data": {
      "text/plain": [
       "<AxesSubplot:>"
      ]
     },
     "execution_count": 6,
     "metadata": {},
     "output_type": "execute_result"
    },
    {
     "data": {
      "image/png": "[encoded data removed]",
      "text/plain": [
       "<Figure size 432x288 with 1 Axes>"
      ]
     },
     "metadata": {
      "needs_background": "light"
     },
     "output_type": "display_data"
    },
    {
     "data": {
      "image/png": "[encoded data removed]",
      "text/plain": [
       "<Figure size 432x288 with 1 Axes>"
      ]
     },
     "metadata": {
      "needs_background": "light"
     },
     "output_type": "display_data"
    }
   ],
   "source": [
    "train_losses.plot()\n",
    "val_losses.plot()"
   ]
  },
  {
   "cell_type": "markdown",
   "id": "vocal-spider",
   "metadata": {},
   "source": [
    "### Validate your submission"
   ]
  },
  {
   "cell_type": "code",
   "execution_count": 7,
   "id": "demographic-blind",
   "metadata": {},
   "outputs": [],
   "source": [
    "import os\n",
    "def check_file(file):\n",
    "    if not os.path.isfile(file):\n",
    "        raise FileNotFoundError(f\"{file} not found\")"
   ]
  },
  {
   "cell_type": "code",
   "execution_count": 8,
   "id": "requested-equity",
   "metadata": {},
   "outputs": [],
   "source": [
    "check_file(\"translate.zh\")\n",
    "check_file(\"train_loss.csv\")\n",
    "check_file(\"val_loss.csv\")"
   ]
  },
  {
   "cell_type": "code",
   "execution_count": 9,
   "id": "potential-blair",
   "metadata": {},
   "outputs": [],
   "source": [
    "# Make sure the translated file has the same number of lines as the source file\n",
    "def cnt_file_lines(file):\n",
    "    cnt = 0\n",
    "    with open(file) as fin:\n",
    "        for line in fin:\n",
    "            if line:\n",
    "                cnt += 1\n",
    "    return cnt\n",
    "source_line_num = cnt_file_lines(\"test.en\")\n",
    "target_line_num = cnt_file_lines(\"translate.zh\")\n",
    "assert source_line_num == target_line_num"
   ]
  },
  {
   "cell_type": "code",
   "execution_count": null,
   "id": "executive-model",
   "metadata": {},
   "outputs": [],
   "source": []
  }
 ],
 "metadata": {
  "kernelspec": {
   "display_name": "Python 3",
   "language": "python",
   "name": "python3"
  },
  "language_info": {
   "codemirror_mode": {
    "name": "ipython",
    "version": 3
   },
   "file_extension": ".py",
   "mimetype": "text/x-python",
   "name": "python",
   "nbconvert_exporter": "python",
   "pygments_lexer": "ipython3",
   "version": "3.8.8"
  }
 },
 "nbformat": 4,
 "nbformat_minor": 5
}
