{
 "cells": [
  {
   "cell_type": "markdown",
   "id": "infrared-brunswick",
   "metadata": {
    "deletable": false,
    "editable": false,
    "nbgrader": {
     "cell_type": "markdown",
     "checksum": "02ec15742eac7a752e643a0feb243be8",
     "grade": false,
     "grade_id": "title",
     "locked": true,
     "schema_version": 3,
     "solution": false,
     "task": false
    }
   },
   "source": [
    "# Image Classification of Cifar10 dataset"
   ]
  },
  {
   "cell_type": "markdown",
   "id": "computational-guard",
   "metadata": {
    "deletable": false,
    "editable": false,
    "nbgrader": {
     "cell_type": "markdown",
     "checksum": "03af55d15e6fe43e22d5ac981485fe65",
     "grade": false,
     "grade_id": "introduction",
     "locked": true,
     "schema_version": 3,
     "solution": false,
     "task": false
    }
   },
   "source": [
    "In this assignment, we will train several image classification models using the [CIFAR-10 dataset](https://keras.io/api/datasets/cifar10/). The CIFAR-10 dataset consists of 60000 32x32 colour images in 10 classes, with 6000 images per class. There are 50000 training images and 10000 test images. The training images contain exactly 5000 images from each class and the test images contain exactly 1000 randomly-selected images from each class."
   ]
  },
  {
   "cell_type": "markdown",
   "id": "boxed-slovakia",
   "metadata": {
    "deletable": false,
    "editable": false,
    "nbgrader": {
     "cell_type": "markdown",
     "checksum": "146c3b07f118160996c6c7d2a449f539",
     "grade": false,
     "grade_id": "cell-bf016d6d8ff9f65b",
     "locked": true,
     "schema_version": 3,
     "solution": false,
     "task": false
    }
   },
   "source": [
    "# Important Notes\n",
    "* requirements:\n",
    "  * python 3.6\n",
    "  * tensorflow 2.0.0 (or tensorflow-gpu 2.0.0), h5py 2.10.0, scipy >= 1.5.4, pandas 1.1.5, numpy 1.19, matplotlib\n",
    "  * to install a package like tensorflow with specific version 2.0.0, use <strong> pip3 install tensorflow==2.0.0 </strong>\n",
    "* You are suggested to execute code we provided in order. You can add cells to do experiments, but <strong>DO NOT change code we provided unless it is a function that you need to complete</strong>. In each graded function cell, you should replace \"raise NotImplementedError()\" under \"# YOUR CODE HERE\" by your own answer. For some graded functions, we have already provided some test cases for you. Passing these test cases will guarantee that you can at least get some scores. We have some hidden tests. So passing all tests in this notebook doesn't mean you can get all scores. <strong> Do Not Delete any cell we provided, it may lead to scroing error for some hidden test cases. </strong> If you accidently deleted some graded function cells or test cells, you should download this assignment again. <strong> Adding a new cell and pasting deleted content won't work in this case. </strong>\n",
    "* Only funtions specified in the Graded Function part will be graded. Other parts will be ignored during grading.\n",
    "* <strong> Rename this ps1.ipynb file as <your_hku_student_id>.ipynb to submit </strong>. For example, if your student id is 1234567890, then your should rename ps1.ipynb as 1234567890.ipynb.\n",
    "* GPU is not required. But if you want to run the training code faster, you can use GPU. [How to use HKU GPU](https://www.cs.hku.hk/gpu-farm/home). Another option is to use [google colab](https://colab.research.google.com/notebooks/intro.ipynb#recent=true)."
   ]
  },
  {
   "cell_type": "markdown",
   "id": "single-lancaster",
   "metadata": {
    "deletable": false,
    "editable": false,
    "nbgrader": {
     "cell_type": "markdown",
     "checksum": "7cac77f6f980abb4b94d676380576b03",
     "grade": false,
     "grade_id": "cell-75a72d11d23cfb4b",
     "locked": true,
     "schema_version": 3,
     "solution": false,
     "task": false
    }
   },
   "source": [
    "# Sections\n",
    "* [Data Process](#dp)\n",
    "* [MLP Classifier](#mlp)\n",
    "* [CNN Classifier](#cnn)\n",
    "* [Transfer Learning](#tl)\n",
    "* [Data Augmentation](#da)"
   ]
  },
  {
   "cell_type": "code",
   "execution_count": 2,
   "id": "maritime-anthropology",
   "metadata": {
    "deletable": false,
    "editable": false,
    "nbgrader": {
     "cell_type": "code",
     "checksum": "784110bc6d126d1bdf6962a866b66146",
     "grade": false,
     "grade_id": "cell-a161f46ed06a3af1",
     "locked": true,
     "schema_version": 3,
     "solution": false,
     "task": false
    }
   },
   "outputs": [],
   "source": [
    "### import modules\n",
    "import numpy as np\n",
    "import matplotlib.pyplot as plt\n",
    "import tensorflow as tf\n",
    "from tensorflow.keras.models import Sequential\n",
    "from tensorflow.keras.layers import Flatten, Dense, Conv2D, MaxPool2D, BatchNormalization, Dropout\n",
    "from tensorflow.keras.callbacks import EarlyStopping\n",
    "from tensorflow.keras.datasets import cifar10\n",
    "from tensorflow.keras.preprocessing.image import ImageDataGenerator\n",
    "import pandas as pd\n",
    "import scipy\n",
    "\n",
    "%matplotlib inline"
   ]
  },
  {
   "cell_type": "markdown",
   "id": "covered-daisy",
   "metadata": {},
   "source": [
    "<a name='dp'></a>\n",
    "# 1. Data Process"
   ]
  },
  {
   "cell_type": "markdown",
   "id": "loved-superior",
   "metadata": {
    "deletable": false,
    "editable": false,
    "nbgrader": {
     "cell_type": "markdown",
     "checksum": "f2aac36bbd70974b8148fcbacb9443f3",
     "grade": false,
     "grade_id": "load_data",
     "locked": true,
     "schema_version": 3,
     "solution": false,
     "task": false
    }
   },
   "source": [
    "## Graded Function:\n",
    "Complete the load_data function below. You should:\n",
    "* load cifar10 dataset using the tf.keras.datasets api (check [this link](https://keras.io/api/datasets/cifar10/))\n",
    "* rescale pixel values of x_train, x_test to range \\[0,1\\] by dividing them by 255.0 \n",
    "* reshape y_train, y_test to shape (-1,)\n",
    "* return the dataset in this format: (x_train, y_train), (x_test, y_test)"
   ]
  },
  {
   "cell_type": "code",
   "execution_count": 3,
   "id": "round-quarterly",
   "metadata": {
    "deletable": false,
    "nbgrader": {
     "cell_type": "code",
     "checksum": "aed969d84211a3a57c8ef1ef17a55b9f",
     "grade": false,
     "grade_id": "cell-97f8e73630646669",
     "locked": false,
     "schema_version": 3,
     "solution": true,
     "task": false
    }
   },
   "outputs": [],
   "source": [
    "def load_data():\n",
    "    \"\"\"load cifar10 dataset using the tf.keras.datasets api and \n",
    "    return the loaded data as two tuples: (x_train, y_train), (x_test, y_test)\n",
    "    \"\"\"\n",
    "    # YOUR CODE HERE\n",
    "    (x_train, y_train), (x_test, y_test) = tf.keras.datasets.cifar10.load_data()\n",
    "    x_train=x_train/255\n",
    "    x_test=x_test/255\n",
    "    #reshape y_train, y_test to shape (-1,)\n",
    "    y_train=y_train.reshape(-1)\n",
    "    y_test=y_test.reshape(-1)\n",
    "\n",
    "    return (x_train, y_train), (x_test, y_test)"
   ]
  },
  {
   "cell_type": "code",
   "execution_count": 4,
   "id": "unavailable-briefs",
   "metadata": {
    "deletable": false,
    "editable": false,
    "nbgrader": {
     "cell_type": "code",
     "checksum": "d84991ee81d69a15cca6867303c157d7",
     "grade": true,
     "grade_id": "cell-297fed09a2ea97c2",
     "locked": true,
     "points": 1,
     "schema_version": 3,
     "solution": false,
     "task": false
    }
   },
   "outputs": [],
   "source": [
    "(test_x_train, test_y_train), (test_x_test, test_y_test) = load_data()\n",
    "assert test_x_train.shape == (50000, 32, 32, 3)\n",
    "assert test_y_train.shape == (50000,)\n",
    "assert test_x_test.shape == (10000, 32, 32, 3)\n",
    "assert test_y_test.shape == (10000,)"
   ]
  },
  {
   "cell_type": "code",
   "execution_count": 5,
   "id": "composite-nicaragua",
   "metadata": {
    "deletable": false,
    "editable": false,
    "nbgrader": {
     "cell_type": "code",
     "checksum": "bdd1b9869b84ce9085cbb8f71785a9bb",
     "grade": true,
     "grade_id": "cell-1ae3e5a738197831",
     "locked": true,
     "points": 1,
     "schema_version": 3,
     "solution": false,
     "task": false
    }
   },
   "outputs": [],
   "source": [
    "# this cell contains a hiddent test, don't delete this cell"
   ]
  },
  {
   "cell_type": "code",
   "execution_count": 6,
   "id": "talented-suggestion",
   "metadata": {
    "deletable": false,
    "editable": false,
    "nbgrader": {
     "cell_type": "code",
     "checksum": "16affe67e51713735542497696df6dfd",
     "grade": false,
     "grade_id": "cell-508069c51b35a92d",
     "locked": true,
     "schema_version": 3,
     "solution": false,
     "task": false
    }
   },
   "outputs": [
    {
     "data": {
      "image/png": "[encoded data removed]",
      "text/plain": [
       "<Figure size 1080x1080 with 5 Axes>"
      ]
     },
     "metadata": {},
     "output_type": "display_data"
    }
   ],
   "source": [
    "# load the data using load_data function\n",
    "(x_train, y_train), (x_test, y_test) = load_data()\n",
    "\n",
    "# show the first five train images and its label\n",
    "classes = [\"airplane\",\"automobile\", \"bird\", \"cat\", \"deer\",\n",
    "          \"dog\", \"frog\", \"horse\", \"ship\", \"truck\"]\n",
    "fig, axs = plt.subplots(1,5, figsize=(15,15))\n",
    "for i in range(5):\n",
    "    axs[i].imshow(x_train[i])\n",
    "    axs[i].set_title(classes[y_train[i]])\n",
    "    axs[i].set_xticks([])\n",
    "    axs[i].set_yticks([])\n",
    "plt.show()"
   ]
  },
  {
   "cell_type": "markdown",
   "id": "chemical-yellow",
   "metadata": {
    "deletable": false,
    "editable": false,
    "nbgrader": {
     "cell_type": "markdown",
     "checksum": "2472dcc8c38b6d3d01d44e2e2545042e",
     "grade": false,
     "grade_id": "cell-4a8233221b37dcc9",
     "locked": true,
     "schema_version": 3,
     "solution": false,
     "task": false
    }
   },
   "source": [
    "# Graded Function:\n",
    "You will complete the create_dataset function below. This function will take five arguments (images, labels, batch_size, buffer_size, seed). Later on you will pass in (x_train, y_train, augment_map) and (x_test, y_test, augment_map) to create datasets. You should create a dataset with the following steps:\n",
    "* first create a tf.data.Dataset object using tf.data.Dataset.from_tensor_slices method. Each element of the resulting dataset should be a tuple (image, label)\n",
    "* batch the dataset with batch size set to the batch_size argument\n",
    "* shuffle the dataset with shuffle buffer size set to buffer_size argument, shuffle seed set to seed argument and set reshuffle_each_iteration to False\n",
    "* return the dataset you created"
   ]
  },
  {
   "cell_type": "code",
   "execution_count": 7,
   "id": "permanent-sleeping",
   "metadata": {
    "deletable": false,
    "nbgrader": {
     "cell_type": "code",
     "checksum": "16069f01647c3c5e917e805ed6a9ef62",
     "grade": false,
     "grade_id": "cell-7921dd9e4356073b",
     "locked": false,
     "schema_version": 3,
     "solution": true,
     "task": false
    }
   },
   "outputs": [],
   "source": [
    "def create_dataset(images, labels, batch_size, buffer_size=10_000, seed=None):\n",
    "    # YOUR CODE HERE\n",
    "    dataset = tf.data.Dataset.from_tensor_slices((images, labels)).shuffle(buffer_size,seed,False).batch(batch_size)\n",
    "    return dataset"
   ]
  },
  {
   "cell_type": "code",
   "execution_count": 8,
   "id": "operational-procedure",
   "metadata": {
    "deletable": false,
    "editable": false,
    "nbgrader": {
     "cell_type": "code",
     "checksum": "a098bfbec3970d6c3c797d36d2c667cd",
     "grade": true,
     "grade_id": "cell-5e646e842306ee85",
     "locked": true,
     "points": 1,
     "schema_version": 3,
     "solution": false,
     "task": false
    }
   },
   "outputs": [],
   "source": [
    "(test_x_train, test_y_train), (test_x_test, test_y_test) = cifar10.load_data()\n",
    "dataset_1 = create_dataset(test_x_test, test_y_test, batch_size=32, seed=200)\n",
    "assert isinstance(dataset_1, tf.data.Dataset)\n",
    "example = next(iter(dataset_1))\n",
    "example_2 = next(iter(dataset_1))\n",
    "assert example[0].shape == (32,32,32,3)\n",
    "assert example[1].shape == (32,1)\n",
    "assert example_2[0].shape == (32,32,32,3)\n",
    "assert example_2[1].shape == (32,1)\n",
    "del test_x_train\n",
    "del test_y_train\n",
    "del test_x_test\n",
    "del test_y_test"
   ]
  },
  {
   "cell_type": "code",
   "execution_count": 9,
   "id": "enormous-disabled",
   "metadata": {
    "deletable": false,
    "editable": false,
    "nbgrader": {
     "cell_type": "code",
     "checksum": "bcd0c3e58ddf70d9f3d3fe924991cb9b",
     "grade": true,
     "grade_id": "cell-3179a91c879b3cb6",
     "locked": true,
     "points": 1,
     "schema_version": 3,
     "solution": false,
     "task": false
    }
   },
   "outputs": [],
   "source": [
    "# this cell contains a hiddent test, don't delete this cell"
   ]
  },
  {
   "cell_type": "code",
   "execution_count": 10,
   "id": "public-advancement",
   "metadata": {
    "deletable": false,
    "editable": false,
    "nbgrader": {
     "cell_type": "code",
     "checksum": "9fa3d57cc9847031fd1d57023548907e",
     "grade": false,
     "grade_id": "cell-5914d434c0416418",
     "locked": true,
     "schema_version": 3,
     "solution": false,
     "task": false
    }
   },
   "outputs": [
    {
     "name": "stdout",
     "output_type": "stream",
     "text": [
      "(TensorSpec(shape=(None, 32, 32, 3), dtype=tf.float64, name=None), TensorSpec(shape=(None,), dtype=tf.uint8, name=None))\n",
      "(TensorSpec(shape=(None, 32, 32, 3), dtype=tf.float64, name=None), TensorSpec(shape=(None,), dtype=tf.uint8, name=None))\n"
     ]
    }
   ],
   "source": [
    "# create train and test datasets\n",
    "train_dataset = create_dataset(x_train, y_train, batch_size=32)\n",
    "test_dataset = create_dataset(x_test, y_test, batch_size=32)\n",
    "print(train_dataset.element_spec)\n",
    "print(test_dataset.element_spec)"
   ]
  },
  {
   "cell_type": "markdown",
   "id": "defensive-burner",
   "metadata": {
    "deletable": false,
    "editable": false,
    "nbgrader": {
     "cell_type": "markdown",
     "checksum": "30b58b23f177841aa5676abea54272b2",
     "grade": false,
     "grade_id": "cell-b554ce91618e3daa",
     "locked": true,
     "schema_version": 3,
     "solution": false,
     "task": false
    }
   },
   "source": [
    "<a name='mlp'></a>\n",
    "# Graded Function:\n",
    "## 2. MLP neural network classifier\n",
    "Complete the build_mlp_model function below. The following requirements must be satisfied:\n",
    "* Build a MLP classifier model using the Sequential API. Your model should use only Flatten and Dense layers, with the final layer having a 10-way softmax output. \n",
    "* the paramter units is a list of integers and input_shape is a list or a tuple of integers.\n",
    "* you should use the tf.keras.models.Sequential api.\n",
    "* the first layer is a Flatten layer, you should set the input shape of this layer to the input_shape parameter of the function\n",
    "* the first layer is followed by len(units) dense layers. Intergers in the units list specify the number of units in these Dense layers (one by one). All these layers have ReLU activation function\n",
    "* then a final Dense layer is followed. This final dense layer has 10 units. A softmax activation function is used in this layer.\n",
    "* return the model"
   ]
  },
  {
   "cell_type": "code",
   "execution_count": 22,
   "id": "danish-effectiveness",
   "metadata": {
    "deletable": false,
    "nbgrader": {
     "cell_type": "code",
     "checksum": "25768b9d374d415c530ce2bc9d62979b",
     "grade": false,
     "grade_id": "cell-b66968fd0f156c40",
     "locked": false,
     "schema_version": 3,
     "solution": true,
     "task": false
    }
   },
   "outputs": [],
   "source": [
    "def build_mlp_model(units, input_shape):\n",
    "    model = Sequential()\n",
    "    # YOUR CODE HERE\n",
    "    model.add(Flatten(input_shape=input_shape))\n",
    "    for unit in units:\n",
    "        model.add(Dense(unit, activation='relu'))\n",
    "    model.add(Dense(10, activation='softmax'))\n",
    "    return model"
   ]
  },
  {
   "cell_type": "code",
   "execution_count": 23,
   "id": "given-watch",
   "metadata": {
    "deletable": false,
    "editable": false,
    "nbgrader": {
     "cell_type": "code",
     "checksum": "02d9452dea62bbc8595e81bcdc75e961",
     "grade": true,
     "grade_id": "cell-3242110d64a75410",
     "locked": true,
     "points": 1,
     "schema_version": 3,
     "solution": false,
     "task": false
    }
   },
   "outputs": [],
   "source": [
    "test_units = [32]\n",
    "test_shape = [16, 16]\n",
    "test_model = build_mlp_model(test_units, test_shape)\n",
    "assert isinstance(test_model, tf.keras.models.Model)\n",
    "assert len(test_model.layers) == len(test_units) + 2\n",
    "assert test_model.layers[0].input_shape == (None, 16, 16)\n",
    "assert isinstance(test_model.layers[0], Flatten)\n",
    "config = test_model.layers[1].get_config()\n",
    "assert isinstance(test_model.layers[1], Dense)\n",
    "assert config['activation'] == 'relu'\n",
    "assert config['units'] == test_units[0]\n",
    "assert isinstance(test_model.layers[-1], Dense)\n",
    "config = test_model.layers[-1].get_config()\n",
    "assert isinstance(test_model.layers[-1], Dense)\n",
    "assert config['activation'] == 'softmax'\n",
    "assert config['units'] == 10\n",
    "del test_model"
   ]
  },
  {
   "cell_type": "code",
   "execution_count": 24,
   "id": "aerial-shift",
   "metadata": {
    "deletable": false,
    "editable": false,
    "nbgrader": {
     "cell_type": "code",
     "checksum": "05ea50fef314058d646d2107eadb8cef",
     "grade": true,
     "grade_id": "cell-f86159b994adcf94",
     "locked": true,
     "points": 1,
     "schema_version": 3,
     "solution": false,
     "task": false
    }
   },
   "outputs": [],
   "source": [
    "# this cell contains a hiddent test, don't delete this cell"
   ]
  },
  {
   "cell_type": "code",
   "execution_count": 25,
   "id": "assumed-philadelphia",
   "metadata": {
    "deletable": false,
    "editable": false,
    "nbgrader": {
     "cell_type": "code",
     "checksum": "f1a3c4b6abf17bc63544122c6526fa07",
     "grade": false,
     "grade_id": "cell-ca4c7576bab2036f",
     "locked": true,
     "schema_version": 3,
     "solution": false,
     "task": false
    }
   },
   "outputs": [
    {
     "name": "stdout",
     "output_type": "stream",
     "text": [
      "Model: \"sequential_3\"\n",
      "_________________________________________________________________\n",
      "Layer (type)                 Output Shape              Param #   \n",
      "=================================================================\n",
      "flatten_3 (Flatten)          (None, 3072)              0         \n",
      "_________________________________________________________________\n",
      "dense_8 (Dense)              (None, 64)                196672    \n",
      "_________________________________________________________________\n",
      "dense_9 (Dense)              (None, 32)                2080      \n",
      "_________________________________________________________________\n",
      "dense_10 (Dense)             (None, 32)                1056      \n",
      "_________________________________________________________________\n",
      "dense_11 (Dense)             (None, 10)                330       \n",
      "=================================================================\n",
      "Total params: 200,138\n",
      "Trainable params: 200,138\n",
      "Non-trainable params: 0\n",
      "_________________________________________________________________\n"
     ]
    }
   ],
   "source": [
    "# create model and print out the model summary\n",
    "# units = [64,32]\n",
    "units = [64,32, 32]\n",
    "mlp_model = build_mlp_model(units, x_train.shape[1:])\n",
    "mlp_model.summary()"
   ]
  },
  {
   "cell_type": "markdown",
   "id": "sixth-exhaust",
   "metadata": {
    "deletable": false,
    "editable": false,
    "nbgrader": {
     "cell_type": "markdown",
     "checksum": "2f8b720e07b80538533a905766209286",
     "grade": false,
     "grade_id": "cell-a365af1538ac3bc6",
     "locked": true,
     "schema_version": 3,
     "solution": false,
     "task": false
    }
   },
   "source": [
    "# Graded Function:\n",
    "Complete the compile_model function below. Complie the model using the compile method of tf.keras.Model class:\n",
    "* use the adam optimizer with default parameters\n",
    "* use the sparse categorical crossentropy loss\n",
    "* use only the accuracy metric\n",
    "* this function shouldn't return anything (the model passed in will keep all the settings you compiled in this function)"
   ]
  },
  {
   "cell_type": "code",
   "execution_count": 26,
   "id": "killing-freeware",
   "metadata": {
    "deletable": false,
    "nbgrader": {
     "cell_type": "code",
     "checksum": "bc71467ec04e3ad654b47cb89ee9f442",
     "grade": false,
     "grade_id": "cell-87d0e04a58f356a6",
     "locked": false,
     "schema_version": 3,
     "solution": true,
     "task": false
    }
   },
   "outputs": [],
   "source": [
    "def compile_model(model):\n",
    "    # YOUR CODE HERE\n",
    "    model.compile(optimizer='adam',\n",
    "                  loss='sparse_categorical_crossentropy',\n",
    "                  metrics=['accuracy'])"
   ]
  },
  {
   "cell_type": "code",
   "execution_count": 27,
   "id": "romantic-giving",
   "metadata": {
    "deletable": false,
    "editable": false,
    "nbgrader": {
     "cell_type": "code",
     "checksum": "37730a73c5aa2ac2e658fa79929ae359",
     "grade": false,
     "grade_id": "cell-798a4acf2b6e552c",
     "locked": true,
     "schema_version": 3,
     "solution": false,
     "task": false
    }
   },
   "outputs": [],
   "source": [
    "# compile the multi layer perceptron model\n",
    "compile_model(mlp_model)"
   ]
  },
  {
   "cell_type": "code",
   "execution_count": 28,
   "id": "concrete-draft",
   "metadata": {
    "deletable": false,
    "editable": false,
    "nbgrader": {
     "cell_type": "code",
     "checksum": "288d796c6dd074c7ccb2151e9075de46",
     "grade": true,
     "grade_id": "cell-f7ce6ff6f6bd668f",
     "locked": true,
     "points": 1,
     "schema_version": 3,
     "solution": false,
     "task": false
    }
   },
   "outputs": [],
   "source": [
    "test_model = Sequential([Dense(100),\n",
    "                        Dense(2, activation='softmax')])\n",
    "compile_model(test_model)\n",
    "assert isinstance(test_model.optimizer, tf.keras.optimizers.Adam)\n",
    "assert hasattr(test_model, 'loss')\n",
    "assert test_model.loss == 'sparse_categorical_crossentropy'\n",
    "assert ['accuracy'] == test_model._compile_metrics\n",
    "del test_model"
   ]
  },
  {
   "cell_type": "code",
   "execution_count": 29,
   "id": "blind-faculty",
   "metadata": {
    "deletable": false,
    "editable": false,
    "nbgrader": {
     "cell_type": "code",
     "checksum": "55291fc4efcdf36019cb9700630722a9",
     "grade": false,
     "grade_id": "cell-7d801b7ce289595e",
     "locked": true,
     "schema_version": 3,
     "solution": false,
     "task": false
    }
   },
   "outputs": [
    {
     "name": "stdout",
     "output_type": "stream",
     "text": [
      "Epoch 1/30\n",
      "1563/1563 [==============================] - 19s 12ms/step - loss: 1.9219 - accuracy: 0.2906 - val_loss: 0.0000e+00 - val_accuracy: 0.0000e+00\n",
      "Epoch 2/30\n",
      "1563/1563 [==============================] - 15s 10ms/step - loss: 1.7620 - accuracy: 0.3647 - val_loss: 1.7235 - val_accuracy: 0.3798\n",
      "Epoch 3/30\n",
      "1563/1563 [==============================] - 15s 9ms/step - loss: 1.6987 - accuracy: 0.3881 - val_loss: 1.7149 - val_accuracy: 0.3837\n",
      "Epoch 4/30\n",
      "1563/1563 [==============================] - 15s 9ms/step - loss: 1.6624 - accuracy: 0.4009 - val_loss: 1.6970 - val_accuracy: 0.3904\n",
      "Epoch 5/30\n",
      "1563/1563 [==============================] - 15s 9ms/step - loss: 1.6400 - accuracy: 0.4089 - val_loss: 1.6525 - val_accuracy: 0.4073\n",
      "Epoch 6/30\n",
      "1563/1563 [==============================] - 15s 10ms/step - loss: 1.6203 - accuracy: 0.4157 - val_loss: 1.6525 - val_accuracy: 0.4084\n",
      "Epoch 7/30\n",
      "1563/1563 [==============================] - 15s 10ms/step - loss: 1.6040 - accuracy: 0.4236 - val_loss: 1.6373 - val_accuracy: 0.4189\n",
      "Epoch 8/30\n",
      "1563/1563 [==============================] - 14s 9ms/step - loss: 1.5907 - accuracy: 0.4275 - val_loss: 1.6445 - val_accuracy: 0.4160\n",
      "Epoch 9/30\n",
      "1563/1563 [==============================] - 14s 9ms/step - loss: 1.5800 - accuracy: 0.4311 - val_loss: 1.6227 - val_accuracy: 0.4244\n",
      "Epoch 10/30\n",
      "1563/1563 [==============================] - 15s 9ms/step - loss: 1.5705 - accuracy: 0.4351 - val_loss: 1.6209 - val_accuracy: 0.4236\n",
      "Epoch 11/30\n",
      "1563/1563 [==============================] - 15s 9ms/step - loss: 1.5622 - accuracy: 0.4382 - val_loss: 1.6197 - val_accuracy: 0.4221\n",
      "Epoch 12/30\n",
      "1563/1563 [==============================] - 15s 10ms/step - loss: 1.5528 - accuracy: 0.4410 - val_loss: 1.6249 - val_accuracy: 0.4245\n",
      "Epoch 13/30\n",
      "1563/1563 [==============================] - 15s 10ms/step - loss: 1.5470 - accuracy: 0.4442 - val_loss: 1.6276 - val_accuracy: 0.4233\n",
      "Epoch 14/30\n",
      "1563/1563 [==============================] - 15s 10ms/step - loss: 1.5395 - accuracy: 0.4464 - val_loss: 1.6291 - val_accuracy: 0.4225\n",
      "Epoch 15/30\n",
      "1563/1563 [==============================] - 16s 10ms/step - loss: 1.5347 - accuracy: 0.4475 - val_loss: 1.6150 - val_accuracy: 0.4263\n",
      "Epoch 16/30\n",
      "1563/1563 [==============================] - 15s 10ms/step - loss: 1.5299 - accuracy: 0.4485 - val_loss: 1.6271 - val_accuracy: 0.4262\n",
      "Epoch 17/30\n",
      "1563/1563 [==============================] - 15s 9ms/step - loss: 1.5238 - accuracy: 0.4512 - val_loss: 1.6044 - val_accuracy: 0.4328\n",
      "Epoch 18/30\n",
      "1563/1563 [==============================] - 14s 9ms/step - loss: 1.5188 - accuracy: 0.4517 - val_loss: 1.6113 - val_accuracy: 0.4297\n",
      "Epoch 19/30\n",
      "1563/1563 [==============================] - 14s 9ms/step - loss: 1.5169 - accuracy: 0.4537 - val_loss: 1.6090 - val_accuracy: 0.4335\n",
      "Epoch 20/30\n",
      "1563/1563 [==============================] - 16s 10ms/step - loss: 1.5110 - accuracy: 0.4561 - val_loss: 1.6250 - val_accuracy: 0.4253\n",
      "Epoch 21/30\n",
      "1563/1563 [==============================] - 14s 9ms/step - loss: 1.5095 - accuracy: 0.4583 - val_loss: 1.6227 - val_accuracy: 0.4237\n",
      "Epoch 22/30\n",
      "1563/1563 [==============================] - 15s 9ms/step - loss: 1.5049 - accuracy: 0.4591 - val_loss: 1.6133 - val_accuracy: 0.4286\n",
      "Epoch 23/30\n",
      "1563/1563 [==============================] - 14s 9ms/step - loss: 1.5023 - accuracy: 0.4600 - val_loss: 1.6058 - val_accuracy: 0.4314\n",
      "Epoch 24/30\n",
      "1563/1563 [==============================] - 15s 10ms/step - loss: 1.4985 - accuracy: 0.4615 - val_loss: 1.6168 - val_accuracy: 0.4265\n"
     ]
    }
   ],
   "source": [
    "# train mlp model\n",
    "early_stop = EarlyStopping(patience=5, monitor='val_accuracy')\n",
    "history = mlp_model.fit(train_dataset, epochs=30, validation_data=test_dataset, callbacks=[early_stop])"
   ]
  },
  {
   "cell_type": "code",
   "execution_count": 30,
   "id": "mineral-national",
   "metadata": {
    "deletable": false,
    "editable": false,
    "nbgrader": {
     "cell_type": "code",
     "checksum": "e181e4aebf0509ca6814cf9d2fa446a5",
     "grade": false,
     "grade_id": "cell-1e339267cf214ef9",
     "locked": true,
     "schema_version": 3,
     "solution": false,
     "task": false
    }
   },
   "outputs": [
    {
     "data": {
      "text/html": [
       "<div>\n",
       "<style scoped>\n",
       "    .dataframe tbody tr th:only-of-type {\n",
       "        vertical-align: middle;\n",
       "    }\n",
       "\n",
       "    .dataframe tbody tr th {\n",
       "        vertical-align: top;\n",
       "    }\n",
       "\n",
       "    .dataframe thead th {\n",
       "        text-align: right;\n",
       "    }\n",
       "</style>\n",
       "<table border=\"1\" class=\"dataframe\">\n",
       "  <thead>\n",
       "    <tr style=\"text-align: right;\">\n",
       "      <th></th>\n",
       "      <th>loss</th>\n",
       "      <th>accuracy</th>\n",
       "      <th>val_loss</th>\n",
       "      <th>val_accuracy</th>\n",
       "    </tr>\n",
       "  </thead>\n",
       "  <tbody>\n",
       "    <tr>\n",
       "      <th>0</th>\n",
       "      <td>1.921900</td>\n",
       "      <td>0.29060</td>\n",
       "      <td>1.859401</td>\n",
       "      <td>0.3234</td>\n",
       "    </tr>\n",
       "    <tr>\n",
       "      <th>1</th>\n",
       "      <td>1.762085</td>\n",
       "      <td>0.36466</td>\n",
       "      <td>1.723505</td>\n",
       "      <td>0.3798</td>\n",
       "    </tr>\n",
       "    <tr>\n",
       "      <th>2</th>\n",
       "      <td>1.698744</td>\n",
       "      <td>0.38812</td>\n",
       "      <td>1.714910</td>\n",
       "      <td>0.3837</td>\n",
       "    </tr>\n",
       "    <tr>\n",
       "      <th>3</th>\n",
       "      <td>1.662535</td>\n",
       "      <td>0.40088</td>\n",
       "      <td>1.697036</td>\n",
       "      <td>0.3904</td>\n",
       "    </tr>\n",
       "    <tr>\n",
       "      <th>4</th>\n",
       "      <td>1.640104</td>\n",
       "      <td>0.40892</td>\n",
       "      <td>1.652498</td>\n",
       "      <td>0.4073</td>\n",
       "    </tr>\n",
       "  </tbody>\n",
       "</table>\n",
       "</div>"
      ],
      "text/plain": [
       "       loss  accuracy  val_loss  val_accuracy\n",
       "0  1.921900   0.29060  1.859401        0.3234\n",
       "1  1.762085   0.36466  1.723505        0.3798\n",
       "2  1.698744   0.38812  1.714910        0.3837\n",
       "3  1.662535   0.40088  1.697036        0.3904\n",
       "4  1.640104   0.40892  1.652498        0.4073"
      ]
     },
     "execution_count": 30,
     "metadata": {},
     "output_type": "execute_result"
    }
   ],
   "source": [
    "# create loss, accuracy dataframe\n",
    "df = pd.DataFrame(history.history)\n",
    "df.head()"
   ]
  },
  {
   "cell_type": "code",
   "execution_count": 31,
   "id": "early-instrumentation",
   "metadata": {
    "deletable": false,
    "editable": false,
    "nbgrader": {
     "cell_type": "code",
     "checksum": "b4bb6df2885aa2897bf69e108c029bb8",
     "grade": false,
     "grade_id": "cell-2401e3f55f31ca20",
     "locked": true,
     "schema_version": 3,
     "solution": false,
     "task": false
    }
   },
   "outputs": [
    {
     "data": {
      "image/png": "[encoded data removed]",
      "text/plain": [
       "<Figure size 576x252 with 2 Axes>"
      ]
     },
     "metadata": {
      "needs_background": "light"
     },
     "output_type": "display_data"
    }
   ],
   "source": [
    "# plot loss and accuracy against epoch\n",
    "fig, axes = plt.subplots(nrows=1, ncols=2, figsize=(8,3.5))\n",
    "df.plot(y=['loss', 'val_loss'], ax=axes[0], title='loss vs epcoh')\n",
    "df.plot(y=['accuracy', 'val_accuracy'], ax=axes[1], title='accuracy vs epoch')\n",
    "axes[0].set_xlabel('epoch')\n",
    "axes[0].set_ylabel('loss')\n",
    "axes[1].set_xlabel('epoch')\n",
    "axes[1].set_ylabel('accuracy')\n",
    "plt.subplots_adjust(wspace=0.5)"
   ]
  },
  {
   "cell_type": "code",
   "execution_count": 32,
   "id": "effective-scheduling",
   "metadata": {
    "deletable": false,
    "editable": false,
    "nbgrader": {
     "cell_type": "code",
     "checksum": "5347fad3861239b70ea23a272ff3f6e7",
     "grade": false,
     "grade_id": "cell-c07c3013d8f8d74e",
     "locked": true,
     "schema_version": 3,
     "solution": false,
     "task": false
    }
   },
   "outputs": [
    {
     "name": "stdout",
     "output_type": "stream",
     "text": [
      "313/313 - 1s - loss: 1.6168 - accuracy: 0.4265\n"
     ]
    },
    {
     "data": {
      "text/plain": [
       "[1.6167626506604327, 0.4265]"
      ]
     },
     "execution_count": 32,
     "metadata": {},
     "output_type": "execute_result"
    }
   ],
   "source": [
    "# evaluate the model on the test set\n",
    "mlp_model.evaluate(test_dataset, verbose=2)"
   ]
  },
  {
   "cell_type": "markdown",
   "id": "bored-complement",
   "metadata": {
    "deletable": false,
    "editable": false,
    "nbgrader": {
     "cell_type": "markdown",
     "checksum": "3474531cc90298ef03204b307d438c67",
     "grade": false,
     "grade_id": "cell-1a5e805c1e5bdc7d",
     "locked": true,
     "schema_version": 3,
     "solution": false,
     "task": false
    }
   },
   "source": [
    "<a name='cnn'></a>\n",
    "# Graded Function:\n",
    "## 3. CNN neural network classifier\n",
    "Complete the build_cnn_model below using the Sequential API. You should:\n",
    "* Build a CNN classifier model using the Sequential API. Your model should use the Conv2D, MaxPool2D, BatchNormalization, Flatten, Dense and Dropout layers. The final layer should again have a 10-way softmax output. \n",
    "* the first layer is a Conv2D layer with 16 filters, (3,3) kernel size, ReLU activation, 'SAME' padding, and input_shape set to be input_shape parameter of the function\n",
    "* then a MaxPool2D layer with pool size (2,2)\n",
    "* then a Dropout layer with drop out rate set to be dropout_rate parameter of the function\n",
    "* then a Conv2D layer with 8 filters, (3,3) kernel size, ReLU activation, 'SAME' padding\n",
    "* then a MaxPool2D layer with pool size (2,2)\n",
    "* then a Dropout layer with drop out rate set to be dropout_rate parameter of the function\n",
    "* then a Flatten layer\n",
    "* then a Dense layer with 64 units and ReLU activation\n",
    "* then a BatchNormalization layer\n",
    "* then a Dropout layer with drop out rate set to be dropout_rate parameter of the function\n",
    "* then a Dense layer with 32 units and ReLU activation\n",
    "* then a BatchNormalization layer\n",
    "* then a Dropout layer with drop out rate set to be dropout_rate parameter of the function\n",
    "* then a final dense layer with 10 units and softmax activation function\n",
    "* return the model"
   ]
  },
  {
   "cell_type": "code",
   "execution_count": 12,
   "id": "under-sender",
   "metadata": {
    "deletable": false,
    "nbgrader": {
     "cell_type": "code",
     "checksum": "32d975e6b592dd7d882615f251dae99c",
     "grade": false,
     "grade_id": "cell-ce44f0d360354335",
     "locked": false,
     "schema_version": 3,
     "solution": true,
     "task": false
    }
   },
   "outputs": [],
   "source": [
    "def build_cnn_model(input_shape, dropout_rate):\n",
    "    model = Sequential()\n",
    "    # YOUR CODE HERE\n",
    "    model.add(Conv2D(16, kernel_size=(3, 3), activation='relu', padding='SAME', input_shape = input_shape))\n",
    "    model.add(MaxPool2D(pool_size=(2, 2)))\n",
    "    model.add(Dropout(dropout_rate))\n",
    "    model.add(Conv2D(8, kernel_size=(3, 3), activation='relu', padding='SAME'))\n",
    "    model.add(MaxPool2D(pool_size=(2, 2)))\n",
    "    model.add(Dropout(dropout_rate))\n",
    "    model.add(Flatten())\n",
    "    model.add(Dense(64, activation='relu'))\n",
    "    model.add(BatchNormalization())\n",
    "    model.add(Dropout(dropout_rate))\n",
    "    model.add(Dense(32, activation='relu'))\n",
    "    model.add(BatchNormalization())\n",
    "    model.add(Dropout(dropout_rate))\n",
    "    model.add(Dense(10, activation='softmax'))\n",
    "    return model\n"
   ]
  },
  {
   "cell_type": "code",
   "execution_count": 13,
   "id": "proved-action",
   "metadata": {
    "deletable": false,
    "editable": false,
    "nbgrader": {
     "cell_type": "code",
     "checksum": "93b4ed4afcc5377d3865e45b33490cf3",
     "grade": true,
     "grade_id": "cell-b8a0637dfe47e2db",
     "locked": true,
     "points": 1,
     "schema_version": 3,
     "solution": false,
     "task": false
    }
   },
   "outputs": [],
   "source": [
    "test_model = build_cnn_model((8,8, 1), 0.1)\n",
    "assert isinstance(test_model, tf.keras.models.Model)\n",
    "assert len(test_model.layers) == 14\n",
    "layer_num = 0\n",
    "assert isinstance(test_model.layers[layer_num], Conv2D)\n",
    "config = test_model.layers[layer_num].get_config()\n",
    "assert config['filters'] == 16\n",
    "assert config['kernel_size'] == (3,3)\n",
    "assert config['padding'] == 'same'\n",
    "assert config['batch_input_shape'] == (None, 8, 8, 1)\n",
    "assert config['activation'] == 'relu'\n",
    "del test_model"
   ]
  },
  {
   "cell_type": "code",
   "execution_count": 14,
   "id": "chronic-vietnamese",
   "metadata": {
    "deletable": false,
    "editable": false,
    "nbgrader": {
     "cell_type": "code",
     "checksum": "426fce666ca785a99197f82f3a51b6b6",
     "grade": true,
     "grade_id": "cell-81e6f0024c005221",
     "locked": true,
     "points": 1,
     "schema_version": 3,
     "solution": false,
     "task": false
    }
   },
   "outputs": [],
   "source": [
    "# this cell contains a hiddent test, don't delete this cell"
   ]
  },
  {
   "cell_type": "code",
   "execution_count": 15,
   "id": "analyzed-center",
   "metadata": {
    "deletable": false,
    "editable": false,
    "nbgrader": {
     "cell_type": "code",
     "checksum": "a1783fffab04798f86c3e228d4298a7c",
     "grade": false,
     "grade_id": "cell-22f594e0ab7ce05d",
     "locked": true,
     "schema_version": 3,
     "solution": false,
     "task": false
    }
   },
   "outputs": [
    {
     "name": "stdout",
     "output_type": "stream",
     "text": [
      "Model: \"sequential_1\"\n",
      "_________________________________________________________________\n",
      "Layer (type)                 Output Shape              Param #   \n",
      "=================================================================\n",
      "conv2d_2 (Conv2D)            (None, 32, 32, 16)        448       \n",
      "_________________________________________________________________\n",
      "max_pooling2d_2 (MaxPooling2 (None, 16, 16, 16)        0         \n",
      "_________________________________________________________________\n",
      "dropout_4 (Dropout)          (None, 16, 16, 16)        0         \n",
      "_________________________________________________________________\n",
      "conv2d_3 (Conv2D)            (None, 16, 16, 8)         1160      \n",
      "_________________________________________________________________\n",
      "max_pooling2d_3 (MaxPooling2 (None, 8, 8, 8)           0         \n",
      "_________________________________________________________________\n",
      "dropout_5 (Dropout)          (None, 8, 8, 8)           0         \n",
      "_________________________________________________________________\n",
      "flatten_1 (Flatten)          (None, 512)               0         \n",
      "_________________________________________________________________\n",
      "dense_3 (Dense)              (None, 64)                32832     \n",
      "_________________________________________________________________\n",
      "batch_normalization_2 (Batch (None, 64)                256       \n",
      "_________________________________________________________________\n",
      "dropout_6 (Dropout)          (None, 64)                0         \n",
      "_________________________________________________________________\n",
      "dense_4 (Dense)              (None, 32)                2080      \n",
      "_________________________________________________________________\n",
      "batch_normalization_3 (Batch (None, 32)                128       \n",
      "_________________________________________________________________\n",
      "dropout_7 (Dropout)          (None, 32)                0         \n",
      "_________________________________________________________________\n",
      "dense_5 (Dense)              (None, 10)                330       \n",
      "=================================================================\n",
      "Total params: 37,234\n",
      "Trainable params: 37,042\n",
      "Non-trainable params: 192\n",
      "_________________________________________________________________\n"
     ]
    }
   ],
   "source": [
    "# create cnn model and view summary\n",
    "cnn_model = build_cnn_model(x_train.shape[1:], 0.1)\n",
    "cnn_model.summary()"
   ]
  },
  {
   "cell_type": "code",
   "execution_count": 16,
   "id": "persistent-spell",
   "metadata": {
    "deletable": false,
    "editable": false,
    "nbgrader": {
     "cell_type": "code",
     "checksum": "d3b406579b067ba85df93c7902d85319",
     "grade": false,
     "grade_id": "cell-bc1b8b9d2ed6d617",
     "locked": true,
     "schema_version": 3,
     "solution": false,
     "task": false
    }
   },
   "outputs": [
    {
     "name": "stdout",
     "output_type": "stream",
     "text": [
      "Epoch 1/30\n",
      "1563/1563 [==============================] - 47s 30ms/step - loss: 1.7338 - accuracy: 0.3713 - val_loss: 0.0000e+00 - val_accuracy: 0.0000e+00\n",
      "Epoch 2/30\n",
      "1563/1563 [==============================] - 38s 24ms/step - loss: 1.1230 - accuracy: 0.6045 - val_loss: 1.0831 - val_accuracy: 0.6237\n",
      "Epoch 9/30\n",
      "1563/1563 [==============================] - 38s 24ms/step - loss: 1.1034 - accuracy: 0.6096 - val_loss: 1.0504 - val_accuracy: 0.6332\n",
      "Epoch 10/30\n",
      "1563/1563 [==============================] - 38s 24ms/step - loss: 1.0855 - accuracy: 0.6191 - val_loss: 1.0387 - val_accuracy: 0.6372\n",
      "Epoch 11/30\n",
      "1563/1563 [==============================] - 38s 24ms/step - loss: 1.0759 - accuracy: 0.6189 - val_loss: 1.0504 - val_accuracy: 0.6337\n",
      "Epoch 12/30\n",
      "1563/1563 [==============================] - 38s 24ms/step - loss: 1.0653 - accuracy: 0.6240 - val_loss: 1.1311 - val_accuracy: 0.6151\n",
      "Epoch 13/30\n",
      "1563/1563 [==============================] - 38s 24ms/step - loss: 1.0507 - accuracy: 0.6284 - val_loss: 0.9889 - val_accuracy: 0.6474\n",
      "Epoch 14/30\n",
      "1563/1563 [==============================] - 38s 24ms/step - loss: 1.0410 - accuracy: 0.6328 - val_loss: 0.9898 - val_accuracy: 0.6593\n",
      "Epoch 15/30\n",
      "1563/1563 [==============================] - 39s 25ms/step - loss: 1.0306 - accuracy: 0.6363 - val_loss: 0.9799 - val_accuracy: 0.6575\n",
      "Epoch 16/30\n",
      "1563/1563 [==============================] - 38s 25ms/step - loss: 1.0202 - accuracy: 0.6405 - val_loss: 0.9455 - val_accuracy: 0.6690\n",
      "Epoch 17/30\n",
      "1563/1563 [==============================] - 38s 24ms/step - loss: 1.0182 - accuracy: 0.6399 - val_loss: 0.9349 - val_accuracy: 0.6709\n",
      "Epoch 18/30\n",
      "1563/1563 [==============================] - 40s 26ms/step - loss: 1.0121 - accuracy: 0.6423 - val_loss: 0.9825 - val_accuracy: 0.6508\n",
      "Epoch 19/30\n",
      "1563/1563 [==============================] - 38s 24ms/step - loss: 1.0049 - accuracy: 0.6430 - val_loss: 0.9514 - val_accuracy: 0.6664\n",
      "Epoch 20/30\n",
      "1563/1563 [==============================] - 38s 24ms/step - loss: 1.0028 - accuracy: 0.6470 - val_loss: 0.9534 - val_accuracy: 0.6664\n",
      "Epoch 21/30\n",
      "1563/1563 [==============================] - 39s 25ms/step - loss: 0.9901 - accuracy: 0.6499 - val_loss: 0.9417 - val_accuracy: 0.6680\n"
     ]
    }
   ],
   "source": [
    "# compile and training model\n",
    "compile_model(cnn_model)\n",
    "early_stop = EarlyStopping(patience=4, monitor='val_accuracy')\n",
    "cnn_history = cnn_model.fit(train_dataset, epochs=30, validation_data=test_dataset, callbacks=[early_stop])"
   ]
  },
  {
   "cell_type": "code",
   "execution_count": 18,
   "id": "demonstrated-pharmaceutical",
   "metadata": {
    "deletable": false,
    "editable": false,
    "nbgrader": {
     "cell_type": "code",
     "checksum": "a1afa58f529ffd00003fdf8d8b058d1f",
     "grade": false,
     "grade_id": "cell-1d057f59e1a38661",
     "locked": true,
     "schema_version": 3,
     "solution": false,
     "task": false
    }
   },
   "outputs": [
    {
     "data": {
      "text/html": [
       "<div>\n",
       "<style scoped>\n",
       "    .dataframe tbody tr th:only-of-type {\n",
       "        vertical-align: middle;\n",
       "    }\n",
       "\n",
       "    .dataframe tbody tr th {\n",
       "        vertical-align: top;\n",
       "    }\n",
       "\n",
       "    .dataframe thead th {\n",
       "        text-align: right;\n",
       "    }\n",
       "</style>\n",
       "<table border=\"1\" class=\"dataframe\">\n",
       "  <thead>\n",
       "    <tr style=\"text-align: right;\">\n",
       "      <th></th>\n",
       "      <th>loss</th>\n",
       "      <th>accuracy</th>\n",
       "      <th>val_loss</th>\n",
       "      <th>val_accuracy</th>\n",
       "    </tr>\n",
       "  </thead>\n",
       "  <tbody>\n",
       "    <tr>\n",
       "      <th>0</th>\n",
       "      <td>1.733599</td>\n",
       "      <td>0.37126</td>\n",
       "      <td>1.798136</td>\n",
       "      <td>0.3919</td>\n",
       "    </tr>\n",
       "    <tr>\n",
       "      <th>1</th>\n",
       "      <td>1.417201</td>\n",
       "      <td>0.49052</td>\n",
       "      <td>1.334037</td>\n",
       "      <td>0.5209</td>\n",
       "    </tr>\n",
       "    <tr>\n",
       "      <th>2</th>\n",
       "      <td>1.307923</td>\n",
       "      <td>0.53474</td>\n",
       "      <td>1.244680</td>\n",
       "      <td>0.5587</td>\n",
       "    </tr>\n",
       "    <tr>\n",
       "      <th>3</th>\n",
       "      <td>1.246214</td>\n",
       "      <td>0.55546</td>\n",
       "      <td>1.240028</td>\n",
       "      <td>0.5617</td>\n",
       "    </tr>\n",
       "    <tr>\n",
       "      <th>4</th>\n",
       "      <td>1.205071</td>\n",
       "      <td>0.57326</td>\n",
       "      <td>1.162674</td>\n",
       "      <td>0.5900</td>\n",
       "    </tr>\n",
       "  </tbody>\n",
       "</table>\n",
       "</div>"
      ],
      "text/plain": [
       "       loss  accuracy  val_loss  val_accuracy\n",
       "0  1.733599   0.37126  1.798136        0.3919\n",
       "1  1.417201   0.49052  1.334037        0.5209\n",
       "2  1.307923   0.53474  1.244680        0.5587\n",
       "3  1.246214   0.55546  1.240028        0.5617\n",
       "4  1.205071   0.57326  1.162674        0.5900"
      ]
     },
     "execution_count": 18,
     "metadata": {},
     "output_type": "execute_result"
    }
   ],
   "source": [
    "df = pd.DataFrame(cnn_history.history)\n",
    "df.head()"
   ]
  },
  {
   "cell_type": "code",
   "execution_count": 19,
   "id": "demographic-tower",
   "metadata": {
    "deletable": false,
    "editable": false,
    "nbgrader": {
     "cell_type": "code",
     "checksum": "5750345e97cc177da1d6ff06ccf76d69",
     "grade": false,
     "grade_id": "cell-559ecfddad6301df",
     "locked": true,
     "schema_version": 3,
     "solution": false,
     "task": false
    }
   },
   "outputs": [
    {
     "data": {
      "image/png": "[encoded data removed]",
      "text/plain": [
       "<Figure size 576x252 with 2 Axes>"
      ]
     },
     "metadata": {
      "needs_background": "light"
     },
     "output_type": "display_data"
    }
   ],
   "source": [
    "# plot loss and accuracy against epoch\n",
    "fig, axes = plt.subplots(nrows=1, ncols=2, figsize=(8,3.5))\n",
    "df.plot(y=['loss', 'val_loss'], ax=axes[0], title='loss vs epcoh')\n",
    "df.plot(y=['accuracy', 'val_accuracy'], ax=axes[1], title='accuracy vs epoch')\n",
    "axes[0].set_xlabel('epoch')\n",
    "axes[0].set_ylabel('loss')\n",
    "axes[1].set_xlabel('epoch')\n",
    "axes[1].set_ylabel('accuracy')\n",
    "plt.subplots_adjust(wspace=0.5)"
   ]
  },
  {
   "cell_type": "code",
   "execution_count": 20,
   "id": "occasional-commitment",
   "metadata": {
    "deletable": false,
    "editable": false,
    "nbgrader": {
     "cell_type": "code",
     "checksum": "35e3f52dad1c083bbc5fa3c02c487740",
     "grade": false,
     "grade_id": "cell-7cd32a108479f659",
     "locked": true,
     "schema_version": 3,
     "solution": false,
     "task": false
    }
   },
   "outputs": [
    {
     "name": "stdout",
     "output_type": "stream",
     "text": [
      "313/313 - 3s - loss: 0.9417 - accuracy: 0.6680\n"
     ]
    },
    {
     "data": {
      "text/plain": [
       "[0.9417297495439791, 0.668]"
      ]
     },
     "execution_count": 20,
     "metadata": {},
     "output_type": "execute_result"
    }
   ],
   "source": [
    "# evaluate the model on the test set\n",
    "cnn_model.evaluate(test_dataset, verbose=2)"
   ]
  },
  {
   "cell_type": "markdown",
   "id": "caring-jungle",
   "metadata": {
    "deletable": false,
    "editable": false,
    "nbgrader": {
     "cell_type": "markdown",
     "checksum": "1eb984a2c9d3d01dd402ca2bb5645759",
     "grade": false,
     "grade_id": "cell-4c6333290879fccf",
     "locked": true,
     "schema_version": 3,
     "solution": false,
     "task": false
    }
   },
   "source": [
    "We can see that our cnn model improved the accuracy a lot even though our cnn model has much less parameters than the mlp model. Model architecture really matters in Deep Learning!"
   ]
  },
  {
   "cell_type": "markdown",
   "id": "super-yugoslavia",
   "metadata": {
    "deletable": false,
    "editable": false,
    "nbgrader": {
     "cell_type": "markdown",
     "checksum": "b53bff909280f43f12bfe0302acf6c8b",
     "grade": false,
     "grade_id": "cell-5b309cb9b406077a",
     "locked": true,
     "schema_version": 3,
     "solution": false,
     "task": false
    }
   },
   "source": [
    "# Model Predicitons"
   ]
  },
  {
   "cell_type": "code",
   "execution_count": 33,
   "id": "formal-reliance",
   "metadata": {
    "deletable": false,
    "editable": false,
    "nbgrader": {
     "cell_type": "code",
     "checksum": "d4feb6bef40944aebb7f4a4b7202bcc9",
     "grade": false,
     "grade_id": "cell-5c0b87abf1d52f61",
     "locked": true,
     "schema_version": 3,
     "solution": false,
     "task": false
    }
   },
   "outputs": [
    {
     "data": {
      "image/png": "[encoded data removed]",
      "text/plain": [
       "<Figure size 1080x1080 with 15 Axes>"
      ]
     },
     "metadata": {
      "needs_background": "light"
     },
     "output_type": "display_data"
    }
   ],
   "source": [
    "# mlp and cnn predictions\n",
    "rand_idx = np.random.choice(range(x_test.shape[0]), size=5)\n",
    "fig, axs = plt.subplots(5, 3,figsize=(15,15))\n",
    "for i in range(5):\n",
    "    axs[i][0].imshow(x_test[rand_idx[i], :, :, 0], cmap='gray', vmin=0, vmax=1)\n",
    "    axs[i][0].set_title(classes[y_test[rand_idx[i]]])\n",
    "    axs[i][0].set_xticks([]) \n",
    "    axs[i][0].set_yticks([]) \n",
    "    probs = mlp_model.predict(x_test[rand_idx[i]][np.newaxis, ...])[0]\n",
    "    prediction = np.argmax(probs)\n",
    "    axs[i][1].bar(range(1,11), probs)\n",
    "    axs[i][1].set_xticks([i for i in range(0, 10)]) \n",
    "    axs[i][1].set_title('mlp prediciton {}'.format(classes[prediction]))\n",
    "    probs = cnn_model.predict(x_test[rand_idx[i]][np.newaxis, ...])[0]\n",
    "    prediction = np.argmax(probs)\n",
    "    axs[i][2].bar(range(1,11), probs)\n",
    "    axs[i][2].set_xticks([i for i in range(0, 10)]) \n",
    "    axs[i][2].set_title('cnn prediciton {}'.format(classes[prediction]))\n",
    "plt.subplots_adjust(wspace=0.3, hspace=0.3)"
   ]
  },
  {
   "cell_type": "markdown",
   "id": "spatial-identification",
   "metadata": {
    "deletable": false,
    "editable": false,
    "nbgrader": {
     "cell_type": "markdown",
     "checksum": "df72d846b2143c62731269b02d8282e0",
     "grade": false,
     "grade_id": "cell-fccc43d135c52418",
     "locked": true,
     "schema_version": 3,
     "solution": false,
     "task": false
    }
   },
   "source": [
    "<a name='tl'></a>\n",
    "## Transfer Learning\n",
    "Transfer learning is very popular and powerful in computer vision. When you don't have too much data and you still want to a good model, you may resort to transfer learning.\n",
    "We will use the pre-trained MobileNet V2 model, available to download from [Keras Applications](https://keras.io/applications/#mobilenetv2).\n",
    "We will remove the final layer of the network and replace it with new, untrained classifier layers for our task."
   ]
  },
  {
   "cell_type": "code",
   "execution_count": 3,
   "id": "coated-variable",
   "metadata": {
    "deletable": false,
    "editable": false,
    "nbgrader": {
     "cell_type": "code",
     "checksum": "49bec3b4c6546d97fd4215bcf166302d",
     "grade": false,
     "grade_id": "cell-bd6203944d069699",
     "locked": true,
     "schema_version": 3,
     "solution": false,
     "task": false
    }
   },
   "outputs": [],
   "source": [
    "# get the body of EfficiekerasNetB1\n",
    "def get_ENB1_body():\n",
    "    pretrained_model = tf.keras.applications.MobileNetV2(include_top=False,\n",
    "                                                            weights='imagenet',\n",
    "                                                            input_shape=(160,160,3),\n",
    "                                                            pooling='max')\n",
    "    transfer_layer = pretrained_model\n",
    "    return transfer_layer"
   ]
  },
  {
   "cell_type": "code",
   "execution_count": 4,
   "id": "massive-violin",
   "metadata": {
    "deletable": false,
    "editable": false,
    "nbgrader": {
     "cell_type": "code",
     "checksum": "e3e7f27ed98782c9c580167c74381106",
     "grade": false,
     "grade_id": "cell-a8c7942d17cfed4f",
     "locked": true,
     "schema_version": 3,
     "solution": false,
     "task": false
    }
   },
   "outputs": [
    {
     "name": "stdout",
     "output_type": "stream",
     "text": [
      "Model: \"mobilenetv2_1.00_160\"\n",
      "__________________________________________________________________________________________________\n",
      "Layer (type)                    Output Shape         Param #     Connected to                     \n",
      "==================================================================================================\n",
      "input_1 (InputLayer)            [(None, 160, 160, 3) 0                                            \n",
      "__________________________________________________________________________________________________\n",
      "Conv1_pad (ZeroPadding2D)       (None, 161, 161, 3)  0           input_1[0][0]                    \n",
      "__________________________________________________________________________________________________\n",
      "Conv1 (Conv2D)                  (None, 80, 80, 32)   864         Conv1_pad[0][0]                  \n",
      "__________________________________________________________________________________________________\n",
      "bn_Conv1 (BatchNormalization)   (None, 80, 80, 32)   128         Conv1[0][0]                      \n",
      "__________________________________________________________________________________________________\n",
      "Conv1_relu (ReLU)               (None, 80, 80, 32)   0           bn_Conv1[0][0]                   \n",
      "__________________________________________________________________________________________________\n",
      "expanded_conv_depthwise (Depthw (None, 80, 80, 32)   288         Conv1_relu[0][0]                 \n",
      "__________________________________________________________________________________________________\n",
      "expanded_conv_depthwise_BN (Bat (None, 80, 80, 32)   128         expanded_conv_depthwise[0][0]    \n",
      "__________________________________________________________________________________________________\n",
      "expanded_conv_depthwise_relu (R (None, 80, 80, 32)   0           expanded_conv_depthwise_BN[0][0] \n",
      "__________________________________________________________________________________________________\n",
      "expanded_conv_project (Conv2D)  (None, 80, 80, 16)   512         expanded_conv_depthwise_relu[0][0\n",
      "__________________________________________________________________________________________________\n",
      "expanded_conv_project_BN (Batch (None, 80, 80, 16)   64          expanded_conv_project[0][0]      \n",
      "__________________________________________________________________________________________________\n",
      "block_1_expand (Conv2D)         (None, 80, 80, 96)   1536        expanded_conv_project_BN[0][0]   \n",
      "__________________________________________________________________________________________________\n",
      "block_1_expand_BN (BatchNormali (None, 80, 80, 96)   384         block_1_expand[0][0]             \n",
      "__________________________________________________________________________________________________\n",
      "block_1_expand_relu (ReLU)      (None, 80, 80, 96)   0           block_1_expand_BN[0][0]          \n",
      "__________________________________________________________________________________________________\n",
      "block_1_pad (ZeroPadding2D)     (None, 81, 81, 96)   0           block_1_expand_relu[0][0]        \n",
      "__________________________________________________________________________________________________\n",
      "block_1_depthwise (DepthwiseCon (None, 40, 40, 96)   864         block_1_pad[0][0]                \n",
      "__________________________________________________________________________________________________\n",
      "block_1_depthwise_BN (BatchNorm (None, 40, 40, 96)   384         block_1_depthwise[0][0]          \n",
      "__________________________________________________________________________________________________\n",
      "block_1_depthwise_relu (ReLU)   (None, 40, 40, 96)   0           block_1_depthwise_BN[0][0]       \n",
      "__________________________________________________________________________________________________\n",
      "block_1_project (Conv2D)        (None, 40, 40, 24)   2304        block_1_depthwise_relu[0][0]     \n",
      "__________________________________________________________________________________________________\n",
      "block_1_project_BN (BatchNormal (None, 40, 40, 24)   96          block_1_project[0][0]            \n",
      "__________________________________________________________________________________________________\n",
      "block_2_expand (Conv2D)         (None, 40, 40, 144)  3456        block_1_project_BN[0][0]         \n",
      "__________________________________________________________________________________________________\n",
      "block_2_expand_BN (BatchNormali (None, 40, 40, 144)  576         block_2_expand[0][0]             \n",
      "__________________________________________________________________________________________________\n",
      "block_2_expand_relu (ReLU)      (None, 40, 40, 144)  0           block_2_expand_BN[0][0]          \n",
      "__________________________________________________________________________________________________\n",
      "block_2_depthwise (DepthwiseCon (None, 40, 40, 144)  1296        block_2_expand_relu[0][0]        \n",
      "__________________________________________________________________________________________________\n",
      "block_2_depthwise_BN (BatchNorm (None, 40, 40, 144)  576         block_2_depthwise[0][0]          \n",
      "__________________________________________________________________________________________________\n",
      "block_2_depthwise_relu (ReLU)   (None, 40, 40, 144)  0           block_2_depthwise_BN[0][0]       \n",
      "__________________________________________________________________________________________________\n",
      "block_2_project (Conv2D)        (None, 40, 40, 24)   3456        block_2_depthwise_relu[0][0]     \n",
      "__________________________________________________________________________________________________\n",
      "block_2_project_BN (BatchNormal (None, 40, 40, 24)   96          block_2_project[0][0]            \n",
      "__________________________________________________________________________________________________\n",
      "block_2_add (Add)               (None, 40, 40, 24)   0           block_1_project_BN[0][0]         \n",
      "                                                                 block_2_project_BN[0][0]         \n",
      "__________________________________________________________________________________________________\n",
      "block_3_expand (Conv2D)         (None, 40, 40, 144)  3456        block_2_add[0][0]                \n",
      "__________________________________________________________________________________________________\n",
      "block_3_expand_BN (BatchNormali (None, 40, 40, 144)  576         block_3_expand[0][0]             \n",
      "__________________________________________________________________________________________________\n",
      "block_3_expand_relu (ReLU)      (None, 40, 40, 144)  0           block_3_expand_BN[0][0]          \n",
      "__________________________________________________________________________________________________\n",
      "block_3_pad (ZeroPadding2D)     (None, 41, 41, 144)  0           block_3_expand_relu[0][0]        \n",
      "__________________________________________________________________________________________________\n",
      "block_3_depthwise (DepthwiseCon (None, 20, 20, 144)  1296        block_3_pad[0][0]                \n",
      "__________________________________________________________________________________________________\n",
      "block_3_depthwise_BN (BatchNorm (None, 20, 20, 144)  576         block_3_depthwise[0][0]          \n",
      "__________________________________________________________________________________________________\n",
      "block_3_depthwise_relu (ReLU)   (None, 20, 20, 144)  0           block_3_depthwise_BN[0][0]       \n",
      "__________________________________________________________________________________________________\n",
      "block_3_project (Conv2D)        (None, 20, 20, 32)   4608        block_3_depthwise_relu[0][0]     \n",
      "__________________________________________________________________________________________________\n",
      "block_3_project_BN (BatchNormal (None, 20, 20, 32)   128         block_3_project[0][0]            \n",
      "__________________________________________________________________________________________________\n",
      "block_4_expand (Conv2D)         (None, 20, 20, 192)  6144        block_3_project_BN[0][0]         \n",
      "__________________________________________________________________________________________________\n",
      "block_4_expand_BN (BatchNormali (None, 20, 20, 192)  768         block_4_expand[0][0]             \n",
      "__________________________________________________________________________________________________\n",
      "block_4_expand_relu (ReLU)      (None, 20, 20, 192)  0           block_4_expand_BN[0][0]          \n",
      "__________________________________________________________________________________________________\n",
      "block_4_depthwise (DepthwiseCon (None, 20, 20, 192)  1728        block_4_expand_relu[0][0]        \n",
      "__________________________________________________________________________________________________\n",
      "block_4_depthwise_BN (BatchNorm (None, 20, 20, 192)  768         block_4_depthwise[0][0]          \n",
      "__________________________________________________________________________________________________\n",
      "block_4_depthwise_relu (ReLU)   (None, 20, 20, 192)  0           block_4_depthwise_BN[0][0]       \n",
      "__________________________________________________________________________________________________\n",
      "block_4_project (Conv2D)        (None, 20, 20, 32)   6144        block_4_depthwise_relu[0][0]     \n",
      "__________________________________________________________________________________________________\n",
      "block_4_project_BN (BatchNormal (None, 20, 20, 32)   128         block_4_project[0][0]            \n",
      "__________________________________________________________________________________________________\n",
      "block_4_add (Add)               (None, 20, 20, 32)   0           block_3_project_BN[0][0]         \n",
      "                                                                 block_4_project_BN[0][0]         \n",
      "__________________________________________________________________________________________________\n",
      "block_5_expand (Conv2D)         (None, 20, 20, 192)  6144        block_4_add[0][0]                \n",
      "__________________________________________________________________________________________________\n",
      "block_5_expand_BN (BatchNormali (None, 20, 20, 192)  768         block_5_expand[0][0]             \n",
      "__________________________________________________________________________________________________\n",
      "block_5_expand_relu (ReLU)      (None, 20, 20, 192)  0           block_5_expand_BN[0][0]          \n",
      "__________________________________________________________________________________________________\n",
      "block_5_depthwise (DepthwiseCon (None, 20, 20, 192)  1728        block_5_expand_relu[0][0]        \n",
      "__________________________________________________________________________________________________\n",
      "block_5_depthwise_BN (BatchNorm (None, 20, 20, 192)  768         block_5_depthwise[0][0]          \n",
      "__________________________________________________________________________________________________\n",
      "block_5_depthwise_relu (ReLU)   (None, 20, 20, 192)  0           block_5_depthwise_BN[0][0]       \n",
      "__________________________________________________________________________________________________\n",
      "block_5_project (Conv2D)        (None, 20, 20, 32)   6144        block_5_depthwise_relu[0][0]     \n",
      "__________________________________________________________________________________________________\n",
      "block_5_project_BN (BatchNormal (None, 20, 20, 32)   128         block_5_project[0][0]            \n",
      "__________________________________________________________________________________________________\n",
      "block_5_add (Add)               (None, 20, 20, 32)   0           block_4_add[0][0]                \n",
      "                                                                 block_5_project_BN[0][0]         \n",
      "__________________________________________________________________________________________________\n",
      "block_6_expand (Conv2D)         (None, 20, 20, 192)  6144        block_5_add[0][0]                \n",
      "__________________________________________________________________________________________________\n",
      "block_6_expand_BN (BatchNormali (None, 20, 20, 192)  768         block_6_expand[0][0]             \n",
      "__________________________________________________________________________________________________\n",
      "block_6_expand_relu (ReLU)      (None, 20, 20, 192)  0           block_6_expand_BN[0][0]          \n",
      "__________________________________________________________________________________________________\n",
      "block_6_pad (ZeroPadding2D)     (None, 21, 21, 192)  0           block_6_expand_relu[0][0]        \n",
      "__________________________________________________________________________________________________\n",
      "block_6_depthwise (DepthwiseCon (None, 10, 10, 192)  1728        block_6_pad[0][0]                \n",
      "__________________________________________________________________________________________________\n",
      "block_6_depthwise_BN (BatchNorm (None, 10, 10, 192)  768         block_6_depthwise[0][0]          \n",
      "__________________________________________________________________________________________________\n",
      "block_6_depthwise_relu (ReLU)   (None, 10, 10, 192)  0           block_6_depthwise_BN[0][0]       \n",
      "__________________________________________________________________________________________________\n",
      "block_6_project (Conv2D)        (None, 10, 10, 64)   12288       block_6_depthwise_relu[0][0]     \n",
      "__________________________________________________________________________________________________\n",
      "block_6_project_BN (BatchNormal (None, 10, 10, 64)   256         block_6_project[0][0]            \n",
      "__________________________________________________________________________________________________\n",
      "block_7_expand (Conv2D)         (None, 10, 10, 384)  24576       block_6_project_BN[0][0]         \n",
      "__________________________________________________________________________________________________\n",
      "block_7_expand_BN (BatchNormali (None, 10, 10, 384)  1536        block_7_expand[0][0]             \n",
      "__________________________________________________________________________________________________\n",
      "block_7_expand_relu (ReLU)      (None, 10, 10, 384)  0           block_7_expand_BN[0][0]          \n",
      "__________________________________________________________________________________________________\n",
      "block_7_depthwise (DepthwiseCon (None, 10, 10, 384)  3456        block_7_expand_relu[0][0]        \n",
      "__________________________________________________________________________________________________\n",
      "block_7_depthwise_BN (BatchNorm (None, 10, 10, 384)  1536        block_7_depthwise[0][0]          \n",
      "__________________________________________________________________________________________________\n",
      "block_7_depthwise_relu (ReLU)   (None, 10, 10, 384)  0           block_7_depthwise_BN[0][0]       \n",
      "__________________________________________________________________________________________________\n",
      "block_7_project (Conv2D)        (None, 10, 10, 64)   24576       block_7_depthwise_relu[0][0]     \n",
      "__________________________________________________________________________________________________\n",
      "block_7_project_BN (BatchNormal (None, 10, 10, 64)   256         block_7_project[0][0]            \n",
      "__________________________________________________________________________________________________\n",
      "block_7_add (Add)               (None, 10, 10, 64)   0           block_6_project_BN[0][0]         \n",
      "                                                                 block_7_project_BN[0][0]         \n",
      "__________________________________________________________________________________________________\n",
      "block_8_expand (Conv2D)         (None, 10, 10, 384)  24576       block_7_add[0][0]                \n",
      "__________________________________________________________________________________________________\n",
      "block_8_expand_BN (BatchNormali (None, 10, 10, 384)  1536        block_8_expand[0][0]             \n",
      "__________________________________________________________________________________________________\n",
      "block_8_expand_relu (ReLU)      (None, 10, 10, 384)  0           block_8_expand_BN[0][0]          \n",
      "__________________________________________________________________________________________________\n",
      "block_8_depthwise (DepthwiseCon (None, 10, 10, 384)  3456        block_8_expand_relu[0][0]        \n",
      "__________________________________________________________________________________________________\n",
      "block_8_depthwise_BN (BatchNorm (None, 10, 10, 384)  1536        block_8_depthwise[0][0]          \n",
      "__________________________________________________________________________________________________\n",
      "block_8_depthwise_relu (ReLU)   (None, 10, 10, 384)  0           block_8_depthwise_BN[0][0]       \n",
      "__________________________________________________________________________________________________\n",
      "block_8_project (Conv2D)        (None, 10, 10, 64)   24576       block_8_depthwise_relu[0][0]     \n",
      "__________________________________________________________________________________________________\n",
      "block_8_project_BN (BatchNormal (None, 10, 10, 64)   256         block_8_project[0][0]            \n",
      "__________________________________________________________________________________________________\n",
      "block_8_add (Add)               (None, 10, 10, 64)   0           block_7_add[0][0]                \n",
      "                                                                 block_8_project_BN[0][0]         \n",
      "__________________________________________________________________________________________________\n",
      "block_9_expand (Conv2D)         (None, 10, 10, 384)  24576       block_8_add[0][0]                \n",
      "__________________________________________________________________________________________________\n",
      "block_9_expand_BN (BatchNormali (None, 10, 10, 384)  1536        block_9_expand[0][0]             \n",
      "__________________________________________________________________________________________________\n",
      "block_9_expand_relu (ReLU)      (None, 10, 10, 384)  0           block_9_expand_BN[0][0]          \n",
      "__________________________________________________________________________________________________\n",
      "block_9_depthwise (DepthwiseCon (None, 10, 10, 384)  3456        block_9_expand_relu[0][0]        \n",
      "__________________________________________________________________________________________________\n",
      "block_9_depthwise_BN (BatchNorm (None, 10, 10, 384)  1536        block_9_depthwise[0][0]          \n",
      "__________________________________________________________________________________________________\n",
      "block_9_depthwise_relu (ReLU)   (None, 10, 10, 384)  0           block_9_depthwise_BN[0][0]       \n",
      "__________________________________________________________________________________________________\n",
      "block_9_project (Conv2D)        (None, 10, 10, 64)   24576       block_9_depthwise_relu[0][0]     \n",
      "__________________________________________________________________________________________________\n",
      "block_9_project_BN (BatchNormal (None, 10, 10, 64)   256         block_9_project[0][0]            \n",
      "__________________________________________________________________________________________________\n",
      "block_9_add (Add)               (None, 10, 10, 64)   0           block_8_add[0][0]                \n",
      "                                                                 block_9_project_BN[0][0]         \n",
      "__________________________________________________________________________________________________\n",
      "block_10_expand (Conv2D)        (None, 10, 10, 384)  24576       block_9_add[0][0]                \n",
      "__________________________________________________________________________________________________\n",
      "block_10_expand_BN (BatchNormal (None, 10, 10, 384)  1536        block_10_expand[0][0]            \n",
      "__________________________________________________________________________________________________\n",
      "block_10_expand_relu (ReLU)     (None, 10, 10, 384)  0           block_10_expand_BN[0][0]         \n",
      "__________________________________________________________________________________________________\n",
      "block_10_depthwise (DepthwiseCo (None, 10, 10, 384)  3456        block_10_expand_relu[0][0]       \n",
      "__________________________________________________________________________________________________\n",
      "block_10_depthwise_BN (BatchNor (None, 10, 10, 384)  1536        block_10_depthwise[0][0]         \n",
      "__________________________________________________________________________________________________\n",
      "block_10_depthwise_relu (ReLU)  (None, 10, 10, 384)  0           block_10_depthwise_BN[0][0]      \n",
      "__________________________________________________________________________________________________\n",
      "block_10_project (Conv2D)       (None, 10, 10, 96)   36864       block_10_depthwise_relu[0][0]    \n",
      "__________________________________________________________________________________________________\n",
      "block_10_project_BN (BatchNorma (None, 10, 10, 96)   384         block_10_project[0][0]           \n",
      "__________________________________________________________________________________________________\n",
      "block_11_expand (Conv2D)        (None, 10, 10, 576)  55296       block_10_project_BN[0][0]        \n",
      "__________________________________________________________________________________________________\n",
      "block_11_expand_BN (BatchNormal (None, 10, 10, 576)  2304        block_11_expand[0][0]            \n",
      "__________________________________________________________________________________________________\n",
      "block_11_expand_relu (ReLU)     (None, 10, 10, 576)  0           block_11_expand_BN[0][0]         \n",
      "__________________________________________________________________________________________________\n",
      "block_11_depthwise (DepthwiseCo (None, 10, 10, 576)  5184        block_11_expand_relu[0][0]       \n",
      "__________________________________________________________________________________________________\n",
      "block_11_depthwise_BN (BatchNor (None, 10, 10, 576)  2304        block_11_depthwise[0][0]         \n",
      "__________________________________________________________________________________________________\n",
      "block_11_depthwise_relu (ReLU)  (None, 10, 10, 576)  0           block_11_depthwise_BN[0][0]      \n",
      "__________________________________________________________________________________________________\n",
      "block_11_project (Conv2D)       (None, 10, 10, 96)   55296       block_11_depthwise_relu[0][0]    \n",
      "__________________________________________________________________________________________________\n",
      "block_11_project_BN (BatchNorma (None, 10, 10, 96)   384         block_11_project[0][0]           \n",
      "__________________________________________________________________________________________________\n",
      "block_11_add (Add)              (None, 10, 10, 96)   0           block_10_project_BN[0][0]        \n",
      "                                                                 block_11_project_BN[0][0]        \n",
      "__________________________________________________________________________________________________\n",
      "block_12_expand (Conv2D)        (None, 10, 10, 576)  55296       block_11_add[0][0]               \n",
      "__________________________________________________________________________________________________\n",
      "block_12_expand_BN (BatchNormal (None, 10, 10, 576)  2304        block_12_expand[0][0]            \n",
      "__________________________________________________________________________________________________\n",
      "block_12_expand_relu (ReLU)     (None, 10, 10, 576)  0           block_12_expand_BN[0][0]         \n",
      "__________________________________________________________________________________________________\n",
      "block_12_depthwise (DepthwiseCo (None, 10, 10, 576)  5184        block_12_expand_relu[0][0]       \n",
      "__________________________________________________________________________________________________\n",
      "block_12_depthwise_BN (BatchNor (None, 10, 10, 576)  2304        block_12_depthwise[0][0]         \n",
      "__________________________________________________________________________________________________\n",
      "block_12_depthwise_relu (ReLU)  (None, 10, 10, 576)  0           block_12_depthwise_BN[0][0]      \n",
      "__________________________________________________________________________________________________\n",
      "block_12_project (Conv2D)       (None, 10, 10, 96)   55296       block_12_depthwise_relu[0][0]    \n",
      "__________________________________________________________________________________________________\n",
      "block_12_project_BN (BatchNorma (None, 10, 10, 96)   384         block_12_project[0][0]           \n",
      "__________________________________________________________________________________________________\n",
      "block_12_add (Add)              (None, 10, 10, 96)   0           block_11_add[0][0]               \n",
      "                                                                 block_12_project_BN[0][0]        \n",
      "__________________________________________________________________________________________________\n",
      "block_13_expand (Conv2D)        (None, 10, 10, 576)  55296       block_12_add[0][0]               \n",
      "__________________________________________________________________________________________________\n",
      "block_13_expand_BN (BatchNormal (None, 10, 10, 576)  2304        block_13_expand[0][0]            \n",
      "__________________________________________________________________________________________________\n",
      "block_13_expand_relu (ReLU)     (None, 10, 10, 576)  0           block_13_expand_BN[0][0]         \n",
      "__________________________________________________________________________________________________\n",
      "block_13_pad (ZeroPadding2D)    (None, 11, 11, 576)  0           block_13_expand_relu[0][0]       \n",
      "__________________________________________________________________________________________________\n",
      "block_13_depthwise (DepthwiseCo (None, 5, 5, 576)    5184        block_13_pad[0][0]               \n",
      "__________________________________________________________________________________________________\n",
      "block_13_depthwise_BN (BatchNor (None, 5, 5, 576)    2304        block_13_depthwise[0][0]         \n",
      "__________________________________________________________________________________________________\n",
      "block_13_depthwise_relu (ReLU)  (None, 5, 5, 576)    0           block_13_depthwise_BN[0][0]      \n",
      "__________________________________________________________________________________________________\n",
      "block_13_project (Conv2D)       (None, 5, 5, 160)    92160       block_13_depthwise_relu[0][0]    \n",
      "__________________________________________________________________________________________________\n",
      "block_13_project_BN (BatchNorma (None, 5, 5, 160)    640         block_13_project[0][0]           \n",
      "__________________________________________________________________________________________________\n",
      "block_14_expand (Conv2D)        (None, 5, 5, 960)    153600      block_13_project_BN[0][0]        \n",
      "__________________________________________________________________________________________________\n",
      "block_14_expand_BN (BatchNormal (None, 5, 5, 960)    3840        block_14_expand[0][0]            \n",
      "__________________________________________________________________________________________________\n",
      "block_14_expand_relu (ReLU)     (None, 5, 5, 960)    0           block_14_expand_BN[0][0]         \n",
      "__________________________________________________________________________________________________\n",
      "block_14_depthwise (DepthwiseCo (None, 5, 5, 960)    8640        block_14_expand_relu[0][0]       \n",
      "__________________________________________________________________________________________________\n",
      "block_14_depthwise_BN (BatchNor (None, 5, 5, 960)    3840        block_14_depthwise[0][0]         \n",
      "__________________________________________________________________________________________________\n",
      "block_14_depthwise_relu (ReLU)  (None, 5, 5, 960)    0           block_14_depthwise_BN[0][0]      \n",
      "__________________________________________________________________________________________________\n",
      "block_14_project (Conv2D)       (None, 5, 5, 160)    153600      block_14_depthwise_relu[0][0]    \n",
      "__________________________________________________________________________________________________\n",
      "block_14_project_BN (BatchNorma (None, 5, 5, 160)    640         block_14_project[0][0]           \n",
      "__________________________________________________________________________________________________\n",
      "block_14_add (Add)              (None, 5, 5, 160)    0           block_13_project_BN[0][0]        \n",
      "                                                                 block_14_project_BN[0][0]        \n",
      "__________________________________________________________________________________________________\n",
      "block_15_expand (Conv2D)        (None, 5, 5, 960)    153600      block_14_add[0][0]               \n",
      "__________________________________________________________________________________________________\n",
      "block_15_expand_BN (BatchNormal (None, 5, 5, 960)    3840        block_15_expand[0][0]            \n",
      "__________________________________________________________________________________________________\n",
      "block_15_expand_relu (ReLU)     (None, 5, 5, 960)    0           block_15_expand_BN[0][0]         \n",
      "__________________________________________________________________________________________________\n",
      "block_15_depthwise (DepthwiseCo (None, 5, 5, 960)    8640        block_15_expand_relu[0][0]       \n",
      "__________________________________________________________________________________________________\n",
      "block_15_depthwise_BN (BatchNor (None, 5, 5, 960)    3840        block_15_depthwise[0][0]         \n",
      "__________________________________________________________________________________________________\n",
      "block_15_depthwise_relu (ReLU)  (None, 5, 5, 960)    0           block_15_depthwise_BN[0][0]      \n",
      "__________________________________________________________________________________________________\n",
      "block_15_project (Conv2D)       (None, 5, 5, 160)    153600      block_15_depthwise_relu[0][0]    \n",
      "__________________________________________________________________________________________________\n",
      "block_15_project_BN (BatchNorma (None, 5, 5, 160)    640         block_15_project[0][0]           \n",
      "__________________________________________________________________________________________________\n",
      "block_15_add (Add)              (None, 5, 5, 160)    0           block_14_add[0][0]               \n",
      "                                                                 block_15_project_BN[0][0]        \n",
      "__________________________________________________________________________________________________\n",
      "block_16_expand (Conv2D)        (None, 5, 5, 960)    153600      block_15_add[0][0]               \n",
      "__________________________________________________________________________________________________\n",
      "block_16_expand_BN (BatchNormal (None, 5, 5, 960)    3840        block_16_expand[0][0]            \n",
      "__________________________________________________________________________________________________\n",
      "block_16_expand_relu (ReLU)     (None, 5, 5, 960)    0           block_16_expand_BN[0][0]         \n",
      "__________________________________________________________________________________________________\n",
      "block_16_depthwise (DepthwiseCo (None, 5, 5, 960)    8640        block_16_expand_relu[0][0]       \n",
      "__________________________________________________________________________________________________\n",
      "block_16_depthwise_BN (BatchNor (None, 5, 5, 960)    3840        block_16_depthwise[0][0]         \n",
      "__________________________________________________________________________________________________\n",
      "block_16_depthwise_relu (ReLU)  (None, 5, 5, 960)    0           block_16_depthwise_BN[0][0]      \n",
      "__________________________________________________________________________________________________\n",
      "block_16_project (Conv2D)       (None, 5, 5, 320)    307200      block_16_depthwise_relu[0][0]    \n",
      "__________________________________________________________________________________________________\n",
      "block_16_project_BN (BatchNorma (None, 5, 5, 320)    1280        block_16_project[0][0]           \n",
      "__________________________________________________________________________________________________\n",
      "Conv_1 (Conv2D)                 (None, 5, 5, 1280)   409600      block_16_project_BN[0][0]        \n",
      "__________________________________________________________________________________________________\n",
      "Conv_1_bn (BatchNormalization)  (None, 5, 5, 1280)   5120        Conv_1[0][0]                     \n",
      "__________________________________________________________________________________________________\n",
      "out_relu (ReLU)                 (None, 5, 5, 1280)   0           Conv_1_bn[0][0]                  \n",
      "__________________________________________________________________________________________________\n",
      "global_max_pooling2d (GlobalMax (None, 1280)         0           out_relu[0][0]                   \n",
      "==================================================================================================\n",
      "Total params: 2,257,984\n",
      "Trainable params: 2,223,872\n",
      "Non-trainable params: 34,112\n",
      "__________________________________________________________________________________________________\n"
     ]
    }
   ],
   "source": [
    "efficient_net_b1_body = get_ENB1_body()\n",
    "efficient_net_b1_body.summary()"
   ]
  },
  {
   "cell_type": "code",
   "execution_count": 5,
   "id": "danish-imagination",
   "metadata": {
    "deletable": false,
    "editable": false,
    "nbgrader": {
     "cell_type": "code",
     "checksum": "0199010fb72185b3e8a9970bd8411c63",
     "grade": false,
     "grade_id": "cell-dd46ca4531e3c792",
     "locked": true,
     "schema_version": 3,
     "solution": false,
     "task": false
    }
   },
   "outputs": [],
   "source": [
    "def transfered_model(pretrained_model):\n",
    "    model = Sequential()\n",
    "    model.add(pretrained_model)\n",
    "    model.add(Flatten())\n",
    "    model.add(BatchNormalization())\n",
    "    model.add(Dense(256, activation='relu'))\n",
    "    model.add(Dropout(0.3))\n",
    "    model.add(BatchNormalization())\n",
    "    model.add(Dense(128, activation='relu'))\n",
    "    model.add(Dropout(0.3))\n",
    "    model.add(BatchNormalization())\n",
    "    model.add(Dense(64, activation='relu'))\n",
    "    model.add(Dropout(0.3))\n",
    "    model.add(Dense(10, activation='softmax'))\n",
    "    return model"
   ]
  },
  {
   "cell_type": "code",
   "execution_count": 6,
   "id": "mysterious-multimedia",
   "metadata": {
    "deletable": false,
    "editable": false,
    "nbgrader": {
     "cell_type": "code",
     "checksum": "c7c9ba248e723747252c9d409b41a076",
     "grade": false,
     "grade_id": "cell-8371bce84e5ed677",
     "locked": true,
     "schema_version": 3,
     "solution": false,
     "task": false
    }
   },
   "outputs": [],
   "source": [
    "tran_model = transfered_model(efficient_net_b1_body)"
   ]
  },
  {
   "cell_type": "code",
   "execution_count": 7,
   "id": "spoken-notification",
   "metadata": {
    "deletable": false,
    "editable": false,
    "nbgrader": {
     "cell_type": "code",
     "checksum": "6c490728f45aeda6811ff599dfc911b3",
     "grade": false,
     "grade_id": "cell-862289f55a2855eb",
     "locked": true,
     "schema_version": 3,
     "solution": false,
     "task": false
    }
   },
   "outputs": [
    {
     "name": "stdout",
     "output_type": "stream",
     "text": [
      "Model: \"sequential\"\n",
      "_________________________________________________________________\n",
      "Layer (type)                 Output Shape              Param #   \n",
      "=================================================================\n",
      "mobilenetv2_1.00_160 (Model) (None, 1280)              2257984   \n",
      "_________________________________________________________________\n",
      "flatten (Flatten)            (None, 1280)              0         \n",
      "_________________________________________________________________\n",
      "batch_normalization (BatchNo (None, 1280)              5120      \n",
      "_________________________________________________________________\n",
      "dense (Dense)                (None, 256)               327936    \n",
      "_________________________________________________________________\n",
      "dropout (Dropout)            (None, 256)               0         \n",
      "_________________________________________________________________\n",
      "batch_normalization_1 (Batch (None, 256)               1024      \n",
      "_________________________________________________________________\n",
      "dense_1 (Dense)              (None, 128)               32896     \n",
      "_________________________________________________________________\n",
      "dropout_1 (Dropout)          (None, 128)               0         \n",
      "_________________________________________________________________\n",
      "batch_normalization_2 (Batch (None, 128)               512       \n",
      "_________________________________________________________________\n",
      "dense_2 (Dense)              (None, 64)                8256      \n",
      "_________________________________________________________________\n",
      "dropout_2 (Dropout)          (None, 64)                0         \n",
      "_________________________________________________________________\n",
      "dense_3 (Dense)              (None, 10)                650       \n",
      "=================================================================\n",
      "Total params: 2,634,378\n",
      "Trainable params: 2,596,938\n",
      "Non-trainable params: 37,440\n",
      "_________________________________________________________________\n"
     ]
    }
   ],
   "source": [
    "tran_model.summary()"
   ]
  },
  {
   "cell_type": "code",
   "execution_count": 8,
   "id": "concerned-distance",
   "metadata": {},
   "outputs": [],
   "source": [
    "# free ENB1 weights\n",
    "tran_model.layers[0].trainable = False"
   ]
  },
  {
   "cell_type": "code",
   "execution_count": 9,
   "id": "numerous-grill",
   "metadata": {
    "deletable": false,
    "editable": false,
    "nbgrader": {
     "cell_type": "code",
     "checksum": "233341af286aa5f5371aad925ad43104",
     "grade": false,
     "grade_id": "cell-fbf20d166e9b45e9",
     "locked": true,
     "schema_version": 3,
     "solution": false,
     "task": false
    }
   },
   "outputs": [],
   "source": [
    "# resize image to the input of ENB1\n",
    "def preprocess_for_transfer(image, label):\n",
    "    image = tf.cast(image, tf.float32)\n",
    "    image = tf.keras.applications.mobilenet_v2.preprocess_input(image)\n",
    "    image = tf.image.resize_with_pad(image, 160, 160)\n",
    "    return image, label\n",
    "\n",
    "def create_transfer_dataset(x,y):\n",
    "    dataset = tf.data.Dataset.from_tensor_slices((x,y))\n",
    "    dataset = dataset.map(preprocess_for_transfer)\n",
    "    dataset = dataset.batch(128)\n",
    "    dataset = dataset.prefetch(256)\n",
    "    return dataset"
   ]
  },
  {
   "cell_type": "code",
   "execution_count": 10,
   "id": "ordered-courtesy",
   "metadata": {
    "deletable": false,
    "editable": false,
    "nbgrader": {
     "cell_type": "code",
     "checksum": "f712c4c1921ef5f7b9772a21ac9fa9fb",
     "grade": false,
     "grade_id": "cell-3992b6ca1adb7366",
     "locked": true,
     "schema_version": 3,
     "solution": false,
     "task": false
    }
   },
   "outputs": [],
   "source": [
    "(x_train, y_train), (x_test, y_test) = cifar10.load_data()\n",
    "train_dataset_resized = create_transfer_dataset(x_train, y_train)\n",
    "test_dataset_resized = create_transfer_dataset(x_test, y_test)"
   ]
  },
  {
   "cell_type": "code",
   "execution_count": 13,
   "id": "answering-coupon",
   "metadata": {
    "deletable": false,
    "editable": false,
    "nbgrader": {
     "cell_type": "code",
     "checksum": "4c8dd52dd77ed40e9ba642c39e6d1677",
     "grade": false,
     "grade_id": "cell-c2702ac797ba4ad8",
     "locked": true,
     "schema_version": 3,
     "solution": false,
     "task": false
    }
   },
   "outputs": [],
   "source": [
    "# compile model\n",
    "compile_model(tran_model)"
   ]
  },
  {
   "cell_type": "code",
   "execution_count": null,
   "id": "false-upset",
   "metadata": {
    "deletable": false,
    "editable": false,
    "nbgrader": {
     "cell_type": "code",
     "checksum": "6104d71a6ee2c287d94198e6a9781da3",
     "grade": false,
     "grade_id": "cell-e0e2ad818595f1d1",
     "locked": true,
     "schema_version": 3,
     "solution": false,
     "task": false
    }
   },
   "outputs": [],
   "source": [
    "# train model\n",
    "early_stop = EarlyStopping(patience=4, monitor='val_accuracy')\n",
    "tran_history = tran_model.fit(train_dataset_resized, epochs=30, validation_data=test_dataset_resized, callbacks=[early_stop])"
   ]
  },
  {
   "cell_type": "code",
   "execution_count": null,
   "id": "endless-shark",
   "metadata": {
    "deletable": false,
    "editable": false,
    "nbgrader": {
     "cell_type": "code",
     "checksum": "852ea376e9cc28a09272d20dda78d02a",
     "grade": false,
     "grade_id": "cell-32893ad0dcfed252",
     "locked": true,
     "schema_version": 3,
     "solution": false,
     "task": false
    }
   },
   "outputs": [],
   "source": [
    "df = pd.DataFrame(tran_history.history)\n",
    "df.head()"
   ]
  },
  {
   "cell_type": "code",
   "execution_count": null,
   "id": "faced-listening",
   "metadata": {
    "deletable": false,
    "editable": false,
    "nbgrader": {
     "cell_type": "code",
     "checksum": "d566ec4c00c547d44a98b648438d8d3f",
     "grade": false,
     "grade_id": "cell-9df6d2cfead61763",
     "locked": true,
     "schema_version": 3,
     "solution": false,
     "task": false
    }
   },
   "outputs": [],
   "source": [
    "# plot loss and accuracy against epoch\n",
    "fig, axes = plt.subplots(nrows=1, ncols=2, figsize=(8,3.5))\n",
    "df.plot(y=['loss', 'val_loss'], ax=axes[0], title='loss vs epcoh')\n",
    "df.plot(y=['accuracy', 'val_accuracy'], ax=axes[1], title='accuracy vs epoch')\n",
    "axes[0].set_xlabel('epoch')\n",
    "axes[0].set_ylabel('loss')\n",
    "axes[1].set_xlabel('epoch')\n",
    "axes[1].set_ylabel('accuracy')\n",
    "plt.subplots_adjust(wspace=0.5)"
   ]
  },
  {
   "cell_type": "code",
   "execution_count": null,
   "id": "valuable-glossary",
   "metadata": {
    "deletable": false,
    "editable": false,
    "nbgrader": {
     "cell_type": "code",
     "checksum": "5c5d32b3439891e1d6c157d09945aa03",
     "grade": false,
     "grade_id": "cell-1e190e1523002543",
     "locked": true,
     "schema_version": 3,
     "solution": false,
     "task": false
    }
   },
   "outputs": [],
   "source": [
    "# evaluate the model on the test set\n",
    "tran_model.evaluate(test_dataset_resized, verbose=2)"
   ]
  },
  {
   "cell_type": "markdown",
   "id": "handed-nothing",
   "metadata": {
    "deletable": false,
    "editable": false,
    "nbgrader": {
     "cell_type": "markdown",
     "checksum": "754d5d225c07ff097edb896ff3badc37",
     "grade": false,
     "grade_id": "cell-3058f1a327bdb630",
     "locked": true,
     "schema_version": 3,
     "solution": false,
     "task": false
    }
   },
   "source": [
    "By using transfer learning, we pushed the accuracy to over 70%! Note that now the state of the art benchmark accuracy on this task is [99.70%](https://paperswithcode.com/sota/image-classification-on-cifar-10)."
   ]
  },
  {
   "cell_type": "markdown",
   "id": "daily-skirt",
   "metadata": {
    "deletable": false,
    "editable": false,
    "nbgrader": {
     "cell_type": "markdown",
     "checksum": "b9895da88de1bb4395943f0f07ee6aa4",
     "grade": false,
     "grade_id": "cell-461fb842f147ac03",
     "locked": true,
     "schema_version": 3,
     "solution": false,
     "task": false
    }
   },
   "source": [
    "<a name='da'></a>\n",
    "# Graded Function\n",
    "## Data Augmentation\n",
    "Complete the create_image_generator function below. You should:\n",
    "* create an ImageDataGenerator instance\n",
    "* initialize the ImageDataGenerator instance with: horizontal_flip=True, vertical_flip=True, rotation_range=180, rescale=1/255.0\n",
    "* return this ImageDataGenerator instance"
   ]
  },
  {
   "cell_type": "code",
   "execution_count": 11,
   "id": "devoted-limit",
   "metadata": {
    "deletable": false,
    "nbgrader": {
     "cell_type": "code",
     "checksum": "f1944e4911cea04271c358cfde48bd1b",
     "grade": false,
     "grade_id": "cell-e8f73c60d2d5dab5",
     "locked": false,
     "schema_version": 3,
     "solution": true,
     "task": false
    }
   },
   "outputs": [],
   "source": [
    "def create_image_generator():\n",
    "    # YOUR CODE HERE\n",
    "    imageData = ImageDataGenerator(rescale = 1.0/255.0, horizontal_flip=True, vertical_flip=True, rotation_range=180)\n",
    "    return imageData"
   ]
  },
  {
   "cell_type": "code",
   "execution_count": 12,
   "id": "comparable-hands",
   "metadata": {
    "deletable": false,
    "editable": false,
    "nbgrader": {
     "cell_type": "code",
     "checksum": "91df5d9ad238d1f0b3121cb4598fa700",
     "grade": true,
     "grade_id": "cell-da6fe67350d78f3d",
     "locked": true,
     "points": 1,
     "schema_version": 3,
     "solution": false,
     "task": false
    }
   },
   "outputs": [],
   "source": [
    "# this cell contains a hiddent test, don't delete this cell"
   ]
  },
  {
   "cell_type": "code",
   "execution_count": 13,
   "id": "welcome-louisiana",
   "metadata": {},
   "outputs": [],
   "source": [
    "img_gen = create_image_generator()"
   ]
  },
  {
   "cell_type": "code",
   "execution_count": 14,
   "id": "legal-tracy",
   "metadata": {
    "deletable": false,
    "editable": false,
    "nbgrader": {
     "cell_type": "code",
     "checksum": "871dfe789c95e4c4e00da4a978c4fb41",
     "grade": false,
     "grade_id": "cell-383223f3264ad4fd",
     "locked": true,
     "schema_version": 3,
     "solution": false,
     "task": false
    }
   },
   "outputs": [],
   "source": [
    "(x_train, y_train), (x_test, y_test) = cifar10.load_data()"
   ]
  },
  {
   "cell_type": "code",
   "execution_count": 15,
   "id": "saved-designer",
   "metadata": {},
   "outputs": [
    {
     "data": {
      "image/png": "[encoded data removed]",
      "text/plain": [
       "<Figure size 1080x1080 with 5 Axes>"
      ]
     },
     "metadata": {},
     "output_type": "display_data"
    }
   ],
   "source": [
    "# show the first train images and their augmented iamges\n",
    "classes = [\"airplane\",\"automobile\", \"bird\", \"cat\", \"deer\",\n",
    "          \"dog\", \"frog\", \"horse\", \"ship\", \"truck\"]\n",
    "fig, axs = plt.subplots(1,5, figsize=(15,15))\n",
    "for i in range(5):\n",
    "    if i == 0:\n",
    "        axs[i].imshow(x_train[i])\n",
    "    else:\n",
    "         axs[i].imshow(img_gen.random_transform(x_train[0]))\n",
    "    axs[i].set_title(classes[y_train[0][0]])\n",
    "    axs[i].set_xticks([])\n",
    "    axs[i].set_yticks([])\n",
    "plt.show()"
   ]
  },
  {
   "cell_type": "markdown",
   "id": "upset-welding",
   "metadata": {
    "deletable": false,
    "editable": false,
    "nbgrader": {
     "cell_type": "markdown",
     "checksum": "17ff091830e3066344f3e0b71721a0f8",
     "grade": false,
     "grade_id": "cell-6198cc6cfafde568",
     "locked": true,
     "schema_version": 3,
     "solution": false,
     "task": false
    }
   },
   "source": [
    "# Try to play with data augmentation and use it to improve our classification model!"
   ]
  },
  {
   "cell_type": "code",
   "execution_count": null,
   "id": "numerical-worth",
   "metadata": {},
   "outputs": [],
   "source": []
  }
 ],
 "metadata": {
  "kernelspec": {
   "display_name": "Python 3",
   "language": "python",
   "name": "python3"
  },
  "language_info": {
   "codemirror_mode": {
    "name": "ipython",
    "version": 3
   },
   "file_extension": ".py",
   "mimetype": "text/x-python",
   "name": "python",
   "nbconvert_exporter": "python",
   "pygments_lexer": "ipython3",
   "version": "3.6.12"
  }
 },
 "nbformat": 4,
 "nbformat_minor": 5
}
