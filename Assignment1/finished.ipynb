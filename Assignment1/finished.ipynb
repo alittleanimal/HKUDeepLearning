{
 "cells": [
  {
   "cell_type": "markdown",
   "id": "great-commissioner",
   "metadata": {
    "deletable": false,
    "editable": false,
    "nbgrader": {
     "cell_type": "markdown",
     "checksum": "02ec15742eac7a752e643a0feb243be8",
     "grade": false,
     "grade_id": "title",
     "locked": true,
     "schema_version": 3,
     "solution": false,
     "task": false
    }
   },
   "source": [
    "# Image Classification of Cifar10 dataset"
   ]
  },
  {
   "cell_type": "markdown",
   "id": "rotary-cooperative",
   "metadata": {
    "deletable": false,
    "editable": false,
    "nbgrader": {
     "cell_type": "markdown",
     "checksum": "03af55d15e6fe43e22d5ac981485fe65",
     "grade": false,
     "grade_id": "introduction",
     "locked": true,
     "schema_version": 3,
     "solution": false,
     "task": false
    }
   },
   "source": [
    "In this assignment, we will train several image classification models using the [CIFAR-10 dataset](https://keras.io/api/datasets/cifar10/). The CIFAR-10 dataset consists of 60000 32x32 colour images in 10 classes, with 6000 images per class. There are 50000 training images and 10000 test images. The training images contain exactly 5000 images from each class and the test images contain exactly 1000 randomly-selected images from each class."
   ]
  },
  {
   "cell_type": "markdown",
   "id": "direct-rough",
   "metadata": {
    "deletable": false,
    "editable": false,
    "nbgrader": {
     "cell_type": "markdown",
     "checksum": "146c3b07f118160996c6c7d2a449f539",
     "grade": false,
     "grade_id": "cell-bf016d6d8ff9f65b",
     "locked": true,
     "schema_version": 3,
     "solution": false,
     "task": false
    }
   },
   "source": [
    "# Important Notes\n",
    "* requirements:\n",
    "  * python 3.6\n",
    "  * tensorflow 2.0.0 (or tensorflow-gpu 2.0.0), h5py 2.10.0, scipy >= 1.5.4, pandas 1.1.5, numpy 1.19, matplotlib\n",
    "  * to install a package like tensorflow with specific version 2.0.0, use <strong> pip3 install tensorflow==2.0.0 </strong>\n",
    "* You are suggested to execute code we provided in order. You can add cells to do experiments, but <strong>DO NOT change code we provided unless it is a function that you need to complete</strong>. In each graded function cell, you should replace \"raise NotImplementedError()\" under \"# YOUR CODE HERE\" by your own answer. For some graded functions, we have already provided some test cases for you. Passing these test cases will guarantee that you can at least get some scores. We have some hidden tests. So passing all tests in this notebook doesn't mean you can get all scores. <strong> Do Not Delete any cell we provided, it may lead to scroing error for some hidden test cases. </strong> If you accidently deleted some graded function cells or test cells, you should download this assignment again. <strong> Adding a new cell and pasting deleted content won't work in this case. </strong>\n",
    "* Only funtions specified in the Graded Function part will be graded. Other parts will be ignored during grading.\n",
    "* <strong> Rename this ps1.ipynb file as <your_hku_student_id>.ipynb to submit </strong>. For example, if your student id is 1234567890, then your should rename ps1.ipynb as 1234567890.ipynb.\n",
    "* GPU is not required. But if you want to run the training code faster, you can use GPU. [How to use HKU GPU](https://www.cs.hku.hk/gpu-farm/home). Another option is to use [google colab](https://colab.research.google.com/notebooks/intro.ipynb#recent=true)."
   ]
  },
  {
   "cell_type": "markdown",
   "id": "imported-austin",
   "metadata": {
    "deletable": false,
    "editable": false,
    "nbgrader": {
     "cell_type": "markdown",
     "checksum": "7cac77f6f980abb4b94d676380576b03",
     "grade": false,
     "grade_id": "cell-75a72d11d23cfb4b",
     "locked": true,
     "schema_version": 3,
     "solution": false,
     "task": false
    }
   },
   "source": [
    "# Sections\n",
    "* [Data Process](#dp)\n",
    "* [MLP Classifier](#mlp)\n",
    "* [CNN Classifier](#cnn)\n",
    "* [Transfer Learning](#tl)\n",
    "* [Data Augmentation](#da)"
   ]
  },
  {
   "cell_type": "code",
   "execution_count": 2,
   "id": "average-haiti",
   "metadata": {
    "deletable": false,
    "editable": false,
    "nbgrader": {
     "cell_type": "code",
     "checksum": "784110bc6d126d1bdf6962a866b66146",
     "grade": false,
     "grade_id": "cell-a161f46ed06a3af1",
     "locked": true,
     "schema_version": 3,
     "solution": false,
     "task": false
    }
   },
   "outputs": [],
   "source": [
    "### import modules\n",
    "import numpy as np\n",
    "import matplotlib.pyplot as plt\n",
    "import tensorflow as tf\n",
    "from tensorflow.keras.models import Sequential\n",
    "from tensorflow.keras.layers import Flatten, Dense, Conv2D, MaxPool2D, BatchNormalization, Dropout\n",
    "from tensorflow.keras.callbacks import EarlyStopping\n",
    "from tensorflow.keras.datasets import cifar10\n",
    "from tensorflow.keras.preprocessing.image import ImageDataGenerator\n",
    "import pandas as pd\n",
    "import scipy\n",
    "\n",
    "%matplotlib inline"
   ]
  },
  {
   "cell_type": "markdown",
   "id": "dated-ivory",
   "metadata": {},
   "source": [
    "<a name='dp'></a>\n",
    "# 1. Data Process"
   ]
  },
  {
   "cell_type": "markdown",
   "id": "literary-carroll",
   "metadata": {
    "deletable": false,
    "editable": false,
    "nbgrader": {
     "cell_type": "markdown",
     "checksum": "f2aac36bbd70974b8148fcbacb9443f3",
     "grade": false,
     "grade_id": "load_data",
     "locked": true,
     "schema_version": 3,
     "solution": false,
     "task": false
    }
   },
   "source": [
    "## Graded Function:\n",
    "Complete the load_data function below. You should:\n",
    "* load cifar10 dataset using the tf.keras.datasets api (check [this link](https://keras.io/api/datasets/cifar10/))\n",
    "* rescale pixel values of x_train, x_test to range \\[0,1\\] by dividing them by 255.0 \n",
    "* reshape y_train, y_test to shape (-1,)\n",
    "* return the dataset in this format: (x_train, y_train), (x_test, y_test)"
   ]
  },
  {
   "cell_type": "code",
   "execution_count": 3,
   "id": "junior-terror",
   "metadata": {
    "deletable": false,
    "nbgrader": {
     "cell_type": "code",
     "checksum": "aed969d84211a3a57c8ef1ef17a55b9f",
     "grade": false,
     "grade_id": "cell-97f8e73630646669",
     "locked": false,
     "schema_version": 3,
     "solution": true,
     "task": false
    }
   },
   "outputs": [],
   "source": [
    "def load_data():\n",
    "    \"\"\"load cifar10 dataset using the tf.keras.datasets api and \n",
    "    return the loaded data as two tuples: (x_train, y_train), (x_test, y_test)\n",
    "    \"\"\"\n",
    "    # YOUR CODE HERE\n",
    "    (x_train, y_train), (x_test, y_test) = tf.keras.datasets.cifar10.load_data()\n",
    "    x_train = np.asarray(x_train, dtype=np.float32)\n",
    "    y_train = np.asarray(y_train, dtype=np.int32).flatten()\n",
    "    x_test = np.asarray(x_test, dtype=np.float32)\n",
    "    y_test = np.asarray(y_test, dtype=np.int32).flatten()\n",
    "\n",
    "\n",
    "    # Normalize the data: subtract the mean pixel and divide by std\n",
    "    mean_pixel = x_train.mean(axis=(0, 1, 2), keepdims=True)\n",
    "    std_pixel = x_train.std(axis=(0, 1, 2), keepdims=True)\n",
    "    x_train = (x_train - mean_pixel) / std_pixel\n",
    "    x_test = (x_test - mean_pixel) / std_pixel\n",
    "\n",
    "    return (x_train, y_train), (x_test, y_test)"
   ]
  },
  {
   "cell_type": "code",
   "execution_count": 4,
   "id": "coupled-ranking",
   "metadata": {
    "deletable": false,
    "editable": false,
    "nbgrader": {
     "cell_type": "code",
     "checksum": "d84991ee81d69a15cca6867303c157d7",
     "grade": true,
     "grade_id": "cell-297fed09a2ea97c2",
     "locked": true,
     "points": 1,
     "schema_version": 3,
     "solution": false,
     "task": false
    }
   },
   "outputs": [],
   "source": [
    "(test_x_train, test_y_train), (test_x_test, test_y_test) = load_data()\n",
    "assert test_x_train.shape == (50000, 32, 32, 3)\n",
    "assert test_y_train.shape == (50000,)\n",
    "assert test_x_test.shape == (10000, 32, 32, 3)\n",
    "assert test_y_test.shape == (10000,)"
   ]
  },
  {
   "cell_type": "code",
   "execution_count": 5,
   "id": "detected-excess",
   "metadata": {
    "deletable": false,
    "editable": false,
    "nbgrader": {
     "cell_type": "code",
     "checksum": "bdd1b9869b84ce9085cbb8f71785a9bb",
     "grade": true,
     "grade_id": "cell-1ae3e5a738197831",
     "locked": true,
     "points": 1,
     "schema_version": 3,
     "solution": false,
     "task": false
    }
   },
   "outputs": [],
   "source": [
    "# this cell contains a hiddent test, don't delete this cell"
   ]
  },
  {
   "cell_type": "code",
   "execution_count": 6,
   "id": "focused-tolerance",
   "metadata": {
    "deletable": false,
    "editable": false,
    "nbgrader": {
     "cell_type": "code",
     "checksum": "16affe67e51713735542497696df6dfd",
     "grade": false,
     "grade_id": "cell-508069c51b35a92d",
     "locked": true,
     "schema_version": 3,
     "solution": false,
     "task": false
    }
   },
   "outputs": [
    {
     "name": "stderr",
     "output_type": "stream",
     "text": [
      "Clipping input data to the valid range for imshow with RGB data ([0..1] for floats or [0..255] for integers).\n",
      "Clipping input data to the valid range for imshow with RGB data ([0..1] for floats or [0..255] for integers).\n",
      "Clipping input data to the valid range for imshow with RGB data ([0..1] for floats or [0..255] for integers).\n",
      "Clipping input data to the valid range for imshow with RGB data ([0..1] for floats or [0..255] for integers).\n",
      "Clipping input data to the valid range for imshow with RGB data ([0..1] for floats or [0..255] for integers).\n"
     ]
    },
    {
     "data": {
      "image/png": "[encoded data removed]",
      "text/plain": [
       "<Figure size 1080x1080 with 5 Axes>"
      ]
     },
     "metadata": {},
     "output_type": "display_data"
    }
   ],
   "source": [
    "# load the data using load_data function\n",
    "(x_train, y_train), (x_test, y_test) = load_data()\n",
    "\n",
    "# show the first five train images and its label\n",
    "classes = [\"airplane\",\"automobile\", \"bird\", \"cat\", \"deer\",\n",
    "          \"dog\", \"frog\", \"horse\", \"ship\", \"truck\"]\n",
    "fig, axs = plt.subplots(1,5, figsize=(15,15))\n",
    "for i in range(5):\n",
    "    axs[i].imshow(x_train[i])\n",
    "    axs[i].set_title(classes[y_train[i]])\n",
    "    axs[i].set_xticks([])\n",
    "    axs[i].set_yticks([])\n",
    "plt.show()"
   ]
  },
  {
   "cell_type": "markdown",
   "id": "consolidated-audience",
   "metadata": {
    "deletable": false,
    "editable": false,
    "nbgrader": {
     "cell_type": "markdown",
     "checksum": "2472dcc8c38b6d3d01d44e2e2545042e",
     "grade": false,
     "grade_id": "cell-4a8233221b37dcc9",
     "locked": true,
     "schema_version": 3,
     "solution": false,
     "task": false
    }
   },
   "source": [
    "# Graded Function:\n",
    "You will complete the create_dataset function below. This function will take five arguments (images, labels, batch_size, buffer_size, seed). Later on you will pass in (x_train, y_train, augment_map) and (x_test, y_test, augment_map) to create datasets. You should create a dataset with the following steps:\n",
    "* first create a tf.data.Dataset object using tf.data.Dataset.from_tensor_slices method. Each element of the resulting dataset should be a tuple (image, label)\n",
    "* batch the dataset with batch size set to the batch_size argument\n",
    "* shuffle the dataset with shuffle buffer size set to buffer_size argument, shuffle seed set to seed argument and set reshuffle_each_iteration to False\n",
    "* return the dataset you created"
   ]
  },
  {
   "cell_type": "code",
   "execution_count": 7,
   "id": "empty-impact",
   "metadata": {
    "deletable": false,
    "nbgrader": {
     "cell_type": "code",
     "checksum": "16069f01647c3c5e917e805ed6a9ef62",
     "grade": false,
     "grade_id": "cell-7921dd9e4356073b",
     "locked": false,
     "schema_version": 3,
     "solution": true,
     "task": false
    }
   },
   "outputs": [],
   "source": [
    "def create_dataset(images, labels, batch_size, buffer_size=10_000, seed=None):\n",
    "    # YOUR CODE HERE\n",
    "    dataset = tf.data.Dataset.from_tensor_slices((images, labels)).shuffle(10000,seed,False).batch(batch_size)\n",
    "    return dataset"
   ]
  },
  {
   "cell_type": "code",
   "execution_count": 8,
   "id": "distinguished-montgomery",
   "metadata": {
    "deletable": false,
    "editable": false,
    "nbgrader": {
     "cell_type": "code",
     "checksum": "a098bfbec3970d6c3c797d36d2c667cd",
     "grade": true,
     "grade_id": "cell-5e646e842306ee85",
     "locked": true,
     "points": 1,
     "schema_version": 3,
     "solution": false,
     "task": false
    }
   },
   "outputs": [],
   "source": [
    "(test_x_train, test_y_train), (test_x_test, test_y_test) = cifar10.load_data()\n",
    "dataset_1 = create_dataset(test_x_test, test_y_test, batch_size=32, seed=200)\n",
    "assert isinstance(dataset_1, tf.data.Dataset)\n",
    "example = next(iter(dataset_1))\n",
    "example_2 = next(iter(dataset_1))\n",
    "assert example[0].shape == (32,32,32,3)\n",
    "assert example[1].shape == (32,1)\n",
    "assert example_2[0].shape == (32,32,32,3)\n",
    "assert example_2[1].shape == (32,1)\n",
    "del test_x_train\n",
    "del test_y_train\n",
    "del test_x_test\n",
    "del test_y_test"
   ]
  },
  {
   "cell_type": "code",
   "execution_count": 9,
   "id": "alert-politics",
   "metadata": {
    "deletable": false,
    "editable": false,
    "nbgrader": {
     "cell_type": "code",
     "checksum": "bcd0c3e58ddf70d9f3d3fe924991cb9b",
     "grade": true,
     "grade_id": "cell-3179a91c879b3cb6",
     "locked": true,
     "points": 1,
     "schema_version": 3,
     "solution": false,
     "task": false
    }
   },
   "outputs": [],
   "source": [
    "# this cell contains a hiddent test, don't delete this cell"
   ]
  },
  {
   "cell_type": "code",
   "execution_count": 10,
   "id": "mighty-masters",
   "metadata": {
    "deletable": false,
    "editable": false,
    "nbgrader": {
     "cell_type": "code",
     "checksum": "9fa3d57cc9847031fd1d57023548907e",
     "grade": false,
     "grade_id": "cell-5914d434c0416418",
     "locked": true,
     "schema_version": 3,
     "solution": false,
     "task": false
    }
   },
   "outputs": [
    {
     "name": "stdout",
     "output_type": "stream",
     "text": [
      "(TensorSpec(shape=(None, 32, 32, 3), dtype=tf.float32, name=None), TensorSpec(shape=(None,), dtype=tf.int32, name=None))\n",
      "(TensorSpec(shape=(None, 32, 32, 3), dtype=tf.float32, name=None), TensorSpec(shape=(None,), dtype=tf.int32, name=None))\n"
     ]
    }
   ],
   "source": [
    "# create train and test datasets\n",
    "train_dataset = create_dataset(x_train, y_train, batch_size=32)\n",
    "test_dataset = create_dataset(x_test, y_test, batch_size=32)\n",
    "print(train_dataset.element_spec)\n",
    "print(test_dataset.element_spec)"
   ]
  },
  {
   "cell_type": "markdown",
   "id": "prostate-multiple",
   "metadata": {
    "deletable": false,
    "editable": false,
    "nbgrader": {
     "cell_type": "markdown",
     "checksum": "30b58b23f177841aa5676abea54272b2",
     "grade": false,
     "grade_id": "cell-b554ce91618e3daa",
     "locked": true,
     "schema_version": 3,
     "solution": false,
     "task": false
    }
   },
   "source": [
    "<a name='mlp'></a>\n",
    "# Graded Function:\n",
    "## 2. MLP neural network classifier\n",
    "Complete the build_mlp_model function below. The following requirements must be satisfied:\n",
    "* Build a MLP classifier model using the Sequential API. Your model should use only Flatten and Dense layers, with the final layer having a 10-way softmax output. \n",
    "* the paramter units is a list of integers and input_shape is a list or a tuple of integers.\n",
    "* you should use the tf.keras.models.Sequential api.\n",
    "* the first layer is a Flatten layer, you should set the input shape of this layer to the input_shape parameter of the function\n",
    "* the first layer is followed by len(units) dense layers. Intergers in the units list specify the number of units in these Dense layers (one by one). All these layers have ReLU activation function\n",
    "* then a final Dense layer is followed. This final dense layer has 10 units. A softmax activation function is used in this layer.\n",
    "* return the model"
   ]
  },
  {
   "cell_type": "code",
   "execution_count": 21,
   "id": "developing-friendly",
   "metadata": {
    "deletable": false,
    "nbgrader": {
     "cell_type": "code",
     "checksum": "25768b9d374d415c530ce2bc9d62979b",
     "grade": false,
     "grade_id": "cell-b66968fd0f156c40",
     "locked": false,
     "schema_version": 3,
     "solution": true,
     "task": false
    }
   },
   "outputs": [],
   "source": [
    "def build_mlp_model(units, input_shape):\n",
    "    model = Sequential()\n",
    "    # YOUR CODE HERE\n",
    "    model.add(Flatten(input_shape=input_shape))\n",
    "    for unit in units:\n",
    "        model.add(Dense(unit, activation='relu'))\n",
    "    model.add(Dense(10, activation='softmax'))\n",
    "    return model"
   ]
  },
  {
   "cell_type": "code",
   "execution_count": 22,
   "id": "systematic-eating",
   "metadata": {
    "deletable": false,
    "editable": false,
    "nbgrader": {
     "cell_type": "code",
     "checksum": "02d9452dea62bbc8595e81bcdc75e961",
     "grade": true,
     "grade_id": "cell-3242110d64a75410",
     "locked": true,
     "points": 1,
     "schema_version": 3,
     "solution": false,
     "task": false
    }
   },
   "outputs": [],
   "source": [
    "test_units = [32]\n",
    "test_shape = [16, 16]\n",
    "test_model = build_mlp_model(test_units, test_shape)\n",
    "assert isinstance(test_model, tf.keras.models.Model)\n",
    "assert len(test_model.layers) == len(test_units) + 2\n",
    "assert test_model.layers[0].input_shape == (None, 16, 16)\n",
    "assert isinstance(test_model.layers[0], Flatten)\n",
    "config = test_model.layers[1].get_config()\n",
    "assert isinstance(test_model.layers[1], Dense)\n",
    "assert config['activation'] == 'relu'\n",
    "assert config['units'] == test_units[0]\n",
    "assert isinstance(test_model.layers[-1], Dense)\n",
    "config = test_model.layers[-1].get_config()\n",
    "assert isinstance(test_model.layers[-1], Dense)\n",
    "assert config['activation'] == 'softmax'\n",
    "assert config['units'] == 10\n",
    "del test_model"
   ]
  },
  {
   "cell_type": "code",
   "execution_count": 23,
   "id": "accepting-andrew",
   "metadata": {
    "deletable": false,
    "editable": false,
    "nbgrader": {
     "cell_type": "code",
     "checksum": "05ea50fef314058d646d2107eadb8cef",
     "grade": true,
     "grade_id": "cell-f86159b994adcf94",
     "locked": true,
     "points": 1,
     "schema_version": 3,
     "solution": false,
     "task": false
    }
   },
   "outputs": [],
   "source": [
    "# this cell contains a hiddent test, don't delete this cell"
   ]
  },
  {
   "cell_type": "code",
   "execution_count": 24,
   "id": "native-mistress",
   "metadata": {
    "deletable": false,
    "editable": false,
    "nbgrader": {
     "cell_type": "code",
     "checksum": "f1a3c4b6abf17bc63544122c6526fa07",
     "grade": false,
     "grade_id": "cell-ca4c7576bab2036f",
     "locked": true,
     "schema_version": 3,
     "solution": false,
     "task": false
    }
   },
   "outputs": [
    {
     "name": "stdout",
     "output_type": "stream",
     "text": [
      "Model: \"sequential_3\"\n",
      "_________________________________________________________________\n",
      "Layer (type)                 Output Shape              Param #   \n",
      "=================================================================\n",
      "flatten_3 (Flatten)          (None, 3072)              0         \n",
      "_________________________________________________________________\n",
      "dense_8 (Dense)              (None, 64)                196672    \n",
      "_________________________________________________________________\n",
      "dense_9 (Dense)              (None, 32)                2080      \n",
      "_________________________________________________________________\n",
      "dense_10 (Dense)             (None, 32)                1056      \n",
      "_________________________________________________________________\n",
      "dense_11 (Dense)             (None, 10)                330       \n",
      "=================================================================\n",
      "Total params: 200,138\n",
      "Trainable params: 200,138\n",
      "Non-trainable params: 0\n",
      "_________________________________________________________________\n"
     ]
    }
   ],
   "source": [
    "# create model and print out the model summary\n",
    "# units = [64,32]\n",
    "units = [64,32, 32]\n",
    "mlp_model = build_mlp_model(units, x_train.shape[1:])\n",
    "mlp_model.summary()"
   ]
  },
  {
   "cell_type": "markdown",
   "id": "nuclear-breathing",
   "metadata": {
    "deletable": false,
    "editable": false,
    "nbgrader": {
     "cell_type": "markdown",
     "checksum": "2f8b720e07b80538533a905766209286",
     "grade": false,
     "grade_id": "cell-a365af1538ac3bc6",
     "locked": true,
     "schema_version": 3,
     "solution": false,
     "task": false
    }
   },
   "source": [
    "# Graded Function:\n",
    "Complete the compile_model function below. Complie the model using the compile method of tf.keras.Model class:\n",
    "* use the adam optimizer with default parameters\n",
    "* use the sparse categorical crossentropy loss\n",
    "* use only the accuracy metric\n",
    "* this function shouldn't return anything (the model passed in will keep all the settings you compiled in this function)"
   ]
  },
  {
   "cell_type": "code",
   "execution_count": 12,
   "id": "baking-allocation",
   "metadata": {
    "deletable": false,
    "nbgrader": {
     "cell_type": "code",
     "checksum": "bc71467ec04e3ad654b47cb89ee9f442",
     "grade": false,
     "grade_id": "cell-87d0e04a58f356a6",
     "locked": false,
     "schema_version": 3,
     "solution": true,
     "task": false
    }
   },
   "outputs": [],
   "source": [
    "def compile_model(model):\n",
    "    # YOUR CODE HERE\n",
    "    model.compile(optimizer='adam',\n",
    "                  loss='sparse_categorical_crossentropy',\n",
    "                  metrics=['accuracy'])"
   ]
  },
  {
   "cell_type": "code",
   "execution_count": 26,
   "id": "blind-perspective",
   "metadata": {
    "deletable": false,
    "editable": false,
    "nbgrader": {
     "cell_type": "code",
     "checksum": "37730a73c5aa2ac2e658fa79929ae359",
     "grade": false,
     "grade_id": "cell-798a4acf2b6e552c",
     "locked": true,
     "schema_version": 3,
     "solution": false,
     "task": false
    }
   },
   "outputs": [],
   "source": [
    "# compile the multi layer perceptron model\n",
    "compile_model(mlp_model)"
   ]
  },
  {
   "cell_type": "code",
   "execution_count": 27,
   "id": "conservative-partner",
   "metadata": {
    "deletable": false,
    "editable": false,
    "nbgrader": {
     "cell_type": "code",
     "checksum": "288d796c6dd074c7ccb2151e9075de46",
     "grade": true,
     "grade_id": "cell-f7ce6ff6f6bd668f",
     "locked": true,
     "points": 1,
     "schema_version": 3,
     "solution": false,
     "task": false
    }
   },
   "outputs": [],
   "source": [
    "test_model = Sequential([Dense(100),\n",
    "                        Dense(2, activation='softmax')])\n",
    "compile_model(test_model)\n",
    "assert isinstance(test_model.optimizer, tf.keras.optimizers.Adam)\n",
    "assert hasattr(test_model, 'loss')\n",
    "assert test_model.loss == 'sparse_categorical_crossentropy'\n",
    "assert ['accuracy'] == test_model._compile_metrics\n",
    "del test_model"
   ]
  },
  {
   "cell_type": "code",
   "execution_count": 28,
   "id": "french-rider",
   "metadata": {
    "deletable": false,
    "editable": false,
    "nbgrader": {
     "cell_type": "code",
     "checksum": "55291fc4efcdf36019cb9700630722a9",
     "grade": false,
     "grade_id": "cell-7d801b7ce289595e",
     "locked": true,
     "schema_version": 3,
     "solution": false,
     "task": false
    }
   },
   "outputs": [
    {
     "name": "stdout",
     "output_type": "stream",
     "text": [
      "Epoch 1/30\n",
      "1563/1563 [==============================] - 16s 10ms/step - loss: 1.7822 - accuracy: 0.3702 - val_loss: 0.0000e+00 - val_accuracy: 0.0000e+00\n",
      "Epoch 2/30\n",
      "1563/1563 [==============================] - 13s 8ms/step - loss: 1.5843 - accuracy: 0.4396 - val_loss: 1.5534 - val_accuracy: 0.4448\n",
      "Epoch 3/30\n",
      "1563/1563 [==============================] - 13s 8ms/step - loss: 1.4905 - accuracy: 0.4727 - val_loss: 1.5352 - val_accuracy: 0.4570\n",
      "Epoch 4/30\n",
      "1563/1563 [==============================] - 13s 8ms/step - loss: 1.4295 - accuracy: 0.4937 - val_loss: 1.5091 - val_accuracy: 0.4635\n",
      "Epoch 5/30\n",
      "1563/1563 [==============================] - 13s 8ms/step - loss: 1.3766 - accuracy: 0.5126 - val_loss: 1.5053 - val_accuracy: 0.4765\n",
      "Epoch 6/30\n",
      "1563/1563 [==============================] - 12s 8ms/step - loss: 1.3366 - accuracy: 0.5254 - val_loss: 1.4866 - val_accuracy: 0.4755\n",
      "Epoch 7/30\n",
      "1563/1563 [==============================] - 12s 8ms/step - loss: 1.3017 - accuracy: 0.5359 - val_loss: 1.4943 - val_accuracy: 0.4777\n",
      "Epoch 8/30\n",
      "1563/1563 [==============================] - 13s 8ms/step - loss: 1.2706 - accuracy: 0.5472 - val_loss: 1.4979 - val_accuracy: 0.4760\n",
      "Epoch 9/30\n",
      "1563/1563 [==============================] - 13s 8ms/step - loss: 1.2449 - accuracy: 0.5547 - val_loss: 1.5005 - val_accuracy: 0.4799\n",
      "Epoch 10/30\n",
      "1563/1563 [==============================] - 12s 8ms/step - loss: 1.2214 - accuracy: 0.5657 - val_loss: 1.5192 - val_accuracy: 0.4802\n",
      "Epoch 11/30\n",
      "1563/1563 [==============================] - 11s 7ms/step - loss: 1.2014 - accuracy: 0.5708 - val_loss: 1.5112 - val_accuracy: 0.4817\n",
      "Epoch 12/30\n",
      "1563/1563 [==============================] - 12s 8ms/step - loss: 1.1810 - accuracy: 0.5791 - val_loss: 1.5242 - val_accuracy: 0.4792\n",
      "Epoch 13/30\n",
      "1563/1563 [==============================] - 11s 7ms/step - loss: 1.1617 - accuracy: 0.5860 - val_loss: 1.5375 - val_accuracy: 0.4817\n",
      "Epoch 14/30\n",
      "1563/1563 [==============================] - 12s 8ms/step - loss: 1.1455 - accuracy: 0.5889 - val_loss: 1.5589 - val_accuracy: 0.4790\n",
      "Epoch 15/30\n",
      "1563/1563 [==============================] - 12s 8ms/step - loss: 1.1307 - accuracy: 0.5960 - val_loss: 1.5700 - val_accuracy: 0.4763\n",
      "Epoch 16/30\n",
      "1563/1563 [==============================] - 12s 7ms/step - loss: 1.1151 - accuracy: 0.6012 - val_loss: 1.5930 - val_accuracy: 0.4779\n"
     ]
    }
   ],
   "source": [
    "# train mlp model\n",
    "early_stop = EarlyStopping(patience=5, monitor='val_accuracy')\n",
    "history = mlp_model.fit(train_dataset, epochs=30, validation_data=test_dataset, callbacks=[early_stop])"
   ]
  },
  {
   "cell_type": "code",
   "execution_count": 29,
   "id": "french-methodology",
   "metadata": {
    "deletable": false,
    "editable": false,
    "nbgrader": {
     "cell_type": "code",
     "checksum": "e181e4aebf0509ca6814cf9d2fa446a5",
     "grade": false,
     "grade_id": "cell-1e339267cf214ef9",
     "locked": true,
     "schema_version": 3,
     "solution": false,
     "task": false
    }
   },
   "outputs": [
    {
     "data": {
      "text/html": [
       "<div>\n",
       "<style scoped>\n",
       "    .dataframe tbody tr th:only-of-type {\n",
       "        vertical-align: middle;\n",
       "    }\n",
       "\n",
       "    .dataframe tbody tr th {\n",
       "        vertical-align: top;\n",
       "    }\n",
       "\n",
       "    .dataframe thead th {\n",
       "        text-align: right;\n",
       "    }\n",
       "</style>\n",
       "<table border=\"1\" class=\"dataframe\">\n",
       "  <thead>\n",
       "    <tr style=\"text-align: right;\">\n",
       "      <th></th>\n",
       "      <th>loss</th>\n",
       "      <th>accuracy</th>\n",
       "      <th>val_loss</th>\n",
       "      <th>val_accuracy</th>\n",
       "    </tr>\n",
       "  </thead>\n",
       "  <tbody>\n",
       "    <tr>\n",
       "      <th>0</th>\n",
       "      <td>1.782276</td>\n",
       "      <td>0.37016</td>\n",
       "      <td>1.628973</td>\n",
       "      <td>0.4199</td>\n",
       "    </tr>\n",
       "    <tr>\n",
       "      <th>1</th>\n",
       "      <td>1.584303</td>\n",
       "      <td>0.43960</td>\n",
       "      <td>1.553438</td>\n",
       "      <td>0.4448</td>\n",
       "    </tr>\n",
       "    <tr>\n",
       "      <th>2</th>\n",
       "      <td>1.490455</td>\n",
       "      <td>0.47272</td>\n",
       "      <td>1.535202</td>\n",
       "      <td>0.4570</td>\n",
       "    </tr>\n",
       "    <tr>\n",
       "      <th>3</th>\n",
       "      <td>1.429374</td>\n",
       "      <td>0.49370</td>\n",
       "      <td>1.509146</td>\n",
       "      <td>0.4635</td>\n",
       "    </tr>\n",
       "    <tr>\n",
       "      <th>4</th>\n",
       "      <td>1.376463</td>\n",
       "      <td>0.51262</td>\n",
       "      <td>1.505323</td>\n",
       "      <td>0.4765</td>\n",
       "    </tr>\n",
       "  </tbody>\n",
       "</table>\n",
       "</div>"
      ],
      "text/plain": [
       "       loss  accuracy  val_loss  val_accuracy\n",
       "0  1.782276   0.37016  1.628973        0.4199\n",
       "1  1.584303   0.43960  1.553438        0.4448\n",
       "2  1.490455   0.47272  1.535202        0.4570\n",
       "3  1.429374   0.49370  1.509146        0.4635\n",
       "4  1.376463   0.51262  1.505323        0.4765"
      ]
     },
     "execution_count": 29,
     "metadata": {},
     "output_type": "execute_result"
    }
   ],
   "source": [
    "# create loss, accuracy dataframe\n",
    "df = pd.DataFrame(history.history)\n",
    "df.head()"
   ]
  },
  {
   "cell_type": "code",
   "execution_count": 30,
   "id": "guided-trout",
   "metadata": {
    "deletable": false,
    "editable": false,
    "nbgrader": {
     "cell_type": "code",
     "checksum": "b4bb6df2885aa2897bf69e108c029bb8",
     "grade": false,
     "grade_id": "cell-2401e3f55f31ca20",
     "locked": true,
     "schema_version": 3,
     "solution": false,
     "task": false
    }
   },
   "outputs": [
    {
     "data": {
      "image/png": "[encoded data removed]",
      "text/plain": [
       "<Figure size 576x252 with 2 Axes>"
      ]
     },
     "metadata": {
      "needs_background": "light"
     },
     "output_type": "display_data"
    }
   ],
   "source": [
    "# plot loss and accuracy against epoch\n",
    "fig, axes = plt.subplots(nrows=1, ncols=2, figsize=(8,3.5))\n",
    "df.plot(y=['loss', 'val_loss'], ax=axes[0], title='loss vs epcoh')\n",
    "df.plot(y=['accuracy', 'val_accuracy'], ax=axes[1], title='accuracy vs epoch')\n",
    "axes[0].set_xlabel('epoch')\n",
    "axes[0].set_ylabel('loss')\n",
    "axes[1].set_xlabel('epoch')\n",
    "axes[1].set_ylabel('accuracy')\n",
    "plt.subplots_adjust(wspace=0.5)"
   ]
  },
  {
   "cell_type": "code",
   "execution_count": 31,
   "id": "virtual-astronomy",
   "metadata": {
    "deletable": false,
    "editable": false,
    "nbgrader": {
     "cell_type": "code",
     "checksum": "5347fad3861239b70ea23a272ff3f6e7",
     "grade": false,
     "grade_id": "cell-c07c3013d8f8d74e",
     "locked": true,
     "schema_version": 3,
     "solution": false,
     "task": false
    }
   },
   "outputs": [
    {
     "name": "stdout",
     "output_type": "stream",
     "text": [
      "313/313 - 1s - loss: 1.5930 - accuracy: 0.4779\n"
     ]
    },
    {
     "data": {
      "text/plain": [
       "[1.5930280555932286, 0.4779]"
      ]
     },
     "execution_count": 31,
     "metadata": {},
     "output_type": "execute_result"
    }
   ],
   "source": [
    "# evaluate the model on the test set\n",
    "mlp_model.evaluate(test_dataset, verbose=2)"
   ]
  },
  {
   "cell_type": "markdown",
   "id": "higher-boards",
   "metadata": {
    "deletable": false,
    "editable": false,
    "nbgrader": {
     "cell_type": "markdown",
     "checksum": "3474531cc90298ef03204b307d438c67",
     "grade": false,
     "grade_id": "cell-1a5e805c1e5bdc7d",
     "locked": true,
     "schema_version": 3,
     "solution": false,
     "task": false
    }
   },
   "source": [
    "<a name='cnn'></a>\n",
    "# Graded Function:\n",
    "## 3. CNN neural network classifier\n",
    "Complete the build_cnn_model below using the Sequential API. You should:\n",
    "* Build a CNN classifier model using the Sequential API. Your model should use the Conv2D, MaxPool2D, BatchNormalization, Flatten, Dense and Dropout layers. The final layer should again have a 10-way softmax output. \n",
    "* the first layer is a Conv2D layer with 16 filters, (3,3) kernel size, ReLU activation, 'SAME' padding, and input_shape set to be input_shape parameter of the function\n",
    "* then a MaxPool2D layer with pool size (2,2)\n",
    "* then a Dropout layer with drop out rate set to be dropout_rate parameter of the function\n",
    "* then a Conv2D layer with 8 filters, (3,3) kernel size, ReLU activation, 'SAME' padding\n",
    "* then a MaxPool2D layer with pool size (2,2)\n",
    "* then a Dropout layer with drop out rate set to be dropout_rate parameter of the function\n",
    "* then a Flatten layer\n",
    "* then a Dense layer with 64 units and ReLU activation\n",
    "* then a BatchNormalization layer\n",
    "* then a Dropout layer with drop out rate set to be dropout_rate parameter of the function\n",
    "* then a Dense layer with 32 units and ReLU activation\n",
    "* then a BatchNormalization layer\n",
    "* then a Dropout layer with drop out rate set to be dropout_rate parameter of the function\n",
    "* then a final dense layer with 10 units and softmax activation function\n",
    "* return the model"
   ]
  },
  {
   "cell_type": "code",
   "execution_count": 12,
   "id": "powerful-decrease",
   "metadata": {
    "deletable": false,
    "nbgrader": {
     "cell_type": "code",
     "checksum": "32d975e6b592dd7d882615f251dae99c",
     "grade": false,
     "grade_id": "cell-ce44f0d360354335",
     "locked": false,
     "schema_version": 3,
     "solution": true,
     "task": false
    }
   },
   "outputs": [],
   "source": [
    "def build_cnn_model(input_shape, dropout_rate):\n",
    "    model = Sequential()\n",
    "    # YOUR CODE HERE\n",
    "    model.add(Conv2D(16, kernel_size=(3, 3), activation='relu', padding='SAME', input_shape = input_shape))\n",
    "    model.add(MaxPool2D(pool_size=(2, 2)))\n",
    "    model.add(Dropout(dropout_rate))\n",
    "    model.add(Conv2D(8, kernel_size=(3, 3), activation='relu', padding='SAME'))\n",
    "    model.add(MaxPool2D(pool_size=(2, 2)))\n",
    "    model.add(Dropout(dropout_rate))\n",
    "    model.add(Flatten())\n",
    "    model.add(Dense(64, activation='relu'))\n",
    "    model.add(BatchNormalization())\n",
    "    model.add(Dropout(dropout_rate))\n",
    "    model.add(Dense(32, activation='relu'))\n",
    "    model.add(BatchNormalization())\n",
    "    model.add(Dropout(dropout_rate))\n",
    "    model.add(Dense(10, activation='softmax'))\n",
    "    return model\n"
   ]
  },
  {
   "cell_type": "code",
   "execution_count": 13,
   "id": "corresponding-valve",
   "metadata": {
    "deletable": false,
    "editable": false,
    "nbgrader": {
     "cell_type": "code",
     "checksum": "93b4ed4afcc5377d3865e45b33490cf3",
     "grade": true,
     "grade_id": "cell-b8a0637dfe47e2db",
     "locked": true,
     "points": 1,
     "schema_version": 3,
     "solution": false,
     "task": false
    }
   },
   "outputs": [],
   "source": [
    "test_model = build_cnn_model((8,8, 1), 0.1)\n",
    "assert isinstance(test_model, tf.keras.models.Model)\n",
    "assert len(test_model.layers) == 14\n",
    "layer_num = 0\n",
    "assert isinstance(test_model.layers[layer_num], Conv2D)\n",
    "config = test_model.layers[layer_num].get_config()\n",
    "assert config['filters'] == 16\n",
    "assert config['kernel_size'] == (3,3)\n",
    "assert config['padding'] == 'same'\n",
    "assert config['batch_input_shape'] == (None, 8, 8, 1)\n",
    "assert config['activation'] == 'relu'\n",
    "del test_model"
   ]
  },
  {
   "cell_type": "code",
   "execution_count": 14,
   "id": "honey-arena",
   "metadata": {
    "deletable": false,
    "editable": false,
    "nbgrader": {
     "cell_type": "code",
     "checksum": "426fce666ca785a99197f82f3a51b6b6",
     "grade": true,
     "grade_id": "cell-81e6f0024c005221",
     "locked": true,
     "points": 1,
     "schema_version": 3,
     "solution": false,
     "task": false
    }
   },
   "outputs": [],
   "source": [
    "# this cell contains a hiddent test, don't delete this cell"
   ]
  },
  {
   "cell_type": "code",
   "execution_count": 15,
   "id": "elder-forth",
   "metadata": {
    "deletable": false,
    "editable": false,
    "nbgrader": {
     "cell_type": "code",
     "checksum": "a1783fffab04798f86c3e228d4298a7c",
     "grade": false,
     "grade_id": "cell-22f594e0ab7ce05d",
     "locked": true,
     "schema_version": 3,
     "solution": false,
     "task": false
    }
   },
   "outputs": [
    {
     "name": "stdout",
     "output_type": "stream",
     "text": [
      "Model: \"sequential_1\"\n",
      "_________________________________________________________________\n",
      "Layer (type)                 Output Shape              Param #   \n",
      "=================================================================\n",
      "conv2d_2 (Conv2D)            (None, 32, 32, 16)        448       \n",
      "_________________________________________________________________\n",
      "max_pooling2d_2 (MaxPooling2 (None, 16, 16, 16)        0         \n",
      "_________________________________________________________________\n",
      "dropout_4 (Dropout)          (None, 16, 16, 16)        0         \n",
      "_________________________________________________________________\n",
      "conv2d_3 (Conv2D)            (None, 16, 16, 8)         1160      \n",
      "_________________________________________________________________\n",
      "max_pooling2d_3 (MaxPooling2 (None, 8, 8, 8)           0         \n",
      "_________________________________________________________________\n",
      "dropout_5 (Dropout)          (None, 8, 8, 8)           0         \n",
      "_________________________________________________________________\n",
      "flatten_1 (Flatten)          (None, 512)               0         \n",
      "_________________________________________________________________\n",
      "dense_3 (Dense)              (None, 64)                32832     \n",
      "_________________________________________________________________\n",
      "batch_normalization_2 (Batch (None, 64)                256       \n",
      "_________________________________________________________________\n",
      "dropout_6 (Dropout)          (None, 64)                0         \n",
      "_________________________________________________________________\n",
      "dense_4 (Dense)              (None, 32)                2080      \n",
      "_________________________________________________________________\n",
      "batch_normalization_3 (Batch (None, 32)                128       \n",
      "_________________________________________________________________\n",
      "dropout_7 (Dropout)          (None, 32)                0         \n",
      "_________________________________________________________________\n",
      "dense_5 (Dense)              (None, 10)                330       \n",
      "=================================================================\n",
      "Total params: 37,234\n",
      "Trainable params: 37,042\n",
      "Non-trainable params: 192\n",
      "_________________________________________________________________\n"
     ]
    }
   ],
   "source": [
    "# create cnn model and view summary\n",
    "cnn_model = build_cnn_model(x_train.shape[1:], 0.1)\n",
    "cnn_model.summary()"
   ]
  },
  {
   "cell_type": "code",
   "execution_count": 16,
   "id": "successful-letters",
   "metadata": {
    "deletable": false,
    "editable": false,
    "nbgrader": {
     "cell_type": "code",
     "checksum": "d3b406579b067ba85df93c7902d85319",
     "grade": false,
     "grade_id": "cell-bc1b8b9d2ed6d617",
     "locked": true,
     "schema_version": 3,
     "solution": false,
     "task": false
    }
   },
   "outputs": [
    {
     "name": "stdout",
     "output_type": "stream",
     "text": [
      "Epoch 1/30\n",
      "1563/1563 [==============================] - 42s 27ms/step - loss: 1.6692 - accuracy: 0.3979 - val_loss: 0.0000e+00 - val_accuracy: 0.0000e+00\n",
      "Epoch 2/30\n",
      "1563/1563 [==============================] - 36s 23ms/step - loss: 1.3414 - accuracy: 0.5153 - val_loss: 1.2225 - val_accuracy: 0.5633\n",
      "Epoch 3/30\n",
      "1563/1563 [==============================] - 37s 24ms/step - loss: 1.2478 - accuracy: 0.5555 - val_loss: 1.1135 - val_accuracy: 0.6115\n",
      "Epoch 4/30\n",
      "1563/1563 [==============================] - 36s 23ms/step - loss: 1.1905 - accuracy: 0.5774 - val_loss: 1.0867 - val_accuracy: 0.6126\n",
      "Epoch 5/30\n",
      "1563/1563 [==============================] - 36s 23ms/step - loss: 1.1485 - accuracy: 0.5906 - val_loss: 1.0356 - val_accuracy: 0.6341\n",
      "Epoch 6/30\n",
      "1563/1563 [==============================] - 36s 23ms/step - loss: 1.1117 - accuracy: 0.6056 - val_loss: 1.0263 - val_accuracy: 0.6377\n",
      "Epoch 7/30\n",
      "1563/1563 [==============================] - 35s 23ms/step - loss: 1.0896 - accuracy: 0.6173 - val_loss: 0.9991 - val_accuracy: 0.6446\n",
      "Epoch 8/30\n",
      "1563/1563 [==============================] - 35s 23ms/step - loss: 1.0746 - accuracy: 0.6213 - val_loss: 0.9911 - val_accuracy: 0.6489\n",
      "Epoch 9/30\n",
      "1563/1563 [==============================] - 36s 23ms/step - loss: 1.0563 - accuracy: 0.6263 - val_loss: 0.9919 - val_accuracy: 0.6512\n",
      "Epoch 10/30\n",
      "1563/1563 [==============================] - 36s 23ms/step - loss: 1.0444 - accuracy: 0.6304 - val_loss: 0.9579 - val_accuracy: 0.6638\n",
      "Epoch 11/30\n",
      "1563/1563 [==============================] - 36s 23ms/step - loss: 1.0235 - accuracy: 0.6400 - val_loss: 0.9771 - val_accuracy: 0.6570\n",
      "Epoch 12/30\n",
      "1563/1563 [==============================] - 36s 23ms/step - loss: 1.0188 - accuracy: 0.6392 - val_loss: 0.9644 - val_accuracy: 0.6570\n",
      "Epoch 13/30\n",
      "1563/1563 [==============================] - 35s 23ms/step - loss: 1.0093 - accuracy: 0.6446 - val_loss: 0.9516 - val_accuracy: 0.6636\n",
      "Epoch 14/30\n",
      "1563/1563 [==============================] - 35s 22ms/step - loss: 1.0009 - accuracy: 0.6476 - val_loss: 0.9257 - val_accuracy: 0.6704\n",
      "Epoch 15/30\n",
      "1563/1563 [==============================] - 35s 23ms/step - loss: 0.9878 - accuracy: 0.6538 - val_loss: 0.9201 - val_accuracy: 0.6749\n",
      "Epoch 16/30\n",
      "1563/1563 [==============================] - 35s 23ms/step - loss: 0.9836 - accuracy: 0.6550 - val_loss: 0.9511 - val_accuracy: 0.6705\n",
      "Epoch 17/30\n",
      "1563/1563 [==============================] - 36s 23ms/step - loss: 0.9759 - accuracy: 0.6567 - val_loss: 0.9094 - val_accuracy: 0.6817\n",
      "Epoch 18/30\n",
      "1563/1563 [==============================] - 37s 24ms/step - loss: 0.9680 - accuracy: 0.6596 - val_loss: 0.8991 - val_accuracy: 0.6822\n",
      "Epoch 19/30\n",
      "1563/1563 [==============================] - 36s 23ms/step - loss: 0.9591 - accuracy: 0.6631 - val_loss: 0.9110 - val_accuracy: 0.6818\n",
      "Epoch 20/30\n",
      "1563/1563 [==============================] - 36s 23ms/step - loss: 0.9616 - accuracy: 0.6607 - val_loss: 0.9170 - val_accuracy: 0.6779\n",
      "Epoch 21/30\n",
      "1563/1563 [==============================] - 35s 23ms/step - loss: 0.9492 - accuracy: 0.6673 - val_loss: 0.8860 - val_accuracy: 0.6887\n",
      "Epoch 22/30\n",
      "1563/1563 [==============================] - 35s 23ms/step - loss: 0.9480 - accuracy: 0.6664 - val_loss: 0.8844 - val_accuracy: 0.6870\n",
      "Epoch 23/30\n",
      "1563/1563 [==============================] - 35s 23ms/step - loss: 0.9421 - accuracy: 0.6663 - val_loss: 0.9030 - val_accuracy: 0.6827\n",
      "Epoch 24/30\n",
      "1563/1563 [==============================] - 35s 23ms/step - loss: 0.9402 - accuracy: 0.6700 - val_loss: 0.8885 - val_accuracy: 0.6893\n",
      "Epoch 25/30\n",
      "1563/1563 [==============================] - 36s 23ms/step - loss: 0.9298 - accuracy: 0.6705 - val_loss: 0.8817 - val_accuracy: 0.6950\n",
      "Epoch 26/30\n",
      "1563/1563 [==============================] - 36s 23ms/step - loss: 0.9287 - accuracy: 0.6730 - val_loss: 0.8948 - val_accuracy: 0.6841\n",
      "Epoch 27/30\n",
      "1563/1563 [==============================] - 36s 23ms/step - loss: 0.9280 - accuracy: 0.6744 - val_loss: 0.9135 - val_accuracy: 0.6785\n",
      "Epoch 28/30\n",
      "1563/1563 [==============================] - 36s 23ms/step - loss: 0.9234 - accuracy: 0.6747 - val_loss: 0.8861 - val_accuracy: 0.6896\n",
      "Epoch 29/30\n",
      "1563/1563 [==============================] - 36s 23ms/step - loss: 0.9158 - accuracy: 0.6762 - val_loss: 0.8794 - val_accuracy: 0.6945\n"
     ]
    }
   ],
   "source": [
    "# compile and training model\n",
    "compile_model(cnn_model)\n",
    "early_stop = EarlyStopping(patience=4, monitor='val_accuracy')\n",
    "cnn_history = cnn_model.fit(train_dataset, epochs=30, validation_data=test_dataset, callbacks=[early_stop])"
   ]
  },
  {
   "cell_type": "code",
   "execution_count": 17,
   "id": "breeding-palestine",
   "metadata": {
    "deletable": false,
    "editable": false,
    "nbgrader": {
     "cell_type": "code",
     "checksum": "a1afa58f529ffd00003fdf8d8b058d1f",
     "grade": false,
     "grade_id": "cell-1d057f59e1a38661",
     "locked": true,
     "schema_version": 3,
     "solution": false,
     "task": false
    }
   },
   "outputs": [
    {
     "data": {
      "text/html": [
       "<div>\n",
       "<style scoped>\n",
       "    .dataframe tbody tr th:only-of-type {\n",
       "        vertical-align: middle;\n",
       "    }\n",
       "\n",
       "    .dataframe tbody tr th {\n",
       "        vertical-align: top;\n",
       "    }\n",
       "\n",
       "    .dataframe thead th {\n",
       "        text-align: right;\n",
       "    }\n",
       "</style>\n",
       "<table border=\"1\" class=\"dataframe\">\n",
       "  <thead>\n",
       "    <tr style=\"text-align: right;\">\n",
       "      <th></th>\n",
       "      <th>loss</th>\n",
       "      <th>accuracy</th>\n",
       "      <th>val_loss</th>\n",
       "      <th>val_accuracy</th>\n",
       "    </tr>\n",
       "  </thead>\n",
       "  <tbody>\n",
       "    <tr>\n",
       "      <th>0</th>\n",
       "      <td>1.669250</td>\n",
       "      <td>0.39786</td>\n",
       "      <td>1.357234</td>\n",
       "      <td>0.5148</td>\n",
       "    </tr>\n",
       "    <tr>\n",
       "      <th>1</th>\n",
       "      <td>1.341358</td>\n",
       "      <td>0.51526</td>\n",
       "      <td>1.222538</td>\n",
       "      <td>0.5633</td>\n",
       "    </tr>\n",
       "    <tr>\n",
       "      <th>2</th>\n",
       "      <td>1.247938</td>\n",
       "      <td>0.55550</td>\n",
       "      <td>1.113497</td>\n",
       "      <td>0.6115</td>\n",
       "    </tr>\n",
       "    <tr>\n",
       "      <th>3</th>\n",
       "      <td>1.190452</td>\n",
       "      <td>0.57742</td>\n",
       "      <td>1.086730</td>\n",
       "      <td>0.6126</td>\n",
       "    </tr>\n",
       "    <tr>\n",
       "      <th>4</th>\n",
       "      <td>1.148587</td>\n",
       "      <td>0.59062</td>\n",
       "      <td>1.035557</td>\n",
       "      <td>0.6341</td>\n",
       "    </tr>\n",
       "  </tbody>\n",
       "</table>\n",
       "</div>"
      ],
      "text/plain": [
       "       loss  accuracy  val_loss  val_accuracy\n",
       "0  1.669250   0.39786  1.357234        0.5148\n",
       "1  1.341358   0.51526  1.222538        0.5633\n",
       "2  1.247938   0.55550  1.113497        0.6115\n",
       "3  1.190452   0.57742  1.086730        0.6126\n",
       "4  1.148587   0.59062  1.035557        0.6341"
      ]
     },
     "execution_count": 17,
     "metadata": {},
     "output_type": "execute_result"
    }
   ],
   "source": [
    "df = pd.DataFrame(cnn_history.history)\n",
    "df.head()"
   ]
  },
  {
   "cell_type": "code",
   "execution_count": 18,
   "id": "related-commerce",
   "metadata": {
    "deletable": false,
    "editable": false,
    "nbgrader": {
     "cell_type": "code",
     "checksum": "5750345e97cc177da1d6ff06ccf76d69",
     "grade": false,
     "grade_id": "cell-559ecfddad6301df",
     "locked": true,
     "schema_version": 3,
     "solution": false,
     "task": false
    }
   },
   "outputs": [
    {
     "data": {
      "image/png": "[encoded data removed]",
      "text/plain": [
       "<Figure size 576x252 with 2 Axes>"
      ]
     },
     "metadata": {
      "needs_background": "light"
     },
     "output_type": "display_data"
    }
   ],
   "source": [
    "# plot loss and accuracy against epoch\n",
    "fig, axes = plt.subplots(nrows=1, ncols=2, figsize=(8,3.5))\n",
    "df.plot(y=['loss', 'val_loss'], ax=axes[0], title='loss vs epcoh')\n",
    "df.plot(y=['accuracy', 'val_accuracy'], ax=axes[1], title='accuracy vs epoch')\n",
    "axes[0].set_xlabel('epoch')\n",
    "axes[0].set_ylabel('loss')\n",
    "axes[1].set_xlabel('epoch')\n",
    "axes[1].set_ylabel('accuracy')\n",
    "plt.subplots_adjust(wspace=0.5)"
   ]
  },
  {
   "cell_type": "code",
   "execution_count": 19,
   "id": "disciplinary-poetry",
   "metadata": {
    "deletable": false,
    "editable": false,
    "nbgrader": {
     "cell_type": "code",
     "checksum": "35e3f52dad1c083bbc5fa3c02c487740",
     "grade": false,
     "grade_id": "cell-7cd32a108479f659",
     "locked": true,
     "schema_version": 3,
     "solution": false,
     "task": false
    }
   },
   "outputs": [
    {
     "name": "stdout",
     "output_type": "stream",
     "text": [
      "313/313 - 3s - loss: 0.8794 - accuracy: 0.6945\n"
     ]
    },
    {
     "data": {
      "text/plain": [
       "[0.8794148093976152, 0.6945]"
      ]
     },
     "execution_count": 19,
     "metadata": {},
     "output_type": "execute_result"
    }
   ],
   "source": [
    "# evaluate the model on the test set\n",
    "cnn_model.evaluate(test_dataset, verbose=2)"
   ]
  },
  {
   "cell_type": "markdown",
   "id": "objective-civilization",
   "metadata": {
    "deletable": false,
    "editable": false,
    "nbgrader": {
     "cell_type": "markdown",
     "checksum": "1eb984a2c9d3d01dd402ca2bb5645759",
     "grade": false,
     "grade_id": "cell-4c6333290879fccf",
     "locked": true,
     "schema_version": 3,
     "solution": false,
     "task": false
    }
   },
   "source": [
    "We can see that our cnn model improved the accuracy a lot even though our cnn model has much less parameters than the mlp model. Model architecture really matters in Deep Learning!"
   ]
  },
  {
   "cell_type": "markdown",
   "id": "surface-reunion",
   "metadata": {
    "deletable": false,
    "editable": false,
    "nbgrader": {
     "cell_type": "markdown",
     "checksum": "b53bff909280f43f12bfe0302acf6c8b",
     "grade": false,
     "grade_id": "cell-5b309cb9b406077a",
     "locked": true,
     "schema_version": 3,
     "solution": false,
     "task": false
    }
   },
   "source": [
    "# Model Predicitons"
   ]
  },
  {
   "cell_type": "code",
   "execution_count": 32,
   "id": "normal-average",
   "metadata": {
    "deletable": false,
    "editable": false,
    "nbgrader": {
     "cell_type": "code",
     "checksum": "d4feb6bef40944aebb7f4a4b7202bcc9",
     "grade": false,
     "grade_id": "cell-5c0b87abf1d52f61",
     "locked": true,
     "schema_version": 3,
     "solution": false,
     "task": false
    }
   },
   "outputs": [
    {
     "data": {
      "image/png": "[encoded data removed]",
      "text/plain": [
       "<Figure size 1080x1080 with 15 Axes>"
      ]
     },
     "metadata": {
      "needs_background": "light"
     },
     "output_type": "display_data"
    }
   ],
   "source": [
    "# mlp and cnn predictions\n",
    "rand_idx = np.random.choice(range(x_test.shape[0]), size=5)\n",
    "fig, axs = plt.subplots(5, 3,figsize=(15,15))\n",
    "for i in range(5):\n",
    "    axs[i][0].imshow(x_test[rand_idx[i], :, :, 0], cmap='gray', vmin=0, vmax=1)\n",
    "    axs[i][0].set_title(classes[y_test[rand_idx[i]]])\n",
    "    axs[i][0].set_xticks([]) \n",
    "    axs[i][0].set_yticks([]) \n",
    "    probs = mlp_model.predict(x_test[rand_idx[i]][np.newaxis, ...])[0]\n",
    "    prediction = np.argmax(probs)\n",
    "    axs[i][1].bar(range(1,11), probs)\n",
    "    axs[i][1].set_xticks([i for i in range(0, 10)]) \n",
    "    axs[i][1].set_title('mlp prediciton {}'.format(classes[prediction]))\n",
    "    probs = cnn_model.predict(x_test[rand_idx[i]][np.newaxis, ...])[0]\n",
    "    prediction = np.argmax(probs)\n",
    "    axs[i][2].bar(range(1,11), probs)\n",
    "    axs[i][2].set_xticks([i for i in range(0, 10)]) \n",
    "    axs[i][2].set_title('cnn prediciton {}'.format(classes[prediction]))\n",
    "plt.subplots_adjust(wspace=0.3, hspace=0.3)"
   ]
  },
  {
   "cell_type": "markdown",
   "id": "contained-process",
   "metadata": {
    "deletable": false,
    "editable": false,
    "nbgrader": {
     "cell_type": "markdown",
     "checksum": "df72d846b2143c62731269b02d8282e0",
     "grade": false,
     "grade_id": "cell-fccc43d135c52418",
     "locked": true,
     "schema_version": 3,
     "solution": false,
     "task": false
    }
   },
   "source": [
    "<a name='tl'></a>\n",
    "## Transfer Learning\n",
    "Transfer learning is very popular and powerful in computer vision. When you don't have too much data and you still want to a good model, you may resort to transfer learning.\n",
    "We will use the pre-trained MobileNet V2 model, available to download from [Keras Applications](https://keras.io/applications/#mobilenetv2).\n",
    "We will remove the final layer of the network and replace it with new, untrained classifier layers for our task."
   ]
  },
  {
   "cell_type": "code",
   "execution_count": 3,
   "id": "celtic-clothing",
   "metadata": {
    "deletable": false,
    "editable": false,
    "nbgrader": {
     "cell_type": "code",
     "checksum": "49bec3b4c6546d97fd4215bcf166302d",
     "grade": false,
     "grade_id": "cell-bd6203944d069699",
     "locked": true,
     "schema_version": 3,
     "solution": false,
     "task": false
    }
   },
   "outputs": [],
   "source": [
    "# get the body of EfficiekerasNetB1\n",
    "def get_ENB1_body():\n",
    "    pretrained_model = tf.keras.applications.MobileNetV2(include_top=False,\n",
    "                                                            weights='imagenet',\n",
    "                                                            input_shape=(160,160,3),\n",
    "                                                            pooling='max')\n",
    "    transfer_layer = pretrained_model\n",
    "    return transfer_layer"
   ]
  },
  {
   "cell_type": "code",
   "execution_count": 4,
   "id": "supported-principle",
   "metadata": {
    "deletable": false,
    "editable": false,
    "nbgrader": {
     "cell_type": "code",
     "checksum": "e3e7f27ed98782c9c580167c74381106",
     "grade": false,
     "grade_id": "cell-a8c7942d17cfed4f",
     "locked": true,
     "schema_version": 3,
     "solution": false,
     "task": false
    }
   },
   "outputs": [
    {
     "name": "stdout",
     "output_type": "stream",
     "text": [
      "Model: \"mobilenetv2_1.00_160\"\n",
      "__________________________________________________________________________________________________\n",
      "Layer (type)                    Output Shape         Param #     Connected to                     \n",
      "==================================================================================================\n",
      "input_1 (InputLayer)            [(None, 160, 160, 3) 0                                            \n",
      "__________________________________________________________________________________________________\n",
      "Conv1_pad (ZeroPadding2D)       (None, 161, 161, 3)  0           input_1[0][0]                    \n",
      "__________________________________________________________________________________________________\n",
      "Conv1 (Conv2D)                  (None, 80, 80, 32)   864         Conv1_pad[0][0]                  \n",
      "__________________________________________________________________________________________________\n",
      "bn_Conv1 (BatchNormalization)   (None, 80, 80, 32)   128         Conv1[0][0]                      \n",
      "__________________________________________________________________________________________________\n",
      "Conv1_relu (ReLU)               (None, 80, 80, 32)   0           bn_Conv1[0][0]                   \n",
      "__________________________________________________________________________________________________\n",
      "expanded_conv_depthwise (Depthw (None, 80, 80, 32)   288         Conv1_relu[0][0]                 \n",
      "__________________________________________________________________________________________________\n",
      "expanded_conv_depthwise_BN (Bat (None, 80, 80, 32)   128         expanded_conv_depthwise[0][0]    \n",
      "__________________________________________________________________________________________________\n",
      "expanded_conv_depthwise_relu (R (None, 80, 80, 32)   0           expanded_conv_depthwise_BN[0][0] \n",
      "__________________________________________________________________________________________________\n",
      "expanded_conv_project (Conv2D)  (None, 80, 80, 16)   512         expanded_conv_depthwise_relu[0][0\n",
      "__________________________________________________________________________________________________\n",
      "expanded_conv_project_BN (Batch (None, 80, 80, 16)   64          expanded_conv_project[0][0]      \n",
      "__________________________________________________________________________________________________\n",
      "block_1_expand (Conv2D)         (None, 80, 80, 96)   1536        expanded_conv_project_BN[0][0]   \n",
      "__________________________________________________________________________________________________\n",
      "block_1_expand_BN (BatchNormali (None, 80, 80, 96)   384         block_1_expand[0][0]             \n",
      "__________________________________________________________________________________________________\n",
      "block_1_expand_relu (ReLU)      (None, 80, 80, 96)   0           block_1_expand_BN[0][0]          \n",
      "__________________________________________________________________________________________________\n",
      "block_1_pad (ZeroPadding2D)     (None, 81, 81, 96)   0           block_1_expand_relu[0][0]        \n",
      "__________________________________________________________________________________________________\n",
      "block_1_depthwise (DepthwiseCon (None, 40, 40, 96)   864         block_1_pad[0][0]                \n",
      "__________________________________________________________________________________________________\n",
      "block_1_depthwise_BN (BatchNorm (None, 40, 40, 96)   384         block_1_depthwise[0][0]          \n",
      "__________________________________________________________________________________________________\n",
      "block_1_depthwise_relu (ReLU)   (None, 40, 40, 96)   0           block_1_depthwise_BN[0][0]       \n",
      "__________________________________________________________________________________________________\n",
      "block_1_project (Conv2D)        (None, 40, 40, 24)   2304        block_1_depthwise_relu[0][0]     \n",
      "__________________________________________________________________________________________________\n",
      "block_1_project_BN (BatchNormal (None, 40, 40, 24)   96          block_1_project[0][0]            \n",
      "__________________________________________________________________________________________________\n",
      "block_2_expand (Conv2D)         (None, 40, 40, 144)  3456        block_1_project_BN[0][0]         \n",
      "__________________________________________________________________________________________________\n",
      "block_2_expand_BN (BatchNormali (None, 40, 40, 144)  576         block_2_expand[0][0]             \n",
      "__________________________________________________________________________________________________\n",
      "block_2_expand_relu (ReLU)      (None, 40, 40, 144)  0           block_2_expand_BN[0][0]          \n",
      "__________________________________________________________________________________________________\n",
      "block_2_depthwise (DepthwiseCon (None, 40, 40, 144)  1296        block_2_expand_relu[0][0]        \n",
      "__________________________________________________________________________________________________\n",
      "block_2_depthwise_BN (BatchNorm (None, 40, 40, 144)  576         block_2_depthwise[0][0]          \n",
      "__________________________________________________________________________________________________\n",
      "block_2_depthwise_relu (ReLU)   (None, 40, 40, 144)  0           block_2_depthwise_BN[0][0]       \n",
      "__________________________________________________________________________________________________\n",
      "block_2_project (Conv2D)        (None, 40, 40, 24)   3456        block_2_depthwise_relu[0][0]     \n",
      "__________________________________________________________________________________________________\n",
      "block_2_project_BN (BatchNormal (None, 40, 40, 24)   96          block_2_project[0][0]            \n",
      "__________________________________________________________________________________________________\n",
      "block_2_add (Add)               (None, 40, 40, 24)   0           block_1_project_BN[0][0]         \n",
      "                                                                 block_2_project_BN[0][0]         \n",
      "__________________________________________________________________________________________________\n",
      "block_3_expand (Conv2D)         (None, 40, 40, 144)  3456        block_2_add[0][0]                \n",
      "__________________________________________________________________________________________________\n",
      "block_3_expand_BN (BatchNormali (None, 40, 40, 144)  576         block_3_expand[0][0]             \n",
      "__________________________________________________________________________________________________\n",
      "block_3_expand_relu (ReLU)      (None, 40, 40, 144)  0           block_3_expand_BN[0][0]          \n",
      "__________________________________________________________________________________________________\n",
      "block_3_pad (ZeroPadding2D)     (None, 41, 41, 144)  0           block_3_expand_relu[0][0]        \n",
      "__________________________________________________________________________________________________\n",
      "block_3_depthwise (DepthwiseCon (None, 20, 20, 144)  1296        block_3_pad[0][0]                \n",
      "__________________________________________________________________________________________________\n",
      "block_3_depthwise_BN (BatchNorm (None, 20, 20, 144)  576         block_3_depthwise[0][0]          \n",
      "__________________________________________________________________________________________________\n",
      "block_3_depthwise_relu (ReLU)   (None, 20, 20, 144)  0           block_3_depthwise_BN[0][0]       \n",
      "__________________________________________________________________________________________________\n",
      "block_3_project (Conv2D)        (None, 20, 20, 32)   4608        block_3_depthwise_relu[0][0]     \n",
      "__________________________________________________________________________________________________\n",
      "block_3_project_BN (BatchNormal (None, 20, 20, 32)   128         block_3_project[0][0]            \n",
      "__________________________________________________________________________________________________\n",
      "block_4_expand (Conv2D)         (None, 20, 20, 192)  6144        block_3_project_BN[0][0]         \n",
      "__________________________________________________________________________________________________\n",
      "block_4_expand_BN (BatchNormali (None, 20, 20, 192)  768         block_4_expand[0][0]             \n",
      "__________________________________________________________________________________________________\n",
      "block_4_expand_relu (ReLU)      (None, 20, 20, 192)  0           block_4_expand_BN[0][0]          \n",
      "__________________________________________________________________________________________________\n",
      "block_4_depthwise (DepthwiseCon (None, 20, 20, 192)  1728        block_4_expand_relu[0][0]        \n",
      "__________________________________________________________________________________________________\n",
      "block_4_depthwise_BN (BatchNorm (None, 20, 20, 192)  768         block_4_depthwise[0][0]          \n",
      "__________________________________________________________________________________________________\n",
      "block_4_depthwise_relu (ReLU)   (None, 20, 20, 192)  0           block_4_depthwise_BN[0][0]       \n",
      "__________________________________________________________________________________________________\n",
      "block_4_project (Conv2D)        (None, 20, 20, 32)   6144        block_4_depthwise_relu[0][0]     \n",
      "__________________________________________________________________________________________________\n",
      "block_4_project_BN (BatchNormal (None, 20, 20, 32)   128         block_4_project[0][0]            \n",
      "__________________________________________________________________________________________________\n",
      "block_4_add (Add)               (None, 20, 20, 32)   0           block_3_project_BN[0][0]         \n",
      "                                                                 block_4_project_BN[0][0]         \n",
      "__________________________________________________________________________________________________\n",
      "block_5_expand (Conv2D)         (None, 20, 20, 192)  6144        block_4_add[0][0]                \n",
      "__________________________________________________________________________________________________\n",
      "block_5_expand_BN (BatchNormali (None, 20, 20, 192)  768         block_5_expand[0][0]             \n",
      "__________________________________________________________________________________________________\n",
      "block_5_expand_relu (ReLU)      (None, 20, 20, 192)  0           block_5_expand_BN[0][0]          \n",
      "__________________________________________________________________________________________________\n",
      "block_5_depthwise (DepthwiseCon (None, 20, 20, 192)  1728        block_5_expand_relu[0][0]        \n",
      "__________________________________________________________________________________________________\n",
      "block_5_depthwise_BN (BatchNorm (None, 20, 20, 192)  768         block_5_depthwise[0][0]          \n",
      "__________________________________________________________________________________________________\n",
      "block_5_depthwise_relu (ReLU)   (None, 20, 20, 192)  0           block_5_depthwise_BN[0][0]       \n",
      "__________________________________________________________________________________________________\n",
      "block_5_project (Conv2D)        (None, 20, 20, 32)   6144        block_5_depthwise_relu[0][0]     \n",
      "__________________________________________________________________________________________________\n",
      "block_5_project_BN (BatchNormal (None, 20, 20, 32)   128         block_5_project[0][0]            \n",
      "__________________________________________________________________________________________________\n",
      "block_5_add (Add)               (None, 20, 20, 32)   0           block_4_add[0][0]                \n",
      "                                                                 block_5_project_BN[0][0]         \n",
      "__________________________________________________________________________________________________\n",
      "block_6_expand (Conv2D)         (None, 20, 20, 192)  6144        block_5_add[0][0]                \n",
      "__________________________________________________________________________________________________\n",
      "block_6_expand_BN (BatchNormali (None, 20, 20, 192)  768         block_6_expand[0][0]             \n",
      "__________________________________________________________________________________________________\n",
      "block_6_expand_relu (ReLU)      (None, 20, 20, 192)  0           block_6_expand_BN[0][0]          \n",
      "__________________________________________________________________________________________________\n",
      "block_6_pad (ZeroPadding2D)     (None, 21, 21, 192)  0           block_6_expand_relu[0][0]        \n",
      "__________________________________________________________________________________________________\n",
      "block_6_depthwise (DepthwiseCon (None, 10, 10, 192)  1728        block_6_pad[0][0]                \n",
      "__________________________________________________________________________________________________\n",
      "block_6_depthwise_BN (BatchNorm (None, 10, 10, 192)  768         block_6_depthwise[0][0]          \n",
      "__________________________________________________________________________________________________\n",
      "block_6_depthwise_relu (ReLU)   (None, 10, 10, 192)  0           block_6_depthwise_BN[0][0]       \n",
      "__________________________________________________________________________________________________\n",
      "block_6_project (Conv2D)        (None, 10, 10, 64)   12288       block_6_depthwise_relu[0][0]     \n",
      "__________________________________________________________________________________________________\n",
      "block_6_project_BN (BatchNormal (None, 10, 10, 64)   256         block_6_project[0][0]            \n",
      "__________________________________________________________________________________________________\n",
      "block_7_expand (Conv2D)         (None, 10, 10, 384)  24576       block_6_project_BN[0][0]         \n",
      "__________________________________________________________________________________________________\n",
      "block_7_expand_BN (BatchNormali (None, 10, 10, 384)  1536        block_7_expand[0][0]             \n",
      "__________________________________________________________________________________________________\n",
      "block_7_expand_relu (ReLU)      (None, 10, 10, 384)  0           block_7_expand_BN[0][0]          \n",
      "__________________________________________________________________________________________________\n",
      "block_7_depthwise (DepthwiseCon (None, 10, 10, 384)  3456        block_7_expand_relu[0][0]        \n",
      "__________________________________________________________________________________________________\n",
      "block_7_depthwise_BN (BatchNorm (None, 10, 10, 384)  1536        block_7_depthwise[0][0]          \n",
      "__________________________________________________________________________________________________\n",
      "block_7_depthwise_relu (ReLU)   (None, 10, 10, 384)  0           block_7_depthwise_BN[0][0]       \n",
      "__________________________________________________________________________________________________\n",
      "block_7_project (Conv2D)        (None, 10, 10, 64)   24576       block_7_depthwise_relu[0][0]     \n",
      "__________________________________________________________________________________________________\n",
      "block_7_project_BN (BatchNormal (None, 10, 10, 64)   256         block_7_project[0][0]            \n",
      "__________________________________________________________________________________________________\n",
      "block_7_add (Add)               (None, 10, 10, 64)   0           block_6_project_BN[0][0]         \n",
      "                                                                 block_7_project_BN[0][0]         \n",
      "__________________________________________________________________________________________________\n",
      "block_8_expand (Conv2D)         (None, 10, 10, 384)  24576       block_7_add[0][0]                \n",
      "__________________________________________________________________________________________________\n",
      "block_8_expand_BN (BatchNormali (None, 10, 10, 384)  1536        block_8_expand[0][0]             \n",
      "__________________________________________________________________________________________________\n",
      "block_8_expand_relu (ReLU)      (None, 10, 10, 384)  0           block_8_expand_BN[0][0]          \n",
      "__________________________________________________________________________________________________\n",
      "block_8_depthwise (DepthwiseCon (None, 10, 10, 384)  3456        block_8_expand_relu[0][0]        \n",
      "__________________________________________________________________________________________________\n",
      "block_8_depthwise_BN (BatchNorm (None, 10, 10, 384)  1536        block_8_depthwise[0][0]          \n",
      "__________________________________________________________________________________________________\n",
      "block_8_depthwise_relu (ReLU)   (None, 10, 10, 384)  0           block_8_depthwise_BN[0][0]       \n",
      "__________________________________________________________________________________________________\n",
      "block_8_project (Conv2D)        (None, 10, 10, 64)   24576       block_8_depthwise_relu[0][0]     \n",
      "__________________________________________________________________________________________________\n",
      "block_8_project_BN (BatchNormal (None, 10, 10, 64)   256         block_8_project[0][0]            \n",
      "__________________________________________________________________________________________________\n",
      "block_8_add (Add)               (None, 10, 10, 64)   0           block_7_add[0][0]                \n",
      "                                                                 block_8_project_BN[0][0]         \n",
      "__________________________________________________________________________________________________\n",
      "block_9_expand (Conv2D)         (None, 10, 10, 384)  24576       block_8_add[0][0]                \n",
      "__________________________________________________________________________________________________\n",
      "block_9_expand_BN (BatchNormali (None, 10, 10, 384)  1536        block_9_expand[0][0]             \n",
      "__________________________________________________________________________________________________\n",
      "block_9_expand_relu (ReLU)      (None, 10, 10, 384)  0           block_9_expand_BN[0][0]          \n",
      "__________________________________________________________________________________________________\n",
      "block_9_depthwise (DepthwiseCon (None, 10, 10, 384)  3456        block_9_expand_relu[0][0]        \n",
      "__________________________________________________________________________________________________\n",
      "block_9_depthwise_BN (BatchNorm (None, 10, 10, 384)  1536        block_9_depthwise[0][0]          \n",
      "__________________________________________________________________________________________________\n",
      "block_9_depthwise_relu (ReLU)   (None, 10, 10, 384)  0           block_9_depthwise_BN[0][0]       \n",
      "__________________________________________________________________________________________________\n",
      "block_9_project (Conv2D)        (None, 10, 10, 64)   24576       block_9_depthwise_relu[0][0]     \n",
      "__________________________________________________________________________________________________\n",
      "block_9_project_BN (BatchNormal (None, 10, 10, 64)   256         block_9_project[0][0]            \n",
      "__________________________________________________________________________________________________\n",
      "block_9_add (Add)               (None, 10, 10, 64)   0           block_8_add[0][0]                \n",
      "                                                                 block_9_project_BN[0][0]         \n",
      "__________________________________________________________________________________________________\n",
      "block_10_expand (Conv2D)        (None, 10, 10, 384)  24576       block_9_add[0][0]                \n",
      "__________________________________________________________________________________________________\n",
      "block_10_expand_BN (BatchNormal (None, 10, 10, 384)  1536        block_10_expand[0][0]            \n",
      "__________________________________________________________________________________________________\n",
      "block_10_expand_relu (ReLU)     (None, 10, 10, 384)  0           block_10_expand_BN[0][0]         \n",
      "__________________________________________________________________________________________________\n",
      "block_10_depthwise (DepthwiseCo (None, 10, 10, 384)  3456        block_10_expand_relu[0][0]       \n",
      "__________________________________________________________________________________________________\n",
      "block_10_depthwise_BN (BatchNor (None, 10, 10, 384)  1536        block_10_depthwise[0][0]         \n",
      "__________________________________________________________________________________________________\n",
      "block_10_depthwise_relu (ReLU)  (None, 10, 10, 384)  0           block_10_depthwise_BN[0][0]      \n",
      "__________________________________________________________________________________________________\n",
      "block_10_project (Conv2D)       (None, 10, 10, 96)   36864       block_10_depthwise_relu[0][0]    \n",
      "__________________________________________________________________________________________________\n",
      "block_10_project_BN (BatchNorma (None, 10, 10, 96)   384         block_10_project[0][0]           \n",
      "__________________________________________________________________________________________________\n",
      "block_11_expand (Conv2D)        (None, 10, 10, 576)  55296       block_10_project_BN[0][0]        \n",
      "__________________________________________________________________________________________________\n",
      "block_11_expand_BN (BatchNormal (None, 10, 10, 576)  2304        block_11_expand[0][0]            \n",
      "__________________________________________________________________________________________________\n",
      "block_11_expand_relu (ReLU)     (None, 10, 10, 576)  0           block_11_expand_BN[0][0]         \n",
      "__________________________________________________________________________________________________\n",
      "block_11_depthwise (DepthwiseCo (None, 10, 10, 576)  5184        block_11_expand_relu[0][0]       \n",
      "__________________________________________________________________________________________________\n",
      "block_11_depthwise_BN (BatchNor (None, 10, 10, 576)  2304        block_11_depthwise[0][0]         \n",
      "__________________________________________________________________________________________________\n",
      "block_11_depthwise_relu (ReLU)  (None, 10, 10, 576)  0           block_11_depthwise_BN[0][0]      \n",
      "__________________________________________________________________________________________________\n",
      "block_11_project (Conv2D)       (None, 10, 10, 96)   55296       block_11_depthwise_relu[0][0]    \n",
      "__________________________________________________________________________________________________\n",
      "block_11_project_BN (BatchNorma (None, 10, 10, 96)   384         block_11_project[0][0]           \n",
      "__________________________________________________________________________________________________\n",
      "block_11_add (Add)              (None, 10, 10, 96)   0           block_10_project_BN[0][0]        \n",
      "                                                                 block_11_project_BN[0][0]        \n",
      "__________________________________________________________________________________________________\n",
      "block_12_expand (Conv2D)        (None, 10, 10, 576)  55296       block_11_add[0][0]               \n",
      "__________________________________________________________________________________________________\n",
      "block_12_expand_BN (BatchNormal (None, 10, 10, 576)  2304        block_12_expand[0][0]            \n",
      "__________________________________________________________________________________________________\n",
      "block_12_expand_relu (ReLU)     (None, 10, 10, 576)  0           block_12_expand_BN[0][0]         \n",
      "__________________________________________________________________________________________________\n",
      "block_12_depthwise (DepthwiseCo (None, 10, 10, 576)  5184        block_12_expand_relu[0][0]       \n",
      "__________________________________________________________________________________________________\n",
      "block_12_depthwise_BN (BatchNor (None, 10, 10, 576)  2304        block_12_depthwise[0][0]         \n",
      "__________________________________________________________________________________________________\n",
      "block_12_depthwise_relu (ReLU)  (None, 10, 10, 576)  0           block_12_depthwise_BN[0][0]      \n",
      "__________________________________________________________________________________________________\n",
      "block_12_project (Conv2D)       (None, 10, 10, 96)   55296       block_12_depthwise_relu[0][0]    \n",
      "__________________________________________________________________________________________________\n",
      "block_12_project_BN (BatchNorma (None, 10, 10, 96)   384         block_12_project[0][0]           \n",
      "__________________________________________________________________________________________________\n",
      "block_12_add (Add)              (None, 10, 10, 96)   0           block_11_add[0][0]               \n",
      "                                                                 block_12_project_BN[0][0]        \n",
      "__________________________________________________________________________________________________\n",
      "block_13_expand (Conv2D)        (None, 10, 10, 576)  55296       block_12_add[0][0]               \n",
      "__________________________________________________________________________________________________\n",
      "block_13_expand_BN (BatchNormal (None, 10, 10, 576)  2304        block_13_expand[0][0]            \n",
      "__________________________________________________________________________________________________\n",
      "block_13_expand_relu (ReLU)     (None, 10, 10, 576)  0           block_13_expand_BN[0][0]         \n",
      "__________________________________________________________________________________________________\n",
      "block_13_pad (ZeroPadding2D)    (None, 11, 11, 576)  0           block_13_expand_relu[0][0]       \n",
      "__________________________________________________________________________________________________\n",
      "block_13_depthwise (DepthwiseCo (None, 5, 5, 576)    5184        block_13_pad[0][0]               \n",
      "__________________________________________________________________________________________________\n",
      "block_13_depthwise_BN (BatchNor (None, 5, 5, 576)    2304        block_13_depthwise[0][0]         \n",
      "__________________________________________________________________________________________________\n",
      "block_13_depthwise_relu (ReLU)  (None, 5, 5, 576)    0           block_13_depthwise_BN[0][0]      \n",
      "__________________________________________________________________________________________________\n",
      "block_13_project (Conv2D)       (None, 5, 5, 160)    92160       block_13_depthwise_relu[0][0]    \n",
      "__________________________________________________________________________________________________\n",
      "block_13_project_BN (BatchNorma (None, 5, 5, 160)    640         block_13_project[0][0]           \n",
      "__________________________________________________________________________________________________\n",
      "block_14_expand (Conv2D)        (None, 5, 5, 960)    153600      block_13_project_BN[0][0]        \n",
      "__________________________________________________________________________________________________\n",
      "block_14_expand_BN (BatchNormal (None, 5, 5, 960)    3840        block_14_expand[0][0]            \n",
      "__________________________________________________________________________________________________\n",
      "block_14_expand_relu (ReLU)     (None, 5, 5, 960)    0           block_14_expand_BN[0][0]         \n",
      "__________________________________________________________________________________________________\n",
      "block_14_depthwise (DepthwiseCo (None, 5, 5, 960)    8640        block_14_expand_relu[0][0]       \n",
      "__________________________________________________________________________________________________\n",
      "block_14_depthwise_BN (BatchNor (None, 5, 5, 960)    3840        block_14_depthwise[0][0]         \n",
      "__________________________________________________________________________________________________\n",
      "block_14_depthwise_relu (ReLU)  (None, 5, 5, 960)    0           block_14_depthwise_BN[0][0]      \n",
      "__________________________________________________________________________________________________\n",
      "block_14_project (Conv2D)       (None, 5, 5, 160)    153600      block_14_depthwise_relu[0][0]    \n",
      "__________________________________________________________________________________________________\n",
      "block_14_project_BN (BatchNorma (None, 5, 5, 160)    640         block_14_project[0][0]           \n",
      "__________________________________________________________________________________________________\n",
      "block_14_add (Add)              (None, 5, 5, 160)    0           block_13_project_BN[0][0]        \n",
      "                                                                 block_14_project_BN[0][0]        \n",
      "__________________________________________________________________________________________________\n",
      "block_15_expand (Conv2D)        (None, 5, 5, 960)    153600      block_14_add[0][0]               \n",
      "__________________________________________________________________________________________________\n",
      "block_15_expand_BN (BatchNormal (None, 5, 5, 960)    3840        block_15_expand[0][0]            \n",
      "__________________________________________________________________________________________________\n",
      "block_15_expand_relu (ReLU)     (None, 5, 5, 960)    0           block_15_expand_BN[0][0]         \n",
      "__________________________________________________________________________________________________\n",
      "block_15_depthwise (DepthwiseCo (None, 5, 5, 960)    8640        block_15_expand_relu[0][0]       \n",
      "__________________________________________________________________________________________________\n",
      "block_15_depthwise_BN (BatchNor (None, 5, 5, 960)    3840        block_15_depthwise[0][0]         \n",
      "__________________________________________________________________________________________________\n",
      "block_15_depthwise_relu (ReLU)  (None, 5, 5, 960)    0           block_15_depthwise_BN[0][0]      \n",
      "__________________________________________________________________________________________________\n",
      "block_15_project (Conv2D)       (None, 5, 5, 160)    153600      block_15_depthwise_relu[0][0]    \n",
      "__________________________________________________________________________________________________\n",
      "block_15_project_BN (BatchNorma (None, 5, 5, 160)    640         block_15_project[0][0]           \n",
      "__________________________________________________________________________________________________\n",
      "block_15_add (Add)              (None, 5, 5, 160)    0           block_14_add[0][0]               \n",
      "                                                                 block_15_project_BN[0][0]        \n",
      "__________________________________________________________________________________________________\n",
      "block_16_expand (Conv2D)        (None, 5, 5, 960)    153600      block_15_add[0][0]               \n",
      "__________________________________________________________________________________________________\n",
      "block_16_expand_BN (BatchNormal (None, 5, 5, 960)    3840        block_16_expand[0][0]            \n",
      "__________________________________________________________________________________________________\n",
      "block_16_expand_relu (ReLU)     (None, 5, 5, 960)    0           block_16_expand_BN[0][0]         \n",
      "__________________________________________________________________________________________________\n",
      "block_16_depthwise (DepthwiseCo (None, 5, 5, 960)    8640        block_16_expand_relu[0][0]       \n",
      "__________________________________________________________________________________________________\n",
      "block_16_depthwise_BN (BatchNor (None, 5, 5, 960)    3840        block_16_depthwise[0][0]         \n",
      "__________________________________________________________________________________________________\n",
      "block_16_depthwise_relu (ReLU)  (None, 5, 5, 960)    0           block_16_depthwise_BN[0][0]      \n",
      "__________________________________________________________________________________________________\n",
      "block_16_project (Conv2D)       (None, 5, 5, 320)    307200      block_16_depthwise_relu[0][0]    \n",
      "__________________________________________________________________________________________________\n",
      "block_16_project_BN (BatchNorma (None, 5, 5, 320)    1280        block_16_project[0][0]           \n",
      "__________________________________________________________________________________________________\n",
      "Conv_1 (Conv2D)                 (None, 5, 5, 1280)   409600      block_16_project_BN[0][0]        \n",
      "__________________________________________________________________________________________________\n",
      "Conv_1_bn (BatchNormalization)  (None, 5, 5, 1280)   5120        Conv_1[0][0]                     \n",
      "__________________________________________________________________________________________________\n",
      "out_relu (ReLU)                 (None, 5, 5, 1280)   0           Conv_1_bn[0][0]                  \n",
      "__________________________________________________________________________________________________\n",
      "global_max_pooling2d (GlobalMax (None, 1280)         0           out_relu[0][0]                   \n",
      "==================================================================================================\n",
      "Total params: 2,257,984\n",
      "Trainable params: 2,223,872\n",
      "Non-trainable params: 34,112\n",
      "__________________________________________________________________________________________________\n"
     ]
    }
   ],
   "source": [
    "efficient_net_b1_body = get_ENB1_body()\n",
    "efficient_net_b1_body.summary()"
   ]
  },
  {
   "cell_type": "code",
   "execution_count": 5,
   "id": "ruled-content",
   "metadata": {
    "deletable": false,
    "editable": false,
    "nbgrader": {
     "cell_type": "code",
     "checksum": "0199010fb72185b3e8a9970bd8411c63",
     "grade": false,
     "grade_id": "cell-dd46ca4531e3c792",
     "locked": true,
     "schema_version": 3,
     "solution": false,
     "task": false
    }
   },
   "outputs": [],
   "source": [
    "def transfered_model(pretrained_model):\n",
    "    model = Sequential()\n",
    "    model.add(pretrained_model)\n",
    "    model.add(Flatten())\n",
    "    model.add(BatchNormalization())\n",
    "    model.add(Dense(256, activation='relu'))\n",
    "    model.add(Dropout(0.3))\n",
    "    model.add(BatchNormalization())\n",
    "    model.add(Dense(128, activation='relu'))\n",
    "    model.add(Dropout(0.3))\n",
    "    model.add(BatchNormalization())\n",
    "    model.add(Dense(64, activation='relu'))\n",
    "    model.add(Dropout(0.3))\n",
    "    model.add(Dense(10, activation='softmax'))\n",
    "    return model"
   ]
  },
  {
   "cell_type": "code",
   "execution_count": 6,
   "id": "choice-farmer",
   "metadata": {
    "deletable": false,
    "editable": false,
    "nbgrader": {
     "cell_type": "code",
     "checksum": "c7c9ba248e723747252c9d409b41a076",
     "grade": false,
     "grade_id": "cell-8371bce84e5ed677",
     "locked": true,
     "schema_version": 3,
     "solution": false,
     "task": false
    }
   },
   "outputs": [],
   "source": [
    "tran_model = transfered_model(efficient_net_b1_body)"
   ]
  },
  {
   "cell_type": "code",
   "execution_count": 7,
   "id": "fundamental-possibility",
   "metadata": {
    "deletable": false,
    "editable": false,
    "nbgrader": {
     "cell_type": "code",
     "checksum": "6c490728f45aeda6811ff599dfc911b3",
     "grade": false,
     "grade_id": "cell-862289f55a2855eb",
     "locked": true,
     "schema_version": 3,
     "solution": false,
     "task": false
    }
   },
   "outputs": [
    {
     "name": "stdout",
     "output_type": "stream",
     "text": [
      "Model: \"sequential\"\n",
      "_________________________________________________________________\n",
      "Layer (type)                 Output Shape              Param #   \n",
      "=================================================================\n",
      "mobilenetv2_1.00_160 (Model) (None, 1280)              2257984   \n",
      "_________________________________________________________________\n",
      "flatten (Flatten)            (None, 1280)              0         \n",
      "_________________________________________________________________\n",
      "batch_normalization (BatchNo (None, 1280)              5120      \n",
      "_________________________________________________________________\n",
      "dense (Dense)                (None, 256)               327936    \n",
      "_________________________________________________________________\n",
      "dropout (Dropout)            (None, 256)               0         \n",
      "_________________________________________________________________\n",
      "batch_normalization_1 (Batch (None, 256)               1024      \n",
      "_________________________________________________________________\n",
      "dense_1 (Dense)              (None, 128)               32896     \n",
      "_________________________________________________________________\n",
      "dropout_1 (Dropout)          (None, 128)               0         \n",
      "_________________________________________________________________\n",
      "batch_normalization_2 (Batch (None, 128)               512       \n",
      "_________________________________________________________________\n",
      "dense_2 (Dense)              (None, 64)                8256      \n",
      "_________________________________________________________________\n",
      "dropout_2 (Dropout)          (None, 64)                0         \n",
      "_________________________________________________________________\n",
      "dense_3 (Dense)              (None, 10)                650       \n",
      "=================================================================\n",
      "Total params: 2,634,378\n",
      "Trainable params: 2,596,938\n",
      "Non-trainable params: 37,440\n",
      "_________________________________________________________________\n"
     ]
    }
   ],
   "source": [
    "tran_model.summary()"
   ]
  },
  {
   "cell_type": "code",
   "execution_count": 8,
   "id": "greenhouse-shelter",
   "metadata": {},
   "outputs": [],
   "source": [
    "# free ENB1 weights\n",
    "tran_model.layers[0].trainable = False"
   ]
  },
  {
   "cell_type": "code",
   "execution_count": 9,
   "id": "mighty-parking",
   "metadata": {
    "deletable": false,
    "editable": false,
    "nbgrader": {
     "cell_type": "code",
     "checksum": "233341af286aa5f5371aad925ad43104",
     "grade": false,
     "grade_id": "cell-fbf20d166e9b45e9",
     "locked": true,
     "schema_version": 3,
     "solution": false,
     "task": false
    }
   },
   "outputs": [],
   "source": [
    "# resize image to the input of ENB1\n",
    "def preprocess_for_transfer(image, label):\n",
    "    image = tf.cast(image, tf.float32)\n",
    "    image = tf.keras.applications.mobilenet_v2.preprocess_input(image)\n",
    "    image = tf.image.resize_with_pad(image, 160, 160)\n",
    "    return image, label\n",
    "\n",
    "def create_transfer_dataset(x,y):\n",
    "    dataset = tf.data.Dataset.from_tensor_slices((x,y))\n",
    "    dataset = dataset.map(preprocess_for_transfer)\n",
    "    dataset = dataset.batch(128)\n",
    "    dataset = dataset.prefetch(256)\n",
    "    return dataset"
   ]
  },
  {
   "cell_type": "code",
   "execution_count": 10,
   "id": "experimental-aquatic",
   "metadata": {
    "deletable": false,
    "editable": false,
    "nbgrader": {
     "cell_type": "code",
     "checksum": "f712c4c1921ef5f7b9772a21ac9fa9fb",
     "grade": false,
     "grade_id": "cell-3992b6ca1adb7366",
     "locked": true,
     "schema_version": 3,
     "solution": false,
     "task": false
    }
   },
   "outputs": [],
   "source": [
    "(x_train, y_train), (x_test, y_test) = cifar10.load_data()\n",
    "train_dataset_resized = create_transfer_dataset(x_train, y_train)\n",
    "test_dataset_resized = create_transfer_dataset(x_test, y_test)"
   ]
  },
  {
   "cell_type": "code",
   "execution_count": 13,
   "id": "approximate-roller",
   "metadata": {
    "deletable": false,
    "editable": false,
    "nbgrader": {
     "cell_type": "code",
     "checksum": "4c8dd52dd77ed40e9ba642c39e6d1677",
     "grade": false,
     "grade_id": "cell-c2702ac797ba4ad8",
     "locked": true,
     "schema_version": 3,
     "solution": false,
     "task": false
    }
   },
   "outputs": [],
   "source": [
    "# compile model\n",
    "compile_model(tran_model)"
   ]
  },
  {
   "cell_type": "code",
   "execution_count": null,
   "id": "multiple-sperm",
   "metadata": {
    "deletable": false,
    "editable": false,
    "nbgrader": {
     "cell_type": "code",
     "checksum": "6104d71a6ee2c287d94198e6a9781da3",
     "grade": false,
     "grade_id": "cell-e0e2ad818595f1d1",
     "locked": true,
     "schema_version": 3,
     "solution": false,
     "task": false
    }
   },
   "outputs": [],
   "source": [
    "# train model\n",
    "early_stop = EarlyStopping(patience=4, monitor='val_accuracy')\n",
    "tran_history = tran_model.fit(train_dataset_resized, epochs=30, validation_data=test_dataset_resized, callbacks=[early_stop])"
   ]
  },
  {
   "cell_type": "code",
   "execution_count": null,
   "id": "activated-anxiety",
   "metadata": {
    "deletable": false,
    "editable": false,
    "nbgrader": {
     "cell_type": "code",
     "checksum": "852ea376e9cc28a09272d20dda78d02a",
     "grade": false,
     "grade_id": "cell-32893ad0dcfed252",
     "locked": true,
     "schema_version": 3,
     "solution": false,
     "task": false
    }
   },
   "outputs": [],
   "source": [
    "df = pd.DataFrame(tran_history.history)\n",
    "df.head()"
   ]
  },
  {
   "cell_type": "code",
   "execution_count": null,
   "id": "artificial-drain",
   "metadata": {
    "deletable": false,
    "editable": false,
    "nbgrader": {
     "cell_type": "code",
     "checksum": "d566ec4c00c547d44a98b648438d8d3f",
     "grade": false,
     "grade_id": "cell-9df6d2cfead61763",
     "locked": true,
     "schema_version": 3,
     "solution": false,
     "task": false
    }
   },
   "outputs": [],
   "source": [
    "# plot loss and accuracy against epoch\n",
    "fig, axes = plt.subplots(nrows=1, ncols=2, figsize=(8,3.5))\n",
    "df.plot(y=['loss', 'val_loss'], ax=axes[0], title='loss vs epcoh')\n",
    "df.plot(y=['accuracy', 'val_accuracy'], ax=axes[1], title='accuracy vs epoch')\n",
    "axes[0].set_xlabel('epoch')\n",
    "axes[0].set_ylabel('loss')\n",
    "axes[1].set_xlabel('epoch')\n",
    "axes[1].set_ylabel('accuracy')\n",
    "plt.subplots_adjust(wspace=0.5)"
   ]
  },
  {
   "cell_type": "code",
   "execution_count": null,
   "id": "disturbed-talent",
   "metadata": {
    "deletable": false,
    "editable": false,
    "nbgrader": {
     "cell_type": "code",
     "checksum": "5c5d32b3439891e1d6c157d09945aa03",
     "grade": false,
     "grade_id": "cell-1e190e1523002543",
     "locked": true,
     "schema_version": 3,
     "solution": false,
     "task": false
    }
   },
   "outputs": [],
   "source": [
    "# evaluate the model on the test set\n",
    "tran_model.evaluate(test_dataset_resized, verbose=2)"
   ]
  },
  {
   "cell_type": "markdown",
   "id": "considerable-external",
   "metadata": {
    "deletable": false,
    "editable": false,
    "nbgrader": {
     "cell_type": "markdown",
     "checksum": "754d5d225c07ff097edb896ff3badc37",
     "grade": false,
     "grade_id": "cell-3058f1a327bdb630",
     "locked": true,
     "schema_version": 3,
     "solution": false,
     "task": false
    }
   },
   "source": [
    "By using transfer learning, we pushed the accuracy to over 70%! Note that now the state of the art benchmark accuracy on this task is [99.70%](https://paperswithcode.com/sota/image-classification-on-cifar-10)."
   ]
  },
  {
   "cell_type": "markdown",
   "id": "ambient-speech",
   "metadata": {
    "deletable": false,
    "editable": false,
    "nbgrader": {
     "cell_type": "markdown",
     "checksum": "b9895da88de1bb4395943f0f07ee6aa4",
     "grade": false,
     "grade_id": "cell-461fb842f147ac03",
     "locked": true,
     "schema_version": 3,
     "solution": false,
     "task": false
    }
   },
   "source": [
    "<a name='da'></a>\n",
    "# Graded Function\n",
    "## Data Augmentation\n",
    "Complete the create_image_generator function below. You should:\n",
    "* create an ImageDataGenerator instance\n",
    "* initialize the ImageDataGenerator instance with: horizontal_flip=True, vertical_flip=True, rotation_range=180, rescale=1/255.0\n",
    "* return this ImageDataGenerator instance"
   ]
  },
  {
   "cell_type": "code",
   "execution_count": 11,
   "id": "naval-resident",
   "metadata": {
    "deletable": false,
    "nbgrader": {
     "cell_type": "code",
     "checksum": "f1944e4911cea04271c358cfde48bd1b",
     "grade": false,
     "grade_id": "cell-e8f73c60d2d5dab5",
     "locked": false,
     "schema_version": 3,
     "solution": true,
     "task": false
    }
   },
   "outputs": [],
   "source": [
    "def create_image_generator():\n",
    "    # YOUR CODE HERE\n",
    "    imageData = ImageDataGenerator(rescale = 1.0/255.0, horizontal_flip=True, vertical_flip=True, rotation_range=180)\n",
    "    return imageData"
   ]
  },
  {
   "cell_type": "code",
   "execution_count": 12,
   "id": "practical-colony",
   "metadata": {
    "deletable": false,
    "editable": false,
    "nbgrader": {
     "cell_type": "code",
     "checksum": "91df5d9ad238d1f0b3121cb4598fa700",
     "grade": true,
     "grade_id": "cell-da6fe67350d78f3d",
     "locked": true,
     "points": 1,
     "schema_version": 3,
     "solution": false,
     "task": false
    }
   },
   "outputs": [],
   "source": [
    "# this cell contains a hiddent test, don't delete this cell"
   ]
  },
  {
   "cell_type": "code",
   "execution_count": 13,
   "id": "retired-monitoring",
   "metadata": {},
   "outputs": [],
   "source": [
    "img_gen = create_image_generator()"
   ]
  },
  {
   "cell_type": "code",
   "execution_count": 14,
   "id": "prepared-superior",
   "metadata": {
    "deletable": false,
    "editable": false,
    "nbgrader": {
     "cell_type": "code",
     "checksum": "871dfe789c95e4c4e00da4a978c4fb41",
     "grade": false,
     "grade_id": "cell-383223f3264ad4fd",
     "locked": true,
     "schema_version": 3,
     "solution": false,
     "task": false
    }
   },
   "outputs": [],
   "source": [
    "(x_train, y_train), (x_test, y_test) = cifar10.load_data()"
   ]
  },
  {
   "cell_type": "code",
   "execution_count": 15,
   "id": "fatty-procurement",
   "metadata": {},
   "outputs": [
    {
     "data": {
      "image/png": "[encoded data removed]",
      "text/plain": [
       "<Figure size 1080x1080 with 5 Axes>"
      ]
     },
     "metadata": {},
     "output_type": "display_data"
    }
   ],
   "source": [
    "# show the first train images and their augmented iamges\n",
    "classes = [\"airplane\",\"automobile\", \"bird\", \"cat\", \"deer\",\n",
    "          \"dog\", \"frog\", \"horse\", \"ship\", \"truck\"]\n",
    "fig, axs = plt.subplots(1,5, figsize=(15,15))\n",
    "for i in range(5):\n",
    "    if i == 0:\n",
    "        axs[i].imshow(x_train[i])\n",
    "    else:\n",
    "         axs[i].imshow(img_gen.random_transform(x_train[0]))\n",
    "    axs[i].set_title(classes[y_train[0][0]])\n",
    "    axs[i].set_xticks([])\n",
    "    axs[i].set_yticks([])\n",
    "plt.show()"
   ]
  },
  {
   "cell_type": "markdown",
   "id": "funny-simulation",
   "metadata": {
    "deletable": false,
    "editable": false,
    "nbgrader": {
     "cell_type": "markdown",
     "checksum": "17ff091830e3066344f3e0b71721a0f8",
     "grade": false,
     "grade_id": "cell-6198cc6cfafde568",
     "locked": true,
     "schema_version": 3,
     "solution": false,
     "task": false
    }
   },
   "source": [
    "# Try to play with data augmentation and use it to improve our classification model!"
   ]
  },
  {
   "cell_type": "code",
   "execution_count": null,
   "id": "animal-smith",
   "metadata": {},
   "outputs": [],
   "source": []
  }
 ],
 "metadata": {
  "kernelspec": {
   "display_name": "Python 3",
   "language": "python",
   "name": "python3"
  },
  "language_info": {
   "codemirror_mode": {
    "name": "ipython",
    "version": 3
   },
   "file_extension": ".py",
   "mimetype": "text/x-python",
   "name": "python",
   "nbconvert_exporter": "python",
   "pygments_lexer": "ipython3",
   "version": "3.6.12"
  }
 },
 "nbformat": 4,
 "nbformat_minor": 5
}
